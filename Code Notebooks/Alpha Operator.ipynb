{
 "cells": [
  {
   "cell_type": "code",
   "execution_count": 12,
   "metadata": {},
   "outputs": [],
   "source": [
    "%display latex\n",
    "import code as pc\n",
    "import numpy as np\n",
    "Partitions.options.latex='list'"
   ]
  },
  {
   "cell_type": "markdown",
   "metadata": {},
   "source": [
    "# to_fock ($\\lambda$):\n",
    "\n",
    "Takes a partition $$\\lambda = \\lambda_1 + \\cdots + \\lambda_\\ell$$ of $n$, returns the fock vector $\\mathbf{v}$ which satisfies $$\\mathbf{v}_i = \\lambda_i - i.$$\n",
    "\n",
    "*(Note that $i+1$ is needed everywhere due to Python's 0-based indexing.)*\n",
    "\n",
    "# to_partition ($\\mathbf{v}$):\n",
    "\n",
    "Takes a fock vector $\\mathbf{v}$ and returns the partition $\\lambda$ satisfying the above condition."
   ]
  },
  {
   "cell_type": "code",
   "execution_count": 13,
   "metadata": {},
   "outputs": [],
   "source": [
    "# Given a partition \n",
    "def to_fock(partition):\n",
    "    return tuple([(x-(i+1)) for i, x in enumerate(partition)])\n",
    "\n",
    "def to_fock_singleton(partition):\n",
    "    v = to_fock(partition)\n",
    "    return([(1, v)])\n",
    "\n",
    "def to_partition(fock_vector):\n",
    "    return Partition([(x+(i+1)) for i, x in enumerate(fock_vector)])"
   ]
  },
  {
   "cell_type": "markdown",
   "metadata": {},
   "source": [
    "# num_swaps (L):\n",
    "\n",
    "Takes a list $L$, and produces a sorted list $L'$ that is obtained from $L$ by using only transpositions. Also keeps track of $s$, the number of transpositions needed, and produces the following sign:\n",
    "$$\n",
    "\\mathrm{sign}(s) = \\begin{cases}-1 & \\text{if } s \\text{ is even} \\\\ +1 & \\text{else} \\end{cases}\n",
    "$$"
   ]
  },
  {
   "cell_type": "code",
   "execution_count": 31,
   "metadata": {},
   "outputs": [],
   "source": [
    "# Take a list, sort it into weakly decreasing order using only\n",
    "# transpositions, and count the number of transpositions needed.\n",
    "def num_swaps(L):\n",
    "    Lp = copy(L)\n",
    "    swapcount = 0\n",
    "    for j in range(len(Lp)):\n",
    "        for i in range(1, len(Lp)-j):\n",
    "            if Lp[i-1] > Lp[i]:\n",
    "                swapcount += 1\n",
    "                Lp[i-1], Lp[i] = Lp[i], Lp[i-1]\n",
    "    sign = 1 if swapcount % 2 == 0 else -1\n",
    "    Lpp = list(Lp)\n",
    "    Lpp.reverse()\n",
    "    return sign, tuple(Lpp)"
   ]
  },
  {
   "cell_type": "markdown",
   "metadata": {},
   "source": [
    "# $\\alpha_k(\\mathbf{v}_\\lambda)$\n",
    "\n",
    "Given a fock vector $\\mathbf{v}_\\lambda = [v_1, v_2, \\cdots, v_\\ell]$, first computes the application\n",
    "$$\n",
    "\\begin{align*}\n",
    "v_1 + \\mathbf{k} &\\wedge v_2     &\\wedge \\cdots &\\wedge v_\\ell \\\\\n",
    "v_1     &\\wedge v_2 + \\mathbf{k} &\\wedge \\cdots &\\wedge v_\\ell \\\\\n",
    "v_1 &\\wedge v_2 &\\wedge \\cdots &\\wedge v_\\ell + \\mathbf{k}\n",
    "\\end{align*}\n",
    "$$\n",
    "\n",
    "We do this by stacking $\\mathbf{v}$ as the rows of a matrix, and subtracting the scalar matrix $kI$.\n",
    "\n",
    "We then proceed to wedge each summand above back into weakly decreasing order. \n",
    "\n",
    "- Noting that any summand with a repeated entry will wedge to zero, we delete it.\n",
    "\n",
    "- We use the *num_swaps* function to sort each vector using transpositions, tracking the sign of the transpositions.\n"
   ]
  },
  {
   "cell_type": "code",
   "execution_count": 49,
   "metadata": {},
   "outputs": [],
   "source": [
    "def vacuum(n):\n",
    "    return([-i-1 for i in range(n)])\n",
    "\n",
    "def partial_vacuum(n, k):\n",
    "    l1 = vector(vaccum(n))\n",
    "    l2 = vector(vaccum(k) + [ZZ(0)]*(n-k))\n",
    "    return((l1 - l2))\n",
    "\n",
    "def alpha(k, v_lambda):\n",
    "    \n",
    "    # Length of fock vector\n",
    "    n = len(v_lambda)\n",
    "                \n",
    "    v_lambda\n",
    "    # Stack n copies of v_lambda up as the rows of an nxn matrix\n",
    "    V = Matrix([ v_lambda for i in range(n) ])\n",
    "    \n",
    "    # A scalar matrix for k\n",
    "    kI = identity_matrix(n) * k\n",
    "    \n",
    "    # Subtract k off of the diagonal\n",
    "    M = V - kI\n",
    "    \n",
    "    # Sorted vectors, with the (signs of the) number of transpositions\n",
    "    # Throw away vectors with repeated entries, since these\n",
    "    # wedge to zero.\n",
    "    L = [num_swaps(R) for R in M.rows() if len(R) == len(set(R))]\n",
    "\n",
    "    return(L)\n",
    "\n",
    "def distribute(lin_comb):\n",
    "    outs = []\n",
    "    for vs in lin_comb:\n",
    "        c0 = vs[0]\n",
    "        for v in vs[1]:\n",
    "            ci, vi = v\n",
    "            outs.append((ci * c0, vi ))\n",
    "    return(outs)\n",
    "\n",
    "def collect_terms(list_of_vs):\n",
    "    D = dict()\n",
    "    for i, x in enumerate(list_of_vs):\n",
    "        c_i, v = x\n",
    "        D[v] = c_i if v not in D.keys() else D[v] + c_i\n",
    "    return([(D[i], i) for i in D if D[i] != 0])\n",
    "\n",
    "def alpha_bar(k, ls):\n",
    "    lin_comb = [(ci, alpha(k, vi)) for ci, vi in ls]\n",
    "    reduced = distribute(lin_comb)\n",
    "    more_reduced = collect_terms(reduced)\n",
    "    return(more_reduced)"
   ]
  },
  {
   "cell_type": "code",
   "execution_count": 42,
   "metadata": {
    "scrolled": true
   },
   "outputs": [
    {
     "data": {
      "text/html": [
       "<html><script type=\"math/tex; mode=display\">\\newcommand{\\Bold}[1]{\\mathbf{#1}}\\left[\\left(1, \\left(2, -1, -2\\right)\\right)\\right]</script></html>"
      ],
      "text/plain": [
       "[(1, (2, -1, -2))]"
      ]
     },
     "metadata": {},
     "output_type": "display_data"
    }
   ],
   "source": [
    "v_l = to_fock_singleton((3,1,1))\n",
    "show(v_l)"
   ]
  },
  {
   "cell_type": "code",
   "execution_count": 48,
   "metadata": {},
   "outputs": [
    {
     "data": {
      "text/html": [
       "<html><script type=\"math/tex; mode=display\">\\newcommand{\\Bold}[1]{\\mathbf{#1}}\\left[\\left(-1, \\left(4, -1, -2\\right)\\right), \\left(-1, \\left(2, 1, -2\\right)\\right), \\left(1, \\left(2, 0, -1\\right)\\right)\\right]</script></html>"
      ],
      "text/plain": [
       "[(-1, (4, -1, -2)), (-1, (2, 1, -2)), (1, (2, 0, -1))]"
      ]
     },
     "execution_count": 48,
     "metadata": {},
     "output_type": "execute_result"
    }
   ],
   "source": [
    "a2 = alpha(-2, v_l[0][1])\n",
    "a2"
   ]
  },
  {
   "cell_type": "code",
   "execution_count": 44,
   "metadata": {},
   "outputs": [
    {
     "data": {
      "text/html": [
       "<html><script type=\"math/tex; mode=display\">\\newcommand{\\Bold}[1]{\\mathbf{#1}}\\left[\\left(-1, \\left(2, -1, -2\\right)\\right), \\left(-1, \\left(2, -1, -2\\right)\\right), \\left(-1, \\left(2, -1, -2\\right)\\right)\\right]</script></html>"
      ],
      "text/plain": [
       "[(-1, (2, -1, -2)), (-1, (2, -1, -2)), (-1, (2, -1, -2))]"
      ]
     },
     "execution_count": 44,
     "metadata": {},
     "output_type": "execute_result"
    }
   ],
   "source": [
    "a2 = alpha(0, v_l[0][1])\n",
    "a2"
   ]
  },
  {
   "cell_type": "code",
   "execution_count": 52,
   "metadata": {},
   "outputs": [
    {
     "data": {
      "text/html": [
       "<html><script type=\"math/tex; mode=display\">\\newcommand{\\Bold}[1]{\\mathbf{#1}}\\left[\\left(-1, \\left(4, -1, -2\\right)\\right), \\left(-1, \\left(2, 1, -2\\right)\\right), \\left(1, \\left(2, 0, -1\\right)\\right)\\right]</script></html>"
      ],
      "text/plain": [
       "[(-1, (4, -1, -2)), (-1, (2, 1, -2)), (1, (2, 0, -1))]"
      ]
     },
     "execution_count": 52,
     "metadata": {},
     "output_type": "execute_result"
    }
   ],
   "source": [
    "alpha_bar(-2, v_l)"
   ]
  },
  {
   "cell_type": "code",
   "execution_count": 53,
   "metadata": {},
   "outputs": [
    {
     "data": {
      "text/html": [
       "<html><script type=\"math/tex; mode=display\">\\newcommand{\\Bold}[1]{\\mathbf{#1}}\\left[\\left(-1, \\left(4, -2, -4\\right)\\right), \\left(1, \\left(4, -1, -5\\right)\\right), \\left(1, \\left(2, 1, -5\\right)\\right), \\left(1, \\left(2, -1, -3\\right)\\right), \\left(-1, \\left(2, 0, -4\\right)\\right)\\right]</script></html>"
      ],
      "text/plain": [
       "[(-1, (4, -2, -4)),\n",
       " (1, (4, -1, -5)),\n",
       " (1, (2, 1, -5)),\n",
       " (1, (2, -1, -3)),\n",
       " (-1, (2, 0, -4))]"
      ]
     },
     "execution_count": 53,
     "metadata": {},
     "output_type": "execute_result"
    }
   ],
   "source": [
    "a3 = alpha_bar(3, a2)\n",
    "a3"
   ]
  },
  {
   "cell_type": "code",
   "execution_count": null,
   "metadata": {},
   "outputs": [],
   "source": []
  },
  {
   "cell_type": "code",
   "execution_count": null,
   "metadata": {},
   "outputs": [],
   "source": []
  },
  {
   "cell_type": "markdown",
   "metadata": {},
   "source": [
    "# Notes from Monday Feb 24th\n",
    "\n",
    "> DZG: From conversation with Richard earlier!\n",
    "\n",
    "Note that $\\alpha_k$ only works on a single basis fock vector $\\mathbf{v}_\\lambda$ -- in general, it should operate on a formal linear combination of fock vectors $\\mathbf{v} = \\sum_{i=1}^n c_i \\mathbf{v}_i$.\n",
    "\n",
    "How to do this? Idea: represent $\\mathbf v = \\sum_{i=1}^n c_i \\mathbf{v}_i$ as a list of pairs \n",
    "$$\n",
    "\\mathbf v = [(c_1, \\mathbf{v}_1), (c_2, \\mathbf{v}_2), \\cdots, (c_n, \\mathbf{v}_n)]\n",
    "$$\n",
    "\n",
    "It's then easy to set\n",
    "$$\n",
    "\\alpha_k(\\mathbf v) = \n",
    "[(c_1, \\alpha_k(\\mathbf{v}_1) ), (c_2, \\alpha_k(\\mathbf{v}_2)), \\cdots, (c_n, \\alpha_k(\\mathbf{v}_n))]\n",
    "$$\n",
    "\n",
    "Note that in each pair, the second entry is now *itself* a list of pairs. In gory detail, we have\n",
    "$$\n",
    "\\alpha_k(\\mathbf v) = \n",
    "[~(c_1, ~[ (d_{11}, \\mathbf{v}_{11}), (d_{12}, \\mathbf{v}_{12}), \\cdots ]~ ), ~\\cdots~, (c_n,  ~[ (d_{n1}, \\mathbf{v}_{n1}), (d_{n2}, \\mathbf{v}_{n2}), \\cdots ]~ )~]\n",
    "$$"
   ]
  },
  {
   "cell_type": "code",
   "execution_count": null,
   "metadata": {},
   "outputs": [],
   "source": [
    "var('z')\n",
    "sun = 1/(e^(z/2)-e^(-z/2))\n",
    "def pk(k, partition):\n",
    "    fock_vector = to_fock(partition)\n",
    "    if k%2==0:\n",
    "        ck = 0\n",
    "    if k%2==1:\n",
    "        ck = (sun.taylor(z,0,k+1)).coefficient(z^k)/k.factorial()\n",
    "    return(ck + sum((x+1/2)^k-(-i+1/2)^k for i,x in enumerate(fock_vector))/k.factorial())\n",
    "print(pk(5,(3,2,1,1)))"
   ]
  },
  {
   "cell_type": "code",
   "execution_count": null,
   "metadata": {},
   "outputs": [],
   "source": [
    "def chi(representation, cycle_type):\n",
    "    for i in range(size(representation)-size(cycle_type)):\n",
    "        cycle_type.append(1)\n",
    "    fock_vector = to_fock(representation)\n",
    "    for i in range(len(cycle_type)):\n",
    "        fock_vector = alpha(cycle_type[i], fock_vector)\n",
    "    return(fock_vector[1])"
   ]
  },
  {
   "cell_type": "code",
   "execution_count": null,
   "metadata": {},
   "outputs": [],
   "source": [
    "def hook_lengths(partition):\n",
    "    return(list of hook lengths)"
   ]
  },
  {
   "cell_type": "code",
   "execution_count": null,
   "metadata": {},
   "outputs": [],
   "source": [
    "def dim(partition):\n",
    "    return(size(partition)!/prod(hook_lengths(partition)))"
   ]
  },
  {
   "cell_type": "code",
   "execution_count": null,
   "metadata": {},
   "outputs": [],
   "source": [
    "def conj_class_size(partition):\n",
    "    return(size(partition)!/(prod(partition)*prod(numbers of times i appears!)))"
   ]
  },
  {
   "cell_type": "code",
   "execution_count": null,
   "metadata": {},
   "outputs": [],
   "source": [
    "def eff(representation, cycle_type):\n",
    "    return(chi(representation, cycle_type)*conj_class_size(cycle_type)/dim(partition))"
   ]
  },
  {
   "cell_type": "code",
   "execution_count": null,
   "metadata": {},
   "outputs": [],
   "source": [
    "def pillowcase_weight(N,partition):\n",
    "    (compute sign somehow)\n",
    "    return sign*product(hook_lengths s.t. hook_length%N = pm 1)/prod(hook_lengths s.t. hook_length%N=0)^2"
   ]
  },
  {
   "cell_type": "code",
   "execution_count": null,
   "metadata": {},
   "outputs": [],
   "source": [
    "def quotient_partitions(N,partition):"
   ]
  },
  {
   "cell_type": "code",
   "execution_count": null,
   "metadata": {},
   "outputs": [],
   "source": [
    "def core_partition(N,partition):"
   ]
  },
  {
   "cell_type": "code",
   "execution_count": null,
   "metadata": {},
   "outputs": [],
   "source": []
  }
 ],
 "metadata": {
  "kernelspec": {
   "display_name": "SageMath 9.1.beta4",
   "language": "sage",
   "name": "sagemath"
  },
  "language_info": {
   "codemirror_mode": {
    "name": "ipython",
    "version": 3
   },
   "file_extension": ".py",
   "mimetype": "text/x-python",
   "name": "python",
   "nbconvert_exporter": "python",
   "pygments_lexer": "ipython3",
   "version": "3.7.3"
  }
 },
 "nbformat": 4,
 "nbformat_minor": 1
}
