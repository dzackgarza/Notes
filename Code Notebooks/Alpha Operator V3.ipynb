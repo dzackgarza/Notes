{
 "cells": [
  {
   "cell_type": "code",
   "execution_count": 1,
   "metadata": {},
   "outputs": [],
   "source": [
    "%display latex\n",
    "import code as pc\n",
    "import numpy as np\n",
    "import itertools\n",
    "Partitions.options.latex='list'"
   ]
  },
  {
   "cell_type": "code",
   "execution_count": 2,
   "metadata": {},
   "outputs": [],
   "source": [
    "# Given a partition \n",
    "def to_fock(partition):\n",
    "    return tuple([(x-(i+1)) for i, x in enumerate(partition)])\n",
    "\n",
    "def to_fock_singleton(partition):\n",
    "    v = to_fock(partition)\n",
    "    return([(1, v)])\n",
    "\n",
    "def to_partition(fock_vector):\n",
    "    return Partition([(x+(i+1)) for i, x in enumerate(fock_vector)])\n",
    "\n",
    "# Take a list, sort it into weakly decreasing order using only\n",
    "# transpositions, and count the number of transpositions needed.\n",
    "def num_swaps(L):\n",
    "    Lp = copy(L)\n",
    "    swapcount = 0\n",
    "    for j in range(len(Lp)):\n",
    "        for i in range(1, len(Lp)-j):\n",
    "            if Lp[i-1] > Lp[i]:\n",
    "                swapcount += 1\n",
    "                Lp[i-1], Lp[i] = Lp[i], Lp[i-1]\n",
    "    sign = 1 if swapcount % 2 == 0 else -1\n",
    "    Lpp = list(Lp)\n",
    "    Lpp.reverse()\n",
    "    return sign, tuple(Lpp)\n",
    "\n",
    "def alpha(k, v_lambda):\n",
    "    \n",
    "    # Length of fock vector\n",
    "    n = len(v_lambda)\n",
    "    \n",
    "    # Stack n copies of v_lambda up as the rows of an nxn matrix\n",
    "    V = Matrix([ v_lambda for i in range(n) ])\n",
    "    \n",
    "    # A scalar matrix for k\n",
    "    kI = identity_matrix(n) * k\n",
    "    \n",
    "    # Subtract k off of the diagonal\n",
    "    M = V - kI\n",
    "    \n",
    "    # Sorted vectors, with the (signs of the) number of transpositions\n",
    "    # Throw away vectors with repeated entries, since these\n",
    "    # wedge to zero.\n",
    "    L = [num_swaps(R) for R in M.rows() if len(R) == len(set(R))]\n",
    "\n",
    "    return(L)\n",
    "\n",
    "def distribute(lin_comb):\n",
    "    outs = []\n",
    "    for vs in lin_comb:\n",
    "        c0 = vs[0]\n",
    "        for v in vs[1]:\n",
    "            ci, vi = v\n",
    "            outs.append((ci * c0, vi ))\n",
    "    return(outs)\n",
    "\n",
    "def collect_terms(list_of_vs):\n",
    "    D = dict()\n",
    "    for i, x in enumerate(list_of_vs):\n",
    "        c_i, v = x\n",
    "        D[v] = c_i if v not in D.keys() else D[v] + c_i\n",
    "    return([(D[i], i) for i in D if D[i] != 0])\n",
    "\n",
    "def alpha_bar(k, ls):\n",
    "    lin_comb = [(ci, alpha(k, vi)) for ci, vi in ls]\n",
    "    reduced = distribute(lin_comb)\n",
    "    reduced_unique = collect_terms(reduced)\n",
    "    return(reduced_unique)"
   ]
  },
  {
   "cell_type": "code",
   "execution_count": 3,
   "metadata": {},
   "outputs": [
    {
     "data": {
      "text/html": [
       "<html><script type=\"math/tex; mode=display\">\\newcommand{\\Bold}[1]{\\mathbf{#1}}\\left(2, -1, -2\\right)</script></html>"
      ],
      "text/plain": [
       "(2, -1, -2)"
      ]
     },
     "metadata": {},
     "output_type": "display_data"
    },
    {
     "data": {
      "text/html": [
       "<html><script type=\"math/tex; mode=display\">\\newcommand{\\Bold}[1]{\\mathbf{#1}}\\left[\\left(1, \\left(2, -1, -2\\right)\\right)\\right]</script></html>"
      ],
      "text/plain": [
       "[(1, (2, -1, -2))]"
      ]
     },
     "metadata": {},
     "output_type": "display_data"
    }
   ],
   "source": [
    "v_l1 = to_fock((3,1,1))\n",
    "v_l2 = to_fock_singleton((3,1,1))\n",
    "show(v_l1)\n",
    "show(v_l2)"
   ]
  },
  {
   "cell_type": "code",
   "execution_count": 4,
   "metadata": {},
   "outputs": [
    {
     "data": {
      "text/html": [
       "<html><script type=\"math/tex; mode=display\">\\newcommand{\\Bold}[1]{\\mathbf{#1}}\\left[\\left(-1, \\left(0, -1, -2\\right)\\right), \\left(1, \\left(2, -2, -3\\right)\\right), \\left(-1, \\left(2, -1, -4\\right)\\right)\\right]</script></html>"
      ],
      "text/plain": [
       "[(-1, (0, -1, -2)), (1, (2, -2, -3)), (-1, (2, -1, -4))]"
      ]
     },
     "metadata": {},
     "output_type": "display_data"
    },
    {
     "data": {
      "text/html": [
       "<html><script type=\"math/tex; mode=display\">\\newcommand{\\Bold}[1]{\\mathbf{#1}}\\left[\\left(-1, \\left(0, -1, -2\\right)\\right), \\left(1, \\left(2, -2, -3\\right)\\right), \\left(-1, \\left(2, -1, -4\\right)\\right)\\right]</script></html>"
      ],
      "text/plain": [
       "[(-1, (0, -1, -2)), (1, (2, -2, -3)), (-1, (2, -1, -4))]"
      ]
     },
     "metadata": {},
     "output_type": "display_data"
    }
   ],
   "source": [
    "show(alpha(2, v_l1))\n",
    "show(alpha_bar(2, v_l2))"
   ]
  },
  {
   "cell_type": "code",
   "execution_count": null,
   "metadata": {},
   "outputs": [],
   "source": []
  }
 ],
 "metadata": {
  "kernelspec": {
   "display_name": "SageMath 9.1.beta4",
   "language": "sage",
   "name": "sagemath"
  },
  "language_info": {
   "codemirror_mode": {
    "name": "ipython",
    "version": 3
   },
   "file_extension": ".py",
   "mimetype": "text/x-python",
   "name": "python",
   "nbconvert_exporter": "python",
   "pygments_lexer": "ipython3",
   "version": "3.7.3"
  }
 },
 "nbformat": 4,
 "nbformat_minor": 2
}
