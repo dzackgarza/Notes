{
 "cells": [
  {
   "cell_type": "markdown",
   "metadata": {},
   "source": [
    "# References\n",
    "\n",
    "[Lazy Power Series](http://doc.sagemath.org/html/en/reference/combinat/sage/combinat/tutorial.html)\n",
    "\n",
    "[Lazy Laurent Series](http://doc.sagemath.org/html/en/reference/power_series/sage/rings/lazy_laurent_series.html)\n",
    "\n",
    "[Integer Partitions](http://doc.sagemath.org/html/en/reference/combinat/sage/combinat/partition.html)\n"
   ]
  },
  {
   "cell_type": "code",
   "execution_count": 157,
   "metadata": {},
   "outputs": [],
   "source": [
    "%display latex\n",
    "import code as pc\n",
    "import numpy as np\n",
    "Partitions.options.latex='list'"
   ]
  },
  {
   "cell_type": "code",
   "execution_count": 158,
   "metadata": {},
   "outputs": [],
   "source": [
    "part1 = [3,1,1]\n",
    "fock_vec = [2, -1, -2]"
   ]
  },
  {
   "cell_type": "code",
   "execution_count": 160,
   "metadata": {},
   "outputs": [],
   "source": [
    "def to_fock(partition):\n",
    "    return vector([(x-(i+1)) for i, x in enumerate(part1)])\n",
    "\n",
    "def to_partition(fock_vector):\n",
    "    return Partition([(x+(i+1)) for i, x in enumerate(fock_vector)])"
   ]
  },
  {
   "cell_type": "code",
   "execution_count": 161,
   "metadata": {},
   "outputs": [
    {
     "name": "stdout",
     "output_type": "stream",
     "text": [
      "[ 2 -1 -2]\n",
      "(2, -1, -2)\n"
     ]
    }
   ],
   "source": [
    "print(pc.fock(part1))\n",
    "print(to_fock(part1))"
   ]
  },
  {
   "cell_type": "code",
   "execution_count": 162,
   "metadata": {},
   "outputs": [
    {
     "name": "stdout",
     "output_type": "stream",
     "text": [
      "[3 1 1]\n",
      "[3, 1, 1]\n"
     ]
    }
   ],
   "source": [
    "print(pc.partition(fock_vec))\n",
    "print(to_partition(fock_vec))"
   ]
  },
  {
   "cell_type": "code",
   "execution_count": 163,
   "metadata": {},
   "outputs": [
    {
     "name": "stdout",
     "output_type": "stream",
     "text": [
      "[3, 1, 1]\n",
      "***\n",
      "*\n",
      "*\n"
     ]
    }
   ],
   "source": [
    "p = to_partition(fock_vec)\n",
    "print(p)\n",
    "print(p.ferrers_diagram())"
   ]
  },
  {
   "cell_type": "code",
   "execution_count": 164,
   "metadata": {},
   "outputs": [
    {
     "name": "stdout",
     "output_type": "stream",
     "text": [
      "5\n"
     ]
    },
    {
     "data": {
      "text/html": [
       "<html><script type=\"math/tex; mode=display\">\\newcommand{\\Bold}[1]{\\mathbf{#1}}\\begin{array}{l}\n",
       "\\verb|+---+---+---+|\\\\\n",
       "\\verb\"|\"\\phantom{\\verb!x!}\\verb\"5\"\\phantom{\\verb!x!}\\verb\"|\"\\phantom{\\verb!x!}\\verb\"2\"\\phantom{\\verb!x!}\\verb\"|\"\\phantom{\\verb!x!}\\verb\"1\"\\phantom{\\verb!x!}\\verb\"|\"\\\\\n",
       "\\verb|+---+---+---+|\\\\\n",
       "\\verb\"|\"\\phantom{\\verb!x!}\\verb\"2\"\\phantom{\\verb!x!}\\verb\"|\"\\\\\n",
       "\\verb|+---+|\\\\\n",
       "\\verb\"|\"\\phantom{\\verb!x!}\\verb\"1\"\\phantom{\\verb!x!}\\verb\"|\"\\\\\n",
       "\\verb|+---+|\n",
       "\\end{array}</script></html>"
      ],
      "text/plain": [
       "+---+---+---+\n",
       "| 5 | 2 | 1 |\n",
       "+---+---+---+\n",
       "| 2 |\n",
       "+---+\n",
       "| 1 |\n",
       "+---+"
      ]
     },
     "execution_count": 164,
     "metadata": {},
     "output_type": "execute_result"
    }
   ],
   "source": [
    "Tableaux.options.ascii_art = \"table\"\n",
    "print(p.hook_length(0, 0))\n",
    "hlens = p.hook_lengths()\n",
    "ascii_art(Tableau(hlens))"
   ]
  },
  {
   "cell_type": "code",
   "execution_count": 165,
   "metadata": {},
   "outputs": [],
   "source": [
    "def alpha_k(v_lambda, k):\n",
    "    M = Matrix([ v for i in range(v.length()) ])\n",
    "    Av = M + identity_matrix(v.length()) * k\n",
    "    return sum(Av)"
   ]
  },
  {
   "cell_type": "code",
   "execution_count": 166,
   "metadata": {},
   "outputs": [
    {
     "data": {
      "text/html": [
       "<html><script type=\"math/tex; mode=display\">\\newcommand{\\Bold}[1]{\\mathbf{#1}}\\left(8,\\,-1,\\,-4\\right)</script></html>"
      ],
      "text/plain": [
       "(8, -1, -4)"
      ]
     },
     "execution_count": 166,
     "metadata": {},
     "output_type": "execute_result"
    }
   ],
   "source": [
    "v = to_fock(part1)\n",
    "alpha_k(v, 2)"
   ]
  },
  {
   "cell_type": "code",
   "execution_count": 168,
   "metadata": {},
   "outputs": [
    {
     "data": {
      "text/html": [
       "<html><script type=\"math/tex; mode=display\">\\newcommand{\\Bold}[1]{\\mathbf{#1}}\\left(\\begin{array}{rrr}\n",
       "1 & 0 & 0 \\\\\n",
       "2 & 0 & 1 \\\\\n",
       "0 & 7 & 0\n",
       "\\end{array}\\right)</script></html>"
      ],
      "text/plain": [
       "[1 0 0]\n",
       "[2 0 1]\n",
       "[0 7 0]"
      ]
     },
     "metadata": {},
     "output_type": "display_data"
    },
    {
     "data": {
      "text/html": [
       "<html><script type=\"math/tex; mode=display\">\\newcommand{\\Bold}[1]{\\mathbf{#1}}\\left(3,\\,7,\\,1\\right)</script></html>"
      ],
      "text/plain": [
       "(3, 7, 1)"
      ]
     },
     "execution_count": 168,
     "metadata": {},
     "output_type": "execute_result"
    }
   ],
   "source": [
    "# Sum(A) for a matrix sums columns.\n",
    "M = Matrix(QQ, 3, \n",
    "           [1,0,0, \n",
    "            2,0,1, \n",
    "            0,7,0\n",
    "\n",
    "           ])\n",
    "show(M)\n",
    "sum(M)"
   ]
  },
  {
   "cell_type": "code",
   "execution_count": 169,
   "metadata": {},
   "outputs": [
    {
     "data": {
      "text/html": [
       "<html><script type=\"math/tex; mode=display\">\\newcommand{\\Bold}[1]{\\mathbf{#1}}\\left(\\begin{array}{rrr}\n",
       "2 & -1 & -2 \\\\\n",
       "2 & -1 & -2 \\\\\n",
       "2 & -1 & -2\n",
       "\\end{array}\\right) + \\left(\\begin{array}{rrr}\n",
       "1 & 0 & 0 \\\\\n",
       "0 & 1 & 0 \\\\\n",
       "0 & 0 & 1\n",
       "\\end{array}\\right) \\verb|=| \\left(\\begin{array}{rrr}\n",
       "1 & -1 & -2 \\\\\n",
       "2 & -2 & -2 \\\\\n",
       "2 & -1 & -3\n",
       "\\end{array}\\right)</script></html>"
      ],
      "text/plain": [
       "[ 2 -1 -2]\n",
       "[ 2 -1 -2]\n",
       "[ 2 -1 -2] '+' [1 0 0]\n",
       "[0 1 0]\n",
       "[0 0 1] '=' [ 1 -1 -2]\n",
       "[ 2 -2 -2]\n",
       "[ 2 -1 -3]"
      ]
     },
     "metadata": {},
     "output_type": "display_data"
    }
   ],
   "source": [
    "fock = v\n",
    "n = 1\n",
    "\n",
    "M = Matrix([ fock for i in range(fock.length()) ])\n",
    "Ik = identity_matrix(fock.length()) * n\n",
    "Av = M - Ik\n",
    "show(M, \"+\", Ik, \"=\", Av)"
   ]
  },
  {
   "cell_type": "code",
   "execution_count": null,
   "metadata": {},
   "outputs": [],
   "source": [
    "Partitions.options(display=\"list\")\n",
    "for a in Partitions(5).list(): print(a)"
   ]
  },
  {
   "cell_type": "code",
   "execution_count": 172,
   "metadata": {},
   "outputs": [
    {
     "data": {
      "text/html": [
       "<html><script type=\"math/tex; mode=display\">\\newcommand{\\Bold}[1]{\\mathbf{#1}}\\left(2,\\,-1,\\,-2\\right)</script></html>"
      ],
      "text/plain": [
       "(2, -1, -2)"
      ]
     },
     "metadata": {},
     "output_type": "display_data"
    },
    {
     "data": {
      "text/html": [
       "<html><script type=\"math/tex; mode=display\">\\newcommand{\\Bold}[1]{\\mathbf{#1}}\\left[\\begin{array}{l}\n",
       "\\verb|[[|\\phantom{\\verb!x!}\\verb|1|\\phantom{\\verb!x!}\\verb|-1|\\phantom{\\verb!x!}\\verb|-2]|\\\\\n",
       "\\phantom{\\verb!x!}\\verb|[|\\phantom{\\verb!x!}\\verb|2|\\phantom{\\verb!x!}\\verb|-1|\\phantom{\\verb!x!}\\verb|-3]]|\n",
       "\\end{array}, \\left[1, 1\\right]\\right]</script></html>"
      ],
      "text/plain": [
       "[array([[ 1, -1, -2],\n",
       "        [ 2, -1, -3]]), [1, 1]]"
      ]
     },
     "execution_count": 172,
     "metadata": {},
     "output_type": "execute_result"
    }
   ],
   "source": [
    "Ms = pc.lowering1(v, 1)\n",
    "show(v)\n",
    "Ms"
   ]
  },
  {
   "cell_type": "code",
   "execution_count": 176,
   "metadata": {},
   "outputs": [
    {
     "data": {
      "text/html": [
       "<html><script type=\"math/tex; mode=display\">\\newcommand{\\Bold}[1]{\\mathbf{#1}}\\begin{array}{l}\n",
       "\\verb|[[|\\phantom{\\verb!x!}\\verb|2|\\phantom{\\verb!x!}\\verb|-1|\\phantom{\\verb!x!}\\verb|-2]|\\\\\n",
       "\\phantom{\\verb!x!}\\verb|[|\\phantom{\\verb!x!}\\verb|2|\\phantom{\\verb!x!}\\verb|-1|\\phantom{\\verb!x!}\\verb|-2]|\\\\\n",
       "\\phantom{\\verb!x!}\\verb|[|\\phantom{\\verb!x!}\\verb|2|\\phantom{\\verb!x!}\\verb|-1|\\phantom{\\verb!x!}\\verb|-2]]|\n",
       "\\end{array}</script></html>"
      ],
      "text/plain": [
       "array([[ 2, -1, -2],\n",
       "       [ 2, -1, -2],\n",
       "       [ 2, -1, -2]])"
      ]
     },
     "execution_count": 176,
     "metadata": {},
     "output_type": "execute_result"
    }
   ],
   "source": [
    "fock = v\n",
    "n = 1\n",
    "s = len(fock)\n",
    "# Stack vectors into square matrix\n",
    "start = np.array([fock,]*s)\n",
    "start"
   ]
  },
  {
   "cell_type": "code",
   "execution_count": 177,
   "metadata": {},
   "outputs": [
    {
     "data": {
      "text/html": [
       "<html><script type=\"math/tex; mode=display\">\\newcommand{\\Bold}[1]{\\mathbf{#1}}\\begin{array}{l}\n",
       "\\verb|[[|\\phantom{\\verb!x!}\\verb|1|\\phantom{\\verb!x!}\\verb|-1|\\phantom{\\verb!x!}\\verb|-2]|\\\\\n",
       "\\phantom{\\verb!x!}\\verb|[|\\phantom{\\verb!x!}\\verb|2|\\phantom{\\verb!x!}\\verb|-2|\\phantom{\\verb!x!}\\verb|-2]|\\\\\n",
       "\\phantom{\\verb!x!}\\verb|[|\\phantom{\\verb!x!}\\verb|2|\\phantom{\\verb!x!}\\verb|-1|\\phantom{\\verb!x!}\\verb|-3]]|\n",
       "\\end{array}</script></html>"
      ],
      "text/plain": [
       "array([[ 1, -1, -2],\n",
       "       [ 2, -2, -2],\n",
       "       [ 2, -1, -3]])"
      ]
     },
     "execution_count": 177,
     "metadata": {},
     "output_type": "execute_result"
    }
   ],
   "source": [
    "for i in range(s):\n",
    "    start[i][i]=start[i][i]-n\n",
    "start"
   ]
  },
  {
   "cell_type": "code",
   "execution_count": 178,
   "metadata": {},
   "outputs": [
    {
     "name": "stdout",
     "output_type": "stream",
     "text": [
      "-4\n"
     ]
    },
    {
     "data": {
      "text/html": [
       "<html><script type=\"math/tex; mode=display\">\\newcommand{\\Bold}[1]{\\mathbf{#1}}\\begin{array}{l}\n",
       "\\verb|[[|\\phantom{\\verb!x!}\\verb|1|\\phantom{\\verb!x!}\\verb|-1|\\phantom{\\verb!x!}\\verb|-2]|\\\\\n",
       "\\phantom{\\verb!x!}\\verb|[|\\phantom{\\verb!x!}\\verb|2|\\phantom{\\verb!x!}\\verb|-2|\\phantom{\\verb!x!}\\verb|-2]|\\\\\n",
       "\\phantom{\\verb!x!}\\verb|[|\\phantom{\\verb!x!}\\verb|2|\\phantom{\\verb!x!}\\verb|-1|\\phantom{\\verb!x!}\\verb|-3]]|\n",
       "\\end{array}</script></html>"
      ],
      "text/plain": [
       "array([[ 1, -1, -2],\n",
       "       [ 2, -2, -2],\n",
       "       [ 2, -1, -3]])"
      ]
     },
     "execution_count": 178,
     "metadata": {},
     "output_type": "execute_result"
    }
   ],
   "source": [
    "# Pick rows where every entry is > -(1+s)\n",
    "print(-1-s)\n",
    "goodrows = start[np.all(start>-1-s, axis=1)]\n",
    "goodrows"
   ]
  },
  {
   "cell_type": "markdown",
   "metadata": {},
   "source": [
    "![](https://i.stack.imgur.com/h1alT.jpg)"
   ]
  },
  {
   "cell_type": "code",
   "execution_count": 179,
   "metadata": {},
   "outputs": [
    {
     "data": {
      "text/html": [
       "<html><script type=\"math/tex; mode=display\">\\newcommand{\\Bold}[1]{\\mathbf{#1}}\\begin{array}{l}\n",
       "\\verb|[[|\\phantom{\\verb!x!}\\verb|1|\\phantom{\\verb!x!}\\verb|-1|\\phantom{\\verb!x!}\\verb|-2]|\\\\\n",
       "\\phantom{\\verb!x!}\\verb|[|\\phantom{\\verb!x!}\\verb|2|\\phantom{\\verb!x!}\\verb|-2|\\phantom{\\verb!x!}\\verb|-2]|\\\\\n",
       "\\phantom{\\verb!x!}\\verb|[|\\phantom{\\verb!x!}\\verb|2|\\phantom{\\verb!x!}\\verb|-1|\\phantom{\\verb!x!}\\verb|-3]]|\n",
       "\\end{array}</script></html>"
      ],
      "text/plain": [
       "array([[ 1, -1, -2],\n",
       "       [ 2, -2, -2],\n",
       "       [ 2, -1, -3]])"
      ]
     },
     "execution_count": 179,
     "metadata": {},
     "output_type": "execute_result"
    }
   ],
   "source": [
    "betterrows = np.fliplr(np.sort(goodrows,axis=1))\n",
    "betterrows"
   ]
  },
  {
   "cell_type": "code",
   "execution_count": null,
   "metadata": {},
   "outputs": [],
   "source": [
    "# Fliplr: puts columns in reverse order.\n",
    "A = np.diag([1,2,3])\n",
    "show(A)\n",
    "B = np.fliplr(A)\n",
    "show(B)"
   ]
  },
  {
   "cell_type": "code",
   "execution_count": 180,
   "metadata": {},
   "outputs": [],
   "source": [
    "counterlist = []\n",
    "norepeatlist = []\n",
    "nottoobig = []\n",
    "accuracy = 70"
   ]
  },
  {
   "cell_type": "code",
   "execution_count": 181,
   "metadata": {},
   "outputs": [
    {
     "data": {
      "text/html": [
       "<html><script type=\"math/tex; mode=display\">\\newcommand{\\Bold}[1]{\\mathbf{#1}}\\left[0, 1, 2\\right]</script></html>"
      ],
      "text/plain": [
       "[0, 1, 2]"
      ]
     },
     "execution_count": 181,
     "metadata": {},
     "output_type": "execute_result"
    }
   ],
   "source": [
    "t=len(betterrows)\n",
    "list(range(t))"
   ]
  },
  {
   "cell_type": "code",
   "execution_count": 182,
   "metadata": {},
   "outputs": [
    {
     "data": {
      "text/html": [
       "<html><script type=\"math/tex; mode=display\">\\newcommand{\\Bold}[1]{\\mathbf{#1}}\\begin{array}{l}\n",
       "\\verb|[[|\\phantom{\\verb!x!}\\verb|1|\\phantom{\\verb!x!}\\verb|-1|\\phantom{\\verb!x!}\\verb|-2]|\\\\\n",
       "\\phantom{\\verb!x!}\\verb|[|\\phantom{\\verb!x!}\\verb|2|\\phantom{\\verb!x!}\\verb|-2|\\phantom{\\verb!x!}\\verb|-2]|\\\\\n",
       "\\phantom{\\verb!x!}\\verb|[|\\phantom{\\verb!x!}\\verb|2|\\phantom{\\verb!x!}\\verb|-1|\\phantom{\\verb!x!}\\verb|-3]]|\n",
       "\\end{array}</script></html>"
      ],
      "text/plain": [
       "array([[ 1, -1, -2],\n",
       "       [ 2, -2, -2],\n",
       "       [ 2, -1, -3]])"
      ]
     },
     "execution_count": 182,
     "metadata": {},
     "output_type": "execute_result"
    }
   ],
   "source": [
    "goodrows"
   ]
  },
  {
   "cell_type": "code",
   "execution_count": 186,
   "metadata": {},
   "outputs": [
    {
     "data": {
      "text/html": [
       "<html><script type=\"math/tex; mode=display\">\\newcommand{\\Bold}[1]{\\mathbf{#1}}\\verb|[|\\phantom{\\verb!x!}\\verb|1|\\phantom{\\verb!x!}\\verb|-1|\\phantom{\\verb!x!}\\verb|-2]|</script></html>"
      ],
      "text/plain": [
       "array([ 1, -1, -2])"
      ]
     },
     "execution_count": 186,
     "metadata": {},
     "output_type": "execute_result"
    }
   ],
   "source": [
    "i = 0\n",
    "counter = -1\n",
    "givenrow1 = goodrows[i]\n",
    "givenrow1"
   ]
  },
  {
   "cell_type": "code",
   "execution_count": 187,
   "metadata": {},
   "outputs": [
    {
     "data": {
      "text/html": [
       "<html><script type=\"math/tex; mode=display\">\\newcommand{\\Bold}[1]{\\mathbf{#1}}\\verb|[|\\phantom{\\verb!x!}\\verb|1|\\phantom{\\verb!x!}\\verb|-1|\\phantom{\\verb!x!}\\verb|-2]|</script></html>"
      ],
      "text/plain": [
       "array([ 1, -1, -2])"
      ]
     },
     "execution_count": 187,
     "metadata": {},
     "output_type": "execute_result"
    }
   ],
   "source": [
    "if sum(pc.partition(givenrow1))>accuracy:\n",
    "    print(\"break\")\n",
    "givenrow2 = betterrows[i]\n",
    "norepeats = True\n",
    "givenrow2"
   ]
  },
  {
   "cell_type": "code",
   "execution_count": 188,
   "metadata": {},
   "outputs": [
    {
     "data": {
      "text/html": [
       "<html><script type=\"math/tex; mode=display\">\\newcommand{\\Bold}[1]{\\mathbf{#1}}-1</script></html>"
      ],
      "text/plain": [
       "-1"
      ]
     },
     "metadata": {},
     "output_type": "display_data"
    },
    {
     "data": {
      "text/html": [
       "<html><script type=\"math/tex; mode=display\">\\newcommand{\\Bold}[1]{\\mathbf{#1}}\\mathrm{True}</script></html>"
      ],
      "text/plain": [
       "True"
      ]
     },
     "metadata": {},
     "output_type": "display_data"
    }
   ],
   "source": [
    "for j in range(s):\n",
    "    if givenrow1[j]!=givenrow2[j]:\n",
    "        counter = counter + 1\n",
    "    if j<s-1:\n",
    "        if givenrow2[j]==givenrow2[j+1]:\n",
    "            norepeats = False\n",
    "            break\n",
    "show(counter)\n",
    "show(norepeats)"
   ]
  },
  {
   "cell_type": "code",
   "execution_count": 189,
   "metadata": {},
   "outputs": [
    {
     "data": {
      "text/html": [
       "<html><script type=\"math/tex; mode=display\">\\newcommand{\\Bold}[1]{\\mathbf{#1}}\\left[0\\right]</script></html>"
      ],
      "text/plain": [
       "[0]"
      ]
     },
     "execution_count": 189,
     "metadata": {},
     "output_type": "execute_result"
    }
   ],
   "source": [
    "if norepeats==True:\n",
    "    norepeatlist.append(i)\n",
    "norepeatlist"
   ]
  },
  {
   "cell_type": "code",
   "execution_count": 190,
   "metadata": {},
   "outputs": [
    {
     "data": {
      "text/html": [
       "<html><script type=\"math/tex; mode=display\">\\newcommand{\\Bold}[1]{\\mathbf{#1}}\\left[0\\right]</script></html>"
      ],
      "text/plain": [
       "[0]"
      ]
     },
     "execution_count": 190,
     "metadata": {},
     "output_type": "execute_result"
    }
   ],
   "source": [
    "counterlist.append(max(0,counter))\n",
    "counterlist"
   ]
  },
  {
   "cell_type": "code",
   "execution_count": 192,
   "metadata": {},
   "outputs": [],
   "source": [
    "counterlist = []\n",
    "norepeatlist = []\n",
    "nottoobig = []\n",
    "t=len(betterrows)\n",
    "for i in range(t):\n",
    "    counter = -1\n",
    "    givenrow1 = goodrows[i]\n",
    "    if sum(pc.partition(givenrow1))>accuracy:\n",
    "#            print('Warning: Set accuracy higher.')\n",
    "        print(\"break\")\n",
    "    givenrow2 = betterrows[i]\n",
    "    norepeats = True\n",
    "    for j in range(s):\n",
    "        if givenrow1[j]!=givenrow2[j]:\n",
    "            counter = counter + 1\n",
    "        if j<s-1:\n",
    "            if givenrow2[j]==givenrow2[j+1]:\n",
    "                norepeats = False\n",
    "                break\n",
    "    if norepeats==True:\n",
    "        norepeatlist.append(i)\n",
    "    counterlist.append(max(0,counter))"
   ]
  },
  {
   "cell_type": "code",
   "execution_count": 193,
   "metadata": {},
   "outputs": [
    {
     "data": {
      "text/html": [
       "<html><script type=\"math/tex; mode=display\">\\newcommand{\\Bold}[1]{\\mathbf{#1}}\\left[0, 0, 0\\right]</script></html>"
      ],
      "text/plain": [
       "[0, 0, 0]"
      ]
     },
     "execution_count": 193,
     "metadata": {},
     "output_type": "execute_result"
    }
   ],
   "source": [
    "counterlist"
   ]
  },
  {
   "cell_type": "code",
   "execution_count": 194,
   "metadata": {},
   "outputs": [
    {
     "data": {
      "text/html": [
       "<html><script type=\"math/tex; mode=display\">\\newcommand{\\Bold}[1]{\\mathbf{#1}}\\left[0, 2\\right]</script></html>"
      ],
      "text/plain": [
       "[0, 2]"
      ]
     },
     "execution_count": 194,
     "metadata": {},
     "output_type": "execute_result"
    }
   ],
   "source": [
    "norepeatlist"
   ]
  },
  {
   "cell_type": "markdown",
   "metadata": {},
   "source": [
    "# Swap Distance / Transposition Distance\n",
    "\n",
    "Note: an NP-Hard problem [CS Paper from 2010](https://arxiv.org/abs/1011.1157)\n",
    "\n",
    "Let $v, w$ be vectors in $\\mathbb{Z}^n$ such that the entries of $v$ are in weakly decreasing order, and the entries of $w$ are some permutation of the entries of $v$.\n",
    "\n",
    "Define $d(v, w)$ to be the number of transpositions needed to transform $v$ to $w$.\n",
    "\n",
    "## Algorithm 1 (Brute Force Count)\n",
    "Perform a bubble sort and count the number of transpositions. Scales like $O(n^2)$ in the length of the vector.\n",
    "\n",
    "## Other Possibilities\n",
    "\n",
    "**Algorithm 2**\n",
    "Define a map\n",
    "$$\n",
    "S: \\mathbb{Z} \\to \\mathbb{R}^{2n} \\\\\n",
    "v \\mapsto S(v)_{ij} = \\begin{cases}1 & v_i < v_j \\\\ 0 & \\text{else} \\end{cases}\n",
    "$$\n",
    "\n",
    "Then (claim) $$d(v, w) = \\| S(v) - S(w) \\|_{2}^2.$$\n",
    "\n",
    "[Reference: computing swap distances via Euclidean embedding](http://dimacs.rutgers.edu/~graham/pubs/slides/dmsa.pdf)\n",
    "\n",
    "*Seems to be off by 1 sometimes..*.\n",
    "\n",
    "**Matrix Rank:**\n",
    "Compute the rank of an associated permutation matrix.\n",
    "[Reference](https://math.berkeley.edu/~mhegde/other_math/permutation_distance.pdf)\n",
    "\n",
    "Conjecture: Let $\\sigma \\in S^n$ be a permutation and $P(\\sigma) \\in \\mathbb{Z}^{n^2}$ be its associated permutation matrix. Let $d(\\sigma)$ be the number of transpositions that reduce $\\sigma$ to the identity. Then\n",
    "\n",
    "$$d(\\sigma) = \\mathrm{rank}(I_n - P(\\sigma)).$$\n",
    "\n",
    "Problem: how to convert an arbitrary vector to a permutation..?\n",
    "\n",
    "**Direct Formula:**\n",
    "Somehow convert vector of length $n$ to a cycle $\\sigma \\in S_n$. Then $d(\\sigma, \\mathrm{id}) = n - c(\\sigma)$, the number of cycles in a disjoint cycle decomposition.\n",
    "\n",
    "Problem: how to convert an arbitrary vector to a permutation..?\n"
   ]
  },
  {
   "cell_type": "code",
   "execution_count": 128,
   "metadata": {},
   "outputs": [],
   "source": []
  },
  {
   "cell_type": "code",
   "execution_count": 132,
   "metadata": {},
   "outputs": [
    {
     "data": {
      "text/html": [
       "<html><script type=\"math/tex; mode=display\">\\newcommand{\\Bold}[1]{\\mathbf{#1}}\\left(1,\\,2,\\,1\\right)</script></html>"
      ],
      "text/plain": [
       "(1, 2, 1)"
      ]
     },
     "execution_count": 132,
     "metadata": {},
     "output_type": "execute_result"
    }
   ],
   "source": [
    "v = vector([1,2,1])\n",
    "v"
   ]
  },
  {
   "cell_type": "code",
   "execution_count": 135,
   "metadata": {},
   "outputs": [
    {
     "data": {
      "text/html": [
       "<html><script type=\"math/tex; mode=display\">\\newcommand{\\Bold}[1]{\\mathbf{#1}}\\mathrm{False}</script></html>"
      ],
      "text/plain": [
       "False"
      ]
     },
     "execution_count": 135,
     "metadata": {},
     "output_type": "execute_result"
    }
   ],
   "source": [
    "len(v) == len(set(v))"
   ]
  },
  {
   "cell_type": "code",
   "execution_count": 146,
   "metadata": {},
   "outputs": [
    {
     "data": {
      "text/html": [
       "<html><script type=\"math/tex; mode=display\">\\newcommand{\\Bold}[1]{\\mathbf{#1}}\\left(\\begin{array}{rrr}\n",
       "1 & 1 & 1 \\\\\n",
       "1 & 1 & 1 \\\\\n",
       "1 & 2 & 3\n",
       "\\end{array}\\right)</script></html>"
      ],
      "text/plain": [
       "[1 1 1]\n",
       "[1 1 1]\n",
       "[1 2 3]"
      ]
     },
     "execution_count": 146,
     "metadata": {},
     "output_type": "execute_result"
    }
   ],
   "source": [
    "M = Matrix(QQ, 3, [1,1,1, 1,1,1, 1,2,3])\n",
    "M"
   ]
  },
  {
   "cell_type": "code",
   "execution_count": 149,
   "metadata": {},
   "outputs": [
    {
     "data": {
      "text/html": [
       "<html><script type=\"math/tex; mode=display\">\\newcommand{\\Bold}[1]{\\mathbf{#1}}\\left[\\left(1,\\,2,\\,3\\right)\\right]</script></html>"
      ],
      "text/plain": [
       "[(1, 2, 3)]"
      ]
     },
     "execution_count": 149,
     "metadata": {},
     "output_type": "execute_result"
    }
   ],
   "source": [
    "[R for R in M.rows() if len(R) == len(set(R))]"
   ]
  },
  {
   "cell_type": "code",
   "execution_count": 150,
   "metadata": {},
   "outputs": [
    {
     "ename": "NameError",
     "evalue": "name 'fock' is not defined",
     "output_type": "error",
     "traceback": [
      "\u001b[1;31m---------------------------------------------------------------------------\u001b[0m",
      "\u001b[1;31mNameError\u001b[0m                                 Traceback (most recent call last)",
      "\u001b[1;32m<ipython-input-150-1d067264f83a>\u001b[0m in \u001b[0;36m<module>\u001b[1;34m()\u001b[0m\n\u001b[1;32m----> 1\u001b[1;33m \u001b[0mfock\u001b[0m\u001b[1;33m\u001b[0m\u001b[1;33m\u001b[0m\u001b[0m\n\u001b[0m",
      "\u001b[1;31mNameError\u001b[0m: name 'fock' is not defined"
     ]
    }
   ],
   "source": [
    "fock"
   ]
  },
  {
   "cell_type": "code",
   "execution_count": 171,
   "metadata": {},
   "outputs": [
    {
     "data": {
      "text/html": [
       "<html><script type=\"math/tex; mode=display\">\\newcommand{\\Bold}[1]{\\mathbf{#1}}\\left(\\begin{array}{rrr}\n",
       "2 & -1 & -2 \\\\\n",
       "2 & -1 & -2 \\\\\n",
       "2 & -1 & -2\n",
       "\\end{array}\\right) + \\left(\\begin{array}{rrr}\n",
       "1 & 0 & 0 \\\\\n",
       "0 & 1 & 0 \\\\\n",
       "0 & 0 & 1\n",
       "\\end{array}\\right) \\verb|=| \\left(\\begin{array}{rrr}\n",
       "3 & -1 & -2 \\\\\n",
       "2 & 0 & -2 \\\\\n",
       "2 & -1 & -1\n",
       "\\end{array}\\right)</script></html>"
      ],
      "text/plain": [
       "[ 2 -1 -2]\n",
       "[ 2 -1 -2]\n",
       "[ 2 -1 -2] '+' [1 0 0]\n",
       "[0 1 0]\n",
       "[0 0 1] '=' [ 3 -1 -2]\n",
       "[ 2  0 -2]\n",
       "[ 2 -1 -1]"
      ]
     },
     "metadata": {},
     "output_type": "display_data"
    }
   ],
   "source": []
  },
  {
   "cell_type": "code",
   "execution_count": null,
   "metadata": {},
   "outputs": [],
   "source": []
  }
 ],
 "metadata": {
  "kernelspec": {
   "display_name": "SageMath 9.1.beta4",
   "language": "sage",
   "name": "sagemath"
  },
  "language_info": {
   "codemirror_mode": {
    "name": "ipython",
    "version": 3
   },
   "file_extension": ".py",
   "mimetype": "text/x-python",
   "name": "python",
   "nbconvert_exporter": "python",
   "pygments_lexer": "ipython3",
   "version": "3.7.3"
  }
 },
 "nbformat": 4,
 "nbformat_minor": 2
}
