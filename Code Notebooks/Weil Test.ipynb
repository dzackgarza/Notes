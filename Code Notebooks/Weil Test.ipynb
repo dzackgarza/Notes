{
 "cells": [
  {
   "cell_type": "markdown",
   "metadata": {},
   "source": [
    "[Link to Weil Paper](https://www.projecteuclid.org/download/pdf_1/euclid.bams/1183513798)"
   ]
  },
  {
   "cell_type": "code",
   "execution_count": 1,
   "metadata": {},
   "outputs": [],
   "source": [
    "%display latex"
   ]
  },
  {
   "cell_type": "code",
   "execution_count": 14,
   "metadata": {},
   "outputs": [],
   "source": [
    "q = 5\n",
    "K = GF(q)\n",
    "A = AffineSpace(3, K)\n",
    "\n",
    "def f(x):\n",
    "    return(x[0]^2 + x[1]^2 + x[2]^2)"
   ]
  },
  {
   "cell_type": "code",
   "execution_count": 21,
   "metadata": {},
   "outputs": [
    {
     "data": {
      "text/html": [
       "<html><script type=\"math/tex; mode=display\">\\newcommand{\\Bold}[1]{\\mathbf{#1}}\\left(0, 0, 0\\right)</script></html>"
      ],
      "text/plain": [
       "(0, 0, 0)"
      ]
     },
     "execution_count": 21,
     "metadata": {},
     "output_type": "execute_result"
    }
   ],
   "source": [
    "A(0,0,0)"
   ]
  },
  {
   "cell_type": "markdown",
   "metadata": {},
   "source": [
    "Generally, we're fixing a field $k$ of positive characteristic, considering equations of the form\n",
    "$$\n",
    "\\sum_{i=1}^n a_i x_i^{n_i} = 0\n",
    "$$\n",
    "in the polynomial ring $A = k[x_1, \\cdots, x_n]$.\n",
    "\n",
    "\n",
    "\n",
    "For an example, take $K = \\mathbb{F}_5$ and $A = k[x_1, x_2]$, and consider the variety\n",
    "$$\n",
    "f(x_1, x_2) = x_1^2 + x_2^2 = 0\n",
    "$$\n",
    "\n",
    "where \n",
    "\n",
    "- $q = 2$\n",
    "- $n_i = 2$ for all $i$\n",
    "- $a_i = 1$ for all $i$\n",
    "- $N = 8$ (as we will find out)"
   ]
  },
  {
   "cell_type": "code",
   "execution_count": 22,
   "metadata": {},
   "outputs": [
    {
     "data": {
      "text/html": [
       "<html><script type=\"math/tex; mode=display\">\\newcommand{\\Bold}[1]{\\mathbf{#1}}\\left[\\left(1, 0, 0\\right), \\left(2, 0, 0\\right), \\left(3, 0, 0\\right), \\left(4, 0, 0\\right), \\left(0, 1, 0\\right), \\left(1, 1, 0\\right), \\left(2, 1, 0\\right), \\left(3, 1, 0\\right), \\left(4, 1, 0\\right), \\left(0, 2, 0\\right), \\left(1, 2, 0\\right), \\left(2, 2, 0\\right), \\left(3, 2, 0\\right), \\left(4, 2, 0\\right), \\left(0, 3, 0\\right), \\left(1, 3, 0\\right), \\left(2, 3, 0\\right), \\left(3, 3, 0\\right), \\left(4, 3, 0\\right), \\left(0, 4, 0\\right), \\left(1, 4, 0\\right), \\left(2, 4, 0\\right), \\left(3, 4, 0\\right), \\left(4, 4, 0\\right), \\left(0, 0, 1\\right), \\left(1, 0, 1\\right), \\left(2, 0, 1\\right), \\left(3, 0, 1\\right), \\left(4, 0, 1\\right), \\left(0, 1, 1\\right), \\left(1, 1, 1\\right), \\left(2, 1, 1\\right), \\left(3, 1, 1\\right), \\left(4, 1, 1\\right), \\left(0, 2, 1\\right), \\left(1, 2, 1\\right), \\left(2, 2, 1\\right), \\left(3, 2, 1\\right), \\left(4, 2, 1\\right), \\left(0, 3, 1\\right), \\left(1, 3, 1\\right), \\left(2, 3, 1\\right), \\left(3, 3, 1\\right), \\left(4, 3, 1\\right), \\left(0, 4, 1\\right), \\left(1, 4, 1\\right), \\left(2, 4, 1\\right), \\left(3, 4, 1\\right), \\left(4, 4, 1\\right), \\left(0, 0, 2\\right), \\left(1, 0, 2\\right), \\left(2, 0, 2\\right), \\left(3, 0, 2\\right), \\left(4, 0, 2\\right), \\left(0, 1, 2\\right), \\left(1, 1, 2\\right), \\left(2, 1, 2\\right), \\left(3, 1, 2\\right), \\left(4, 1, 2\\right), \\left(0, 2, 2\\right), \\left(1, 2, 2\\right), \\left(2, 2, 2\\right), \\left(3, 2, 2\\right), \\left(4, 2, 2\\right), \\left(0, 3, 2\\right), \\left(1, 3, 2\\right), \\left(2, 3, 2\\right), \\left(3, 3, 2\\right), \\left(4, 3, 2\\right), \\left(0, 4, 2\\right), \\left(1, 4, 2\\right), \\left(2, 4, 2\\right), \\left(3, 4, 2\\right), \\left(4, 4, 2\\right), \\left(0, 0, 3\\right), \\left(1, 0, 3\\right), \\left(2, 0, 3\\right), \\left(3, 0, 3\\right), \\left(4, 0, 3\\right), \\left(0, 1, 3\\right), \\left(1, 1, 3\\right), \\left(2, 1, 3\\right), \\left(3, 1, 3\\right), \\left(4, 1, 3\\right), \\left(0, 2, 3\\right), \\left(1, 2, 3\\right), \\left(2, 2, 3\\right), \\left(3, 2, 3\\right), \\left(4, 2, 3\\right), \\left(0, 3, 3\\right), \\left(1, 3, 3\\right), \\left(2, 3, 3\\right), \\left(3, 3, 3\\right), \\left(4, 3, 3\\right), \\left(0, 4, 3\\right), \\left(1, 4, 3\\right), \\left(2, 4, 3\\right), \\left(3, 4, 3\\right), \\left(4, 4, 3\\right), \\left(0, 0, 4\\right), \\left(1, 0, 4\\right), \\left(2, 0, 4\\right), \\left(3, 0, 4\\right), \\left(4, 0, 4\\right), \\left(0, 1, 4\\right), \\left(1, 1, 4\\right), \\left(2, 1, 4\\right), \\left(3, 1, 4\\right), \\left(4, 1, 4\\right), \\left(0, 2, 4\\right), \\left(1, 2, 4\\right), \\left(2, 2, 4\\right), \\left(3, 2, 4\\right), \\left(4, 2, 4\\right), \\left(0, 3, 4\\right), \\left(1, 3, 4\\right), \\left(2, 3, 4\\right), \\left(3, 3, 4\\right), \\left(4, 3, 4\\right), \\left(0, 4, 4\\right), \\left(1, 4, 4\\right), \\left(2, 4, 4\\right), \\left(3, 4, 4\\right), \\left(4, 4, 4\\right)\\right]</script></html>"
      ],
      "text/plain": [
       "[(1, 0, 0),\n",
       " (2, 0, 0),\n",
       " (3, 0, 0),\n",
       " (4, 0, 0),\n",
       " (0, 1, 0),\n",
       " (1, 1, 0),\n",
       " (2, 1, 0),\n",
       " (3, 1, 0),\n",
       " (4, 1, 0),\n",
       " (0, 2, 0),\n",
       " (1, 2, 0),\n",
       " (2, 2, 0),\n",
       " (3, 2, 0),\n",
       " (4, 2, 0),\n",
       " (0, 3, 0),\n",
       " (1, 3, 0),\n",
       " (2, 3, 0),\n",
       " (3, 3, 0),\n",
       " (4, 3, 0),\n",
       " (0, 4, 0),\n",
       " (1, 4, 0),\n",
       " (2, 4, 0),\n",
       " (3, 4, 0),\n",
       " (4, 4, 0),\n",
       " (0, 0, 1),\n",
       " (1, 0, 1),\n",
       " (2, 0, 1),\n",
       " (3, 0, 1),\n",
       " (4, 0, 1),\n",
       " (0, 1, 1),\n",
       " (1, 1, 1),\n",
       " (2, 1, 1),\n",
       " (3, 1, 1),\n",
       " (4, 1, 1),\n",
       " (0, 2, 1),\n",
       " (1, 2, 1),\n",
       " (2, 2, 1),\n",
       " (3, 2, 1),\n",
       " (4, 2, 1),\n",
       " (0, 3, 1),\n",
       " (1, 3, 1),\n",
       " (2, 3, 1),\n",
       " (3, 3, 1),\n",
       " (4, 3, 1),\n",
       " (0, 4, 1),\n",
       " (1, 4, 1),\n",
       " (2, 4, 1),\n",
       " (3, 4, 1),\n",
       " (4, 4, 1),\n",
       " (0, 0, 2),\n",
       " (1, 0, 2),\n",
       " (2, 0, 2),\n",
       " (3, 0, 2),\n",
       " (4, 0, 2),\n",
       " (0, 1, 2),\n",
       " (1, 1, 2),\n",
       " (2, 1, 2),\n",
       " (3, 1, 2),\n",
       " (4, 1, 2),\n",
       " (0, 2, 2),\n",
       " (1, 2, 2),\n",
       " (2, 2, 2),\n",
       " (3, 2, 2),\n",
       " (4, 2, 2),\n",
       " (0, 3, 2),\n",
       " (1, 3, 2),\n",
       " (2, 3, 2),\n",
       " (3, 3, 2),\n",
       " (4, 3, 2),\n",
       " (0, 4, 2),\n",
       " (1, 4, 2),\n",
       " (2, 4, 2),\n",
       " (3, 4, 2),\n",
       " (4, 4, 2),\n",
       " (0, 0, 3),\n",
       " (1, 0, 3),\n",
       " (2, 0, 3),\n",
       " (3, 0, 3),\n",
       " (4, 0, 3),\n",
       " (0, 1, 3),\n",
       " (1, 1, 3),\n",
       " (2, 1, 3),\n",
       " (3, 1, 3),\n",
       " (4, 1, 3),\n",
       " (0, 2, 3),\n",
       " (1, 2, 3),\n",
       " (2, 2, 3),\n",
       " (3, 2, 3),\n",
       " (4, 2, 3),\n",
       " (0, 3, 3),\n",
       " (1, 3, 3),\n",
       " (2, 3, 3),\n",
       " (3, 3, 3),\n",
       " (4, 3, 3),\n",
       " (0, 4, 3),\n",
       " (1, 4, 3),\n",
       " (2, 4, 3),\n",
       " (3, 4, 3),\n",
       " (4, 4, 3),\n",
       " (0, 0, 4),\n",
       " (1, 0, 4),\n",
       " (2, 0, 4),\n",
       " (3, 0, 4),\n",
       " (4, 0, 4),\n",
       " (0, 1, 4),\n",
       " (1, 1, 4),\n",
       " (2, 1, 4),\n",
       " (3, 1, 4),\n",
       " (4, 1, 4),\n",
       " (0, 2, 4),\n",
       " (1, 2, 4),\n",
       " (2, 2, 4),\n",
       " (3, 2, 4),\n",
       " (4, 2, 4),\n",
       " (0, 3, 4),\n",
       " (1, 3, 4),\n",
       " (2, 3, 4),\n",
       " (3, 3, 4),\n",
       " (4, 3, 4),\n",
       " (0, 4, 4),\n",
       " (1, 4, 4),\n",
       " (2, 4, 4),\n",
       " (3, 4, 4),\n",
       " (4, 4, 4)]"
      ]
     },
     "execution_count": 22,
     "metadata": {},
     "output_type": "execute_result"
    }
   ],
   "source": [
    "A_pts = [p for p in A if p!=A(0,0,0)]\n",
    "A_pts"
   ]
  },
  {
   "cell_type": "code",
   "execution_count": null,
   "metadata": {},
   "outputs": [],
   "source": [
    "#for p in A_pts:\n",
    "#    show(\"f\", p, \"=\", f(p))"
   ]
  },
  {
   "cell_type": "code",
   "execution_count": 23,
   "metadata": {},
   "outputs": [
    {
     "data": {
      "text/html": [
       "<html><script type=\"math/tex; mode=display\">\\newcommand{\\Bold}[1]{\\mathbf{#1}}2 \\verb|^2|\\phantom{\\verb!x!}\\verb|+| 1 \\verb|^2|\\phantom{\\verb!x!}\\verb|=| 0</script></html>"
      ],
      "text/plain": [
       "2 '^2 +' 1 '^2 = ' 0"
      ]
     },
     "metadata": {},
     "output_type": "display_data"
    },
    {
     "data": {
      "text/html": [
       "<html><script type=\"math/tex; mode=display\">\\newcommand{\\Bold}[1]{\\mathbf{#1}}3 \\verb|^2|\\phantom{\\verb!x!}\\verb|+| 1 \\verb|^2|\\phantom{\\verb!x!}\\verb|=| 0</script></html>"
      ],
      "text/plain": [
       "3 '^2 +' 1 '^2 = ' 0"
      ]
     },
     "metadata": {},
     "output_type": "display_data"
    },
    {
     "data": {
      "text/html": [
       "<html><script type=\"math/tex; mode=display\">\\newcommand{\\Bold}[1]{\\mathbf{#1}}1 \\verb|^2|\\phantom{\\verb!x!}\\verb|+| 2 \\verb|^2|\\phantom{\\verb!x!}\\verb|=| 0</script></html>"
      ],
      "text/plain": [
       "1 '^2 +' 2 '^2 = ' 0"
      ]
     },
     "metadata": {},
     "output_type": "display_data"
    },
    {
     "data": {
      "text/html": [
       "<html><script type=\"math/tex; mode=display\">\\newcommand{\\Bold}[1]{\\mathbf{#1}}4 \\verb|^2|\\phantom{\\verb!x!}\\verb|+| 2 \\verb|^2|\\phantom{\\verb!x!}\\verb|=| 0</script></html>"
      ],
      "text/plain": [
       "4 '^2 +' 2 '^2 = ' 0"
      ]
     },
     "metadata": {},
     "output_type": "display_data"
    },
    {
     "data": {
      "text/html": [
       "<html><script type=\"math/tex; mode=display\">\\newcommand{\\Bold}[1]{\\mathbf{#1}}1 \\verb|^2|\\phantom{\\verb!x!}\\verb|+| 3 \\verb|^2|\\phantom{\\verb!x!}\\verb|=| 0</script></html>"
      ],
      "text/plain": [
       "1 '^2 +' 3 '^2 = ' 0"
      ]
     },
     "metadata": {},
     "output_type": "display_data"
    },
    {
     "data": {
      "text/html": [
       "<html><script type=\"math/tex; mode=display\">\\newcommand{\\Bold}[1]{\\mathbf{#1}}4 \\verb|^2|\\phantom{\\verb!x!}\\verb|+| 3 \\verb|^2|\\phantom{\\verb!x!}\\verb|=| 0</script></html>"
      ],
      "text/plain": [
       "4 '^2 +' 3 '^2 = ' 0"
      ]
     },
     "metadata": {},
     "output_type": "display_data"
    },
    {
     "data": {
      "text/html": [
       "<html><script type=\"math/tex; mode=display\">\\newcommand{\\Bold}[1]{\\mathbf{#1}}2 \\verb|^2|\\phantom{\\verb!x!}\\verb|+| 4 \\verb|^2|\\phantom{\\verb!x!}\\verb|=| 0</script></html>"
      ],
      "text/plain": [
       "2 '^2 +' 4 '^2 = ' 0"
      ]
     },
     "metadata": {},
     "output_type": "display_data"
    },
    {
     "data": {
      "text/html": [
       "<html><script type=\"math/tex; mode=display\">\\newcommand{\\Bold}[1]{\\mathbf{#1}}3 \\verb|^2|\\phantom{\\verb!x!}\\verb|+| 4 \\verb|^2|\\phantom{\\verb!x!}\\verb|=| 0</script></html>"
      ],
      "text/plain": [
       "3 '^2 +' 4 '^2 = ' 0"
      ]
     },
     "metadata": {},
     "output_type": "display_data"
    },
    {
     "data": {
      "text/html": [
       "<html><script type=\"math/tex; mode=display\">\\newcommand{\\Bold}[1]{\\mathbf{#1}}2 \\verb|^2|\\phantom{\\verb!x!}\\verb|+| 0 \\verb|^2|\\phantom{\\verb!x!}\\verb|=| 0</script></html>"
      ],
      "text/plain": [
       "2 '^2 +' 0 '^2 = ' 0"
      ]
     },
     "metadata": {},
     "output_type": "display_data"
    },
    {
     "data": {
      "text/html": [
       "<html><script type=\"math/tex; mode=display\">\\newcommand{\\Bold}[1]{\\mathbf{#1}}3 \\verb|^2|\\phantom{\\verb!x!}\\verb|+| 0 \\verb|^2|\\phantom{\\verb!x!}\\verb|=| 0</script></html>"
      ],
      "text/plain": [
       "3 '^2 +' 0 '^2 = ' 0"
      ]
     },
     "metadata": {},
     "output_type": "display_data"
    },
    {
     "data": {
      "text/html": [
       "<html><script type=\"math/tex; mode=display\">\\newcommand{\\Bold}[1]{\\mathbf{#1}}0 \\verb|^2|\\phantom{\\verb!x!}\\verb|+| 2 \\verb|^2|\\phantom{\\verb!x!}\\verb|=| 0</script></html>"
      ],
      "text/plain": [
       "0 '^2 +' 2 '^2 = ' 0"
      ]
     },
     "metadata": {},
     "output_type": "display_data"
    },
    {
     "data": {
      "text/html": [
       "<html><script type=\"math/tex; mode=display\">\\newcommand{\\Bold}[1]{\\mathbf{#1}}0 \\verb|^2|\\phantom{\\verb!x!}\\verb|+| 3 \\verb|^2|\\phantom{\\verb!x!}\\verb|=| 0</script></html>"
      ],
      "text/plain": [
       "0 '^2 +' 3 '^2 = ' 0"
      ]
     },
     "metadata": {},
     "output_type": "display_data"
    },
    {
     "data": {
      "text/html": [
       "<html><script type=\"math/tex; mode=display\">\\newcommand{\\Bold}[1]{\\mathbf{#1}}1 \\verb|^2|\\phantom{\\verb!x!}\\verb|+| 0 \\verb|^2|\\phantom{\\verb!x!}\\verb|=| 0</script></html>"
      ],
      "text/plain": [
       "1 '^2 +' 0 '^2 = ' 0"
      ]
     },
     "metadata": {},
     "output_type": "display_data"
    },
    {
     "data": {
      "text/html": [
       "<html><script type=\"math/tex; mode=display\">\\newcommand{\\Bold}[1]{\\mathbf{#1}}4 \\verb|^2|\\phantom{\\verb!x!}\\verb|+| 0 \\verb|^2|\\phantom{\\verb!x!}\\verb|=| 0</script></html>"
      ],
      "text/plain": [
       "4 '^2 +' 0 '^2 = ' 0"
      ]
     },
     "metadata": {},
     "output_type": "display_data"
    },
    {
     "data": {
      "text/html": [
       "<html><script type=\"math/tex; mode=display\">\\newcommand{\\Bold}[1]{\\mathbf{#1}}0 \\verb|^2|\\phantom{\\verb!x!}\\verb|+| 1 \\verb|^2|\\phantom{\\verb!x!}\\verb|=| 0</script></html>"
      ],
      "text/plain": [
       "0 '^2 +' 1 '^2 = ' 0"
      ]
     },
     "metadata": {},
     "output_type": "display_data"
    },
    {
     "data": {
      "text/html": [
       "<html><script type=\"math/tex; mode=display\">\\newcommand{\\Bold}[1]{\\mathbf{#1}}0 \\verb|^2|\\phantom{\\verb!x!}\\verb|+| 4 \\verb|^2|\\phantom{\\verb!x!}\\verb|=| 0</script></html>"
      ],
      "text/plain": [
       "0 '^2 +' 4 '^2 = ' 0"
      ]
     },
     "metadata": {},
     "output_type": "display_data"
    },
    {
     "data": {
      "text/html": [
       "<html><script type=\"math/tex; mode=display\">\\newcommand{\\Bold}[1]{\\mathbf{#1}}1 \\verb|^2|\\phantom{\\verb!x!}\\verb|+| 0 \\verb|^2|\\phantom{\\verb!x!}\\verb|=| 0</script></html>"
      ],
      "text/plain": [
       "1 '^2 +' 0 '^2 = ' 0"
      ]
     },
     "metadata": {},
     "output_type": "display_data"
    },
    {
     "data": {
      "text/html": [
       "<html><script type=\"math/tex; mode=display\">\\newcommand{\\Bold}[1]{\\mathbf{#1}}4 \\verb|^2|\\phantom{\\verb!x!}\\verb|+| 0 \\verb|^2|\\phantom{\\verb!x!}\\verb|=| 0</script></html>"
      ],
      "text/plain": [
       "4 '^2 +' 0 '^2 = ' 0"
      ]
     },
     "metadata": {},
     "output_type": "display_data"
    },
    {
     "data": {
      "text/html": [
       "<html><script type=\"math/tex; mode=display\">\\newcommand{\\Bold}[1]{\\mathbf{#1}}0 \\verb|^2|\\phantom{\\verb!x!}\\verb|+| 1 \\verb|^2|\\phantom{\\verb!x!}\\verb|=| 0</script></html>"
      ],
      "text/plain": [
       "0 '^2 +' 1 '^2 = ' 0"
      ]
     },
     "metadata": {},
     "output_type": "display_data"
    },
    {
     "data": {
      "text/html": [
       "<html><script type=\"math/tex; mode=display\">\\newcommand{\\Bold}[1]{\\mathbf{#1}}0 \\verb|^2|\\phantom{\\verb!x!}\\verb|+| 4 \\verb|^2|\\phantom{\\verb!x!}\\verb|=| 0</script></html>"
      ],
      "text/plain": [
       "0 '^2 +' 4 '^2 = ' 0"
      ]
     },
     "metadata": {},
     "output_type": "display_data"
    },
    {
     "data": {
      "text/html": [
       "<html><script type=\"math/tex; mode=display\">\\newcommand{\\Bold}[1]{\\mathbf{#1}}2 \\verb|^2|\\phantom{\\verb!x!}\\verb|+| 0 \\verb|^2|\\phantom{\\verb!x!}\\verb|=| 0</script></html>"
      ],
      "text/plain": [
       "2 '^2 +' 0 '^2 = ' 0"
      ]
     },
     "metadata": {},
     "output_type": "display_data"
    },
    {
     "data": {
      "text/html": [
       "<html><script type=\"math/tex; mode=display\">\\newcommand{\\Bold}[1]{\\mathbf{#1}}3 \\verb|^2|\\phantom{\\verb!x!}\\verb|+| 0 \\verb|^2|\\phantom{\\verb!x!}\\verb|=| 0</script></html>"
      ],
      "text/plain": [
       "3 '^2 +' 0 '^2 = ' 0"
      ]
     },
     "metadata": {},
     "output_type": "display_data"
    },
    {
     "data": {
      "text/html": [
       "<html><script type=\"math/tex; mode=display\">\\newcommand{\\Bold}[1]{\\mathbf{#1}}0 \\verb|^2|\\phantom{\\verb!x!}\\verb|+| 2 \\verb|^2|\\phantom{\\verb!x!}\\verb|=| 0</script></html>"
      ],
      "text/plain": [
       "0 '^2 +' 2 '^2 = ' 0"
      ]
     },
     "metadata": {},
     "output_type": "display_data"
    },
    {
     "data": {
      "text/html": [
       "<html><script type=\"math/tex; mode=display\">\\newcommand{\\Bold}[1]{\\mathbf{#1}}0 \\verb|^2|\\phantom{\\verb!x!}\\verb|+| 3 \\verb|^2|\\phantom{\\verb!x!}\\verb|=| 0</script></html>"
      ],
      "text/plain": [
       "0 '^2 +' 3 '^2 = ' 0"
      ]
     },
     "metadata": {},
     "output_type": "display_data"
    }
   ],
   "source": [
    "# Brute force all of the solutions\n",
    "solutions = [(p, f(p)) for p in A_pts if f(p) == 0]\n",
    "\n",
    "# List them out\n",
    "for s in solutions: \n",
    "    show(s[0][0], \"^2 +\", s[0][1], \"^2 = \", s[1])"
   ]
  },
  {
   "cell_type": "code",
   "execution_count": 24,
   "metadata": {},
   "outputs": [
    {
     "data": {
      "text/html": [
       "<html><script type=\"math/tex; mode=display\">\\newcommand{\\Bold}[1]{\\mathbf{#1}}24</script></html>"
      ],
      "text/plain": [
       "24"
      ]
     },
     "metadata": {},
     "output_type": "display_data"
    }
   ],
   "source": [
    "# Count them\n",
    "N = len(solutions)\n",
    "show(N)"
   ]
  },
  {
   "cell_type": "code",
   "execution_count": 25,
   "metadata": {},
   "outputs": [
    {
     "data": {
      "text/html": [
       "<html><script type=\"math/tex; mode=display\">\\newcommand{\\Bold}[1]{\\mathbf{#1}}\\verb|q=| 5</script></html>"
      ],
      "text/plain": [
       "'q=' 5"
      ]
     },
     "metadata": {},
     "output_type": "display_data"
    },
    {
     "data": {
      "text/html": [
       "<html><script type=\"math/tex; mode=display\">\\newcommand{\\Bold}[1]{\\mathbf{#1}}\\verb|d_i=| 2</script></html>"
      ],
      "text/plain": [
       "'d_i=' 2"
      ]
     },
     "metadata": {},
     "output_type": "display_data"
    }
   ],
   "source": [
    "di = gcd(2, q-1)\n",
    "show(\"q=\",q)\n",
    "show(\"d_i=\",di)"
   ]
  },
  {
   "cell_type": "code",
   "execution_count": 26,
   "metadata": {},
   "outputs": [],
   "source": [
    "def Ni(u):\n",
    "    ni_th_roots = u.nth_root(2, all=True)\n",
    "    return(len(ni_th_roots))"
   ]
  },
  {
   "cell_type": "code",
   "execution_count": 27,
   "metadata": {},
   "outputs": [
    {
     "data": {
      "text/html": [
       "<html><script type=\"math/tex; mode=display\">\\newcommand{\\Bold}[1]{\\mathbf{#1}}\\left[\\left(0, 1\\right), \\left(1, 2\\right), \\left(2, 0\\right), \\left(3, 0\\right), \\left(4, 2\\right)\\right]</script></html>"
      ],
      "text/plain": [
       "[(0, 1), (1, 2), (2, 0), (3, 0), (4, 2)]"
      ]
     },
     "execution_count": 27,
     "metadata": {},
     "output_type": "execute_result"
    }
   ],
   "source": [
    "[(u, Ni(u)) for u in K]"
   ]
  },
  {
   "cell_type": "code",
   "execution_count": 28,
   "metadata": {},
   "outputs": [
    {
     "data": {
      "text/html": [
       "<html><script type=\"math/tex; mode=display\">\\newcommand{\\Bold}[1]{\\mathbf{#1}}\\left[\\left(0, 0\\right), \\left(1, 1\\right), \\left(2, 4\\right), \\left(3, 4\\right), \\left(4, 1\\right)\\right]</script></html>"
      ],
      "text/plain": [
       "[(0, 0), (1, 1), (2, 4), (3, 4), (4, 1)]"
      ]
     },
     "execution_count": 28,
     "metadata": {},
     "output_type": "execute_result"
    }
   ],
   "source": [
    "# Compute all of the squares in $K$.\n",
    "[(x, x^2) for x in K]"
   ]
  },
  {
   "cell_type": "markdown",
   "metadata": {},
   "source": [
    "We can also check manually:\n",
    "\n",
    "- 0 has one square root: 0\n",
    "- 1 has one square root: 1\n",
    "- 2 has zero square roots\n",
    "- 3 has zero square roots\n",
    "- 4 has one square root: 3\n",
    "\n",
    "Weyl now says that we should consider the auxiliary equation\n",
    "$$\n",
    "L(u) = \\sum_{i=1}^n a_i x_i\n",
    "$$\n",
    "obtained by dropping all exponents."
   ]
  },
  {
   "cell_type": "code",
   "execution_count": 29,
   "metadata": {},
   "outputs": [
    {
     "data": {
      "text/html": [
       "<html><script type=\"math/tex; mode=display\">\\newcommand{\\Bold}[1]{\\mathbf{#1}}\\left[\\left(4, 1, 0\\right), \\left(3, 2, 0\\right), \\left(2, 3, 0\\right), \\left(1, 4, 0\\right), \\left(4, 0, 1\\right), \\left(3, 1, 1\\right), \\left(2, 2, 1\\right), \\left(1, 3, 1\\right), \\left(0, 4, 1\\right), \\left(3, 0, 2\\right), \\left(2, 1, 2\\right), \\left(1, 2, 2\\right), \\left(0, 3, 2\\right), \\left(4, 4, 2\\right), \\left(2, 0, 3\\right), \\left(1, 1, 3\\right), \\left(0, 2, 3\\right), \\left(4, 3, 3\\right), \\left(3, 4, 3\\right), \\left(1, 0, 4\\right), \\left(0, 1, 4\\right), \\left(4, 2, 4\\right), \\left(3, 3, 4\\right), \\left(2, 4, 4\\right)\\right]</script></html>"
      ],
      "text/plain": [
       "[(4, 1, 0),\n",
       " (3, 2, 0),\n",
       " (2, 3, 0),\n",
       " (1, 4, 0),\n",
       " (4, 0, 1),\n",
       " (3, 1, 1),\n",
       " (2, 2, 1),\n",
       " (1, 3, 1),\n",
       " (0, 4, 1),\n",
       " (3, 0, 2),\n",
       " (2, 1, 2),\n",
       " (1, 2, 2),\n",
       " (0, 3, 2),\n",
       " (4, 4, 2),\n",
       " (2, 0, 3),\n",
       " (1, 1, 3),\n",
       " (0, 2, 3),\n",
       " (4, 3, 3),\n",
       " (3, 4, 3),\n",
       " (1, 0, 4),\n",
       " (0, 1, 4),\n",
       " (4, 2, 4),\n",
       " (3, 3, 4),\n",
       " (2, 4, 4)]"
      ]
     },
     "metadata": {},
     "output_type": "display_data"
    },
    {
     "data": {
      "text/html": [
       "<html><script type=\"math/tex; mode=display\">\\newcommand{\\Bold}[1]{\\mathbf{#1}}24</script></html>"
      ],
      "text/plain": [
       "24"
      ]
     },
     "metadata": {},
     "output_type": "display_data"
    }
   ],
   "source": [
    "def L(x):\n",
    "    return(x[0] + x[1] + x[2])\n",
    "\n",
    "L_solns = [p for p in A_pts if L(p) == 0]\n",
    "show(L_solns)\n",
    "show(len(L_solns))"
   ]
  },
  {
   "cell_type": "code",
   "execution_count": 30,
   "metadata": {},
   "outputs": [
    {
     "data": {
      "text/html": [
       "<html><script type=\"math/tex; mode=display\">\\newcommand{\\Bold}[1]{\\mathbf{#1}}24</script></html>"
      ],
      "text/plain": [
       "24"
      ]
     },
     "execution_count": 30,
     "metadata": {},
     "output_type": "execute_result"
    }
   ],
   "source": [
    "sum([(Ni(p[0]) * Ni(p[1])) for p in L_solns])"
   ]
  },
  {
   "cell_type": "code",
   "execution_count": null,
   "metadata": {},
   "outputs": [],
   "source": []
  }
 ],
 "metadata": {
  "kernelspec": {
   "display_name": "SageMath 9.1.beta4",
   "language": "sage",
   "name": "sagemath"
  },
  "language_info": {
   "codemirror_mode": {
    "name": "ipython",
    "version": 3
   },
   "file_extension": ".py",
   "mimetype": "text/x-python",
   "name": "python",
   "nbconvert_exporter": "python",
   "pygments_lexer": "ipython3",
   "version": "3.7.3"
  }
 },
 "nbformat": 4,
 "nbformat_minor": 2
}
