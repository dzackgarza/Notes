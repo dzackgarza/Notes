{
 "cells": [
  {
   "cell_type": "code",
   "execution_count": 5,
   "metadata": {},
   "outputs": [
    {
     "data": {
      "text/html": [
       "<html><script type=\"math/tex; mode=display\">\\newcommand{\\Bold}[1]{\\mathbf{#1}}\\left(w, a\\right)</script></html>"
      ],
      "text/plain": [
       "(w, a)"
      ]
     },
     "execution_count": 5,
     "metadata": {},
     "output_type": "execute_result"
    }
   ],
   "source": [
    "%display latex\n",
    "var('w', 'a')"
   ]
  },
  {
   "cell_type": "code",
   "execution_count": 9,
   "metadata": {},
   "outputs": [
    {
     "data": {
      "text/html": [
       "<html><script type=\"math/tex; mode=display\">\\newcommand{\\Bold}[1]{\\mathbf{#1}}-\\frac{4 i \\, w}{{\\left(a + w + \\sqrt{a^{2} - 1}\\right)}^{2} {\\left(a + w - \\sqrt{a^{2} - 1}\\right)}^{2}}</script></html>"
      ],
      "text/plain": [
       "-4*I*w/((a + w + sqrt(a^2 - 1))^2*(a + w - sqrt(a^2 - 1))^2)"
      ]
     },
     "execution_count": 9,
     "metadata": {},
     "output_type": "execute_result"
    }
   ],
   "source": [
    "r1  = -sqrt(a^2-1) - a\n",
    "r2  = sqrt(a^2-1) - a\n",
    "f = -4*i*w / ( (w - r1)*(w-r2))^2\n",
    "f"
   ]
  },
  {
   "cell_type": "code",
   "execution_count": 10,
   "metadata": {},
   "outputs": [
    {
     "data": {
      "text/html": [
       "<html><script type=\"math/tex; mode=display\">\\newcommand{\\Bold}[1]{\\mathbf{#1}}-\\frac{4 i}{{\\left(a + w + \\sqrt{a^{2} - 1}\\right)}^{2} {\\left(a + w - \\sqrt{a^{2} - 1}\\right)}^{2}} + \\frac{8 i \\, w}{{\\left(a + w + \\sqrt{a^{2} - 1}\\right)}^{2} {\\left(a + w - \\sqrt{a^{2} - 1}\\right)}^{3}} + \\frac{8 i \\, w}{{\\left(a + w + \\sqrt{a^{2} - 1}\\right)}^{3} {\\left(a + w - \\sqrt{a^{2} - 1}\\right)}^{2}}</script></html>"
      ],
      "text/plain": [
       "-4*I/((a + w + sqrt(a^2 - 1))^2*(a + w - sqrt(a^2 - 1))^2) + 8*I*w/((a + w + sqrt(a^2 - 1))^2*(a + w - sqrt(a^2 - 1))^3) + 8*I*w/((a + w + sqrt(a^2 - 1))^3*(a + w - sqrt(a^2 - 1))^2)"
      ]
     },
     "execution_count": 10,
     "metadata": {},
     "output_type": "execute_result"
    }
   ],
   "source": [
    "f.derivative(w)"
   ]
  },
  {
   "cell_type": "code",
   "execution_count": 12,
   "metadata": {},
   "outputs": [
    {
     "data": {
      "text/html": [
       "<html><script type=\"math/tex; mode=display\">\\newcommand{\\Bold}[1]{\\mathbf{#1}}-\\frac{4 i \\, w}{{\\left(a + w + \\sqrt{a^{2} - 1}\\right)}^{2}}</script></html>"
      ],
      "text/plain": [
       "-4*I*w/(a + w + sqrt(a^2 - 1))^2"
      ]
     },
     "execution_count": 12,
     "metadata": {},
     "output_type": "execute_result"
    }
   ],
   "source": [
    "g = f * (w-r2)^2\n",
    "g"
   ]
  },
  {
   "cell_type": "code",
   "execution_count": 15,
   "metadata": {},
   "outputs": [
    {
     "data": {
      "text/html": [
       "<html><script type=\"math/tex; mode=display\">\\newcommand{\\Bold}[1]{\\mathbf{#1}}-\\frac{2 \\, \\pi {\\left(a - \\sqrt{a^{2} - 1}\\right)}}{a^{2} - 1}</script></html>"
      ],
      "text/plain": [
       "-2*pi*(a - sqrt(a^2 - 1))/(a^2 - 1)"
      ]
     },
     "execution_count": 15,
     "metadata": {},
     "output_type": "execute_result"
    }
   ],
   "source": [
    "2*pi*i*g(w = r2)"
   ]
  },
  {
   "cell_type": "code",
   "execution_count": 31,
   "metadata": {},
   "outputs": [
    {
     "data": {
      "text/html": [
       "<html><script type=\"math/tex; mode=display\">\\newcommand{\\Bold}[1]{\\mathbf{#1}}-\\frac{4 i \\, w}{{\\left(2 \\, a w + w^{2} + 1\\right)}^{2}}</script></html>"
      ],
      "text/plain": [
       "-4*I*w/(2*a*w + w^2 + 1)^2"
      ]
     },
     "execution_count": 31,
     "metadata": {},
     "output_type": "execute_result"
    }
   ],
   "source": [
    "f = ((1/(i*w)) * 1/(a+1/2*(w + 1/w))^2).partial_fraction()\n",
    "f"
   ]
  },
  {
   "cell_type": "code",
   "execution_count": 19,
   "metadata": {},
   "outputs": [
    {
     "data": {
      "text/html": [
       "<html><script type=\"math/tex; mode=display\">\\newcommand{\\Bold}[1]{\\mathbf{#1}}-\\frac{4 i \\, w}{{\\left(2 \\, a w + w^{2} + 1\\right)}^{2}}</script></html>"
      ],
      "text/plain": [
       "-4*I*w/(2*a*w + w^2 + 1)^2"
      ]
     },
     "execution_count": 19,
     "metadata": {},
     "output_type": "execute_result"
    }
   ],
   "source": [
    "f.partial_fraction()"
   ]
  },
  {
   "cell_type": "code",
   "execution_count": 22,
   "metadata": {},
   "outputs": [
    {
     "data": {
      "text/html": [
       "<html><script type=\"math/tex; mode=display\">\\newcommand{\\Bold}[1]{\\mathbf{#1}}2 \\, a w + w^{2} + 1</script></html>"
      ],
      "text/plain": [
       "2*a*w + w^2 + 1"
      ]
     },
     "execution_count": 22,
     "metadata": {},
     "output_type": "execute_result"
    }
   ],
   "source": [
    "den = (2*a*w + w^2 + 1)\n",
    "den"
   ]
  },
  {
   "cell_type": "code",
   "execution_count": 23,
   "metadata": {},
   "outputs": [
    {
     "data": {
      "text/html": [
       "<html><script type=\"math/tex; mode=display\">\\newcommand{\\Bold}[1]{\\mathbf{#1}}\\left[\\left(2 \\, a w + w^{2} + 1, 1\\right)\\right]</script></html>"
      ],
      "text/plain": [
       "[(2*a*w + w^2 + 1, 1)]"
      ]
     },
     "execution_count": 23,
     "metadata": {},
     "output_type": "execute_result"
    }
   ],
   "source": [
    "den.factor_list()"
   ]
  },
  {
   "cell_type": "code",
   "execution_count": 59,
   "metadata": {},
   "outputs": [
    {
     "data": {
      "text/html": [
       "<html><script type=\"math/tex; mode=display\">\\newcommand{\\Bold}[1]{\\mathbf{#1}}-a - \\sqrt{a^{2} - 1} \\verb|,| -a + \\sqrt{a^{2} - 1}</script></html>"
      ],
      "text/plain": [
       "-a - sqrt(a^2 - 1) ',' -a + sqrt(a^2 - 1)"
      ]
     },
     "metadata": {},
     "output_type": "display_data"
    }
   ],
   "source": [
    "r1 = den.roots(w)[0][0]\n",
    "r2 = den.roots(w)[1][0]\n",
    "show(r1,\",\",r2)"
   ]
  },
  {
   "cell_type": "code",
   "execution_count": 37,
   "metadata": {},
   "outputs": [
    {
     "data": {
      "text/html": [
       "<html><script type=\"math/tex; mode=display\">\\newcommand{\\Bold}[1]{\\mathbf{#1}}-\\frac{4 i \\, {\\left(a - \\sqrt{a^{2} - 1}\\right)}^{2} w}{{\\left(2 \\, a w + w^{2} + 1\\right)}^{2}}</script></html>"
      ],
      "text/plain": [
       "-4*I*(a - sqrt(a^2 - 1))^2*w/(2*a*w + w^2 + 1)^2"
      ]
     },
     "execution_count": 37,
     "metadata": {},
     "output_type": "execute_result"
    }
   ],
   "source": [
    "g = f * (den.roots(w)[1][0])^2\n",
    "g"
   ]
  },
  {
   "cell_type": "code",
   "execution_count": 54,
   "metadata": {},
   "outputs": [
    {
     "data": {
      "text/html": [
       "<html><script type=\"math/tex; mode=display\">\\newcommand{\\Bold}[1]{\\mathbf{#1}}-\\frac{4 i \\, w}{{\\left(a + w + \\sqrt{a^{2} - 1}\\right)}^{2} {\\left(a + w - \\sqrt{a^{2} - 1}\\right)}^{2}}</script></html>"
      ],
      "text/plain": [
       "-4*I*w/((a + w + sqrt(a^2 - 1))^2*(a + w - sqrt(a^2 - 1))^2)"
      ]
     },
     "execution_count": 54,
     "metadata": {},
     "output_type": "execute_result"
    }
   ],
   "source": [
    "g = -4*i*w / ( (w-r1)^2*(w-r2)^2 )\n",
    "g"
   ]
  },
  {
   "cell_type": "code",
   "execution_count": 61,
   "metadata": {},
   "outputs": [
    {
     "data": {
      "text/html": [
       "<html><script type=\"math/tex; mode=display\">\\newcommand{\\Bold}[1]{\\mathbf{#1}}-\\frac{4 i \\, w}{{\\left(a + w + \\sqrt{a^{2} - 1}\\right)}^{2}}</script></html>"
      ],
      "text/plain": [
       "-4*I*w/(a + w + sqrt(a^2 - 1))^2"
      ]
     },
     "execution_count": 61,
     "metadata": {},
     "output_type": "execute_result"
    }
   ],
   "source": [
    "h = g * (w-r2)^2\n",
    "h"
   ]
  },
  {
   "cell_type": "code",
   "execution_count": 66,
   "metadata": {},
   "outputs": [
    {
     "data": {
      "text/html": [
       "<html><script type=\"math/tex; mode=display\">\\newcommand{\\Bold}[1]{\\mathbf{#1}}-\\frac{4 i}{{\\left(a + w + \\sqrt{a^{2} - 1}\\right)}^{2}} + \\frac{8 i \\, w}{{\\left(a + w + \\sqrt{a^{2} - 1}\\right)}^{3}}</script></html>"
      ],
      "text/plain": [
       "-4*I/(a + w + sqrt(a^2 - 1))^2 + 8*I*w/(a + w + sqrt(a^2 - 1))^3"
      ]
     },
     "execution_count": 66,
     "metadata": {},
     "output_type": "execute_result"
    }
   ],
   "source": [
    "hp = h.derivative(w)\n",
    "hp"
   ]
  },
  {
   "cell_type": "code",
   "execution_count": 74,
   "metadata": {},
   "outputs": [
    {
     "data": {
      "text/html": [
       "<html><script type=\"math/tex; mode=display\">\\newcommand{\\Bold}[1]{\\mathbf{#1}}-\\frac{i \\, {\\left(a - \\sqrt{a^{2} - 1}\\right)}}{{\\left(a^{2} - 1\\right)}^{\\frac{3}{2}}} - \\frac{i}{a^{2} - 1}</script></html>"
      ],
      "text/plain": [
       "-I*(a - sqrt(a^2 - 1))/(a^2 - 1)^(3/2) - I/(a^2 - 1)"
      ]
     },
     "execution_count": 74,
     "metadata": {},
     "output_type": "execute_result"
    }
   ],
   "source": [
    "hp(w=r2)"
   ]
  },
  {
   "cell_type": "code",
   "execution_count": 72,
   "metadata": {},
   "outputs": [
    {
     "data": {
      "text/html": [
       "<html><script type=\"math/tex; mode=display\">\\newcommand{\\Bold}[1]{\\mathbf{#1}}\\frac{2 \\, \\pi a}{{\\left(a^{2} - 1\\right)}^{\\frac{3}{2}}}</script></html>"
      ],
      "text/plain": [
       "2*pi*a/(a^2 - 1)^(3/2)"
      ]
     },
     "execution_count": 72,
     "metadata": {},
     "output_type": "execute_result"
    }
   ],
   "source": [
    "(2 * pi * i*hp(w=r2)).simplify_full()"
   ]
  },
  {
   "cell_type": "code",
   "execution_count": 68,
   "metadata": {},
   "outputs": [
    {
     "data": {
      "text/html": [
       "<html><script type=\"math/tex; mode=display\">\\newcommand{\\Bold}[1]{\\mathbf{#1}}2 \\, \\sqrt{a^{2} - 1}</script></html>"
      ],
      "text/plain": [
       "2*sqrt(a^2 - 1)"
      ]
     },
     "execution_count": 68,
     "metadata": {},
     "output_type": "execute_result"
    }
   ],
   "source": [
    "r2 -  r1"
   ]
  },
  {
   "cell_type": "code",
   "execution_count": null,
   "metadata": {},
   "outputs": [],
   "source": []
  }
 ],
 "metadata": {
  "kernelspec": {
   "display_name": "SageMath 9.1.beta4",
   "language": "sage",
   "name": "sagemath"
  },
  "language_info": {
   "codemirror_mode": {
    "name": "ipython",
    "version": 3
   },
   "file_extension": ".py",
   "mimetype": "text/x-python",
   "name": "python",
   "nbconvert_exporter": "python",
   "pygments_lexer": "ipython3",
   "version": "3.7.3"
  }
 },
 "nbformat": 4,
 "nbformat_minor": 2
}
