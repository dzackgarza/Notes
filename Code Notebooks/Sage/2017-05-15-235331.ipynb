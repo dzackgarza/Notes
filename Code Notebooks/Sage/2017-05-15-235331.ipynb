{
 "nbformat": 4, 
 "nbformat_minor": 0, 
 "cells": [
  {
   "source": [
    "var('x')\n", 
    "x0  = 0\n", 
    "f   = sin(x)*e^(-x)\n", 
    "p   = plot(f,-1,5, thickness=2)\n", 
    "dot = point((x0,f(x=x0)),pointsize=80,rgbcolor=(1,0,0))\n", 
    "@interact\n", 
    "def _(order=[1..12]):\n", 
    "  ft = f.taylor(x,x0,order)\n", 
    "  pt = plot(ft,-1, 5, color='green', thickness=2)\n", 
    "  pretty_print(html('$f(x)\\;=\\;%s$'%latex(f)))\n", 
    "  pretty_print(html('$\\hat{f}(x;%s)\\;=\\;%s+\\mathcal{O}(x^{%s})$'%(x0,latex(ft),order+1)))\n", 
    "  show(dot + p + pt, ymin = -.5, ymax = 1)"
   ], 
   "cell_type": "code", 
   "metadata": {
    "collapsed": false
   }
  }, 
  {
   "source": [
    ""
   ], 
   "cell_type": "code", 
   "metadata": {
    "collapsed": false
   }
  }
 ], 
 "metadata": {
  "kernelspec": {
   "display_name": "SageMath", 
   "name": "sagemath", 
   "language": "python"
  }, 
  "language_info": {
   "mimetype": "text/x-python", 
   "nbconvert_exporter": "python", 
   "name": "python", 
   "file_extension": ".py", 
   "version": "2.7.12+", 
   "pygments_lexer": "ipython2", 
   "codemirror_mode": {
    "version": 2, 
    "name": "ipython"
   }
  }
 }
}