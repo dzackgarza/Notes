{
 "cells": [
  {
   "cell_type": "code",
   "execution_count": null,
   "metadata": {},
   "outputs": [],
   "source": [
    "var('x')\n",
    "x0  = 0\n",
    "f   = sin(x)*e^(-x)\n",
    "p   = plot(f,-1,5, thickness=2)\n",
    "dot = point((x0,f(x=x0)),pointsize=80,rgbcolor=(1,0,0))\n",
    "@interact\n",
    "def _(order=[1..12]):\n",
    "  ft = f.taylor(x,x0,order)\n",
    "  pt = plot(ft,-1, 5, color='green', thickness=2)\n",
    "  pretty_print(html('$f(x)\\;=\\;%s$'%latex(f)))\n",
    "  pretty_print(html('$\\hat{f}(x;%s)\\;=\\;%s+\\mathcal{O}(x^{%s})$'%(x0,latex(ft),order+1)))\n",
    "  show(dot + p + pt, ymin = -.5, ymax = 1)"
   ]
  }
 ],
 "metadata": {
  "kernelspec": {
   "display_name": "SageMath 8.3.rc3",
   "language": "",
   "name": "sagemath"
  },
  "language_info": {
   "codemirror_mode": {
    "name": "ipython",
    "version": 2
   },
   "file_extension": ".py",
   "mimetype": "text/x-python",
   "name": "python",
   "nbconvert_exporter": "python",
   "pygments_lexer": "ipython2",
   "version": "2.7.15"
  }
 },
 "nbformat": 4,
 "nbformat_minor": 1
}
