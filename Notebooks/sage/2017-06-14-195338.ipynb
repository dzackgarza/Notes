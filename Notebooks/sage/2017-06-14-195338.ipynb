{
 "nbformat": 4, 
 "nbformat_minor": 0, 
 "cells": [
  {
   "source": [
    "S = CyclicPermutationGroup(4)\n", 
    "a = direct_product_permgroups([S, S, S])\n", 
    "a.is_commutative()"
   ], 
   "cell_type": "code", 
   "metadata": {
    "collapsed": false
   }
  }, 
  {
   "source": [
    ""
   ], 
   "cell_type": "code", 
   "metadata": {
    "collapsed": false
   }
  }
 ], 
 "metadata": {
  "kernelspec": {
   "display_name": "SageMath", 
   "name": "sagemath", 
   "language": "python"
  }, 
  "language_info": {
   "mimetype": "text/x-python", 
   "nbconvert_exporter": "python", 
   "name": "python", 
   "file_extension": ".py", 
   "version": "2.7.12+", 
   "pygments_lexer": "ipython2", 
   "codemirror_mode": {
    "version": 2, 
    "name": "ipython"
   }
  }
 }
}