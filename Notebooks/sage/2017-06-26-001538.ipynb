{
 "nbformat": 4, 
 "nbformat_minor": 0, 
 "cells": [
  {
   "source": [
    "A = random_matrix(ZZ,7,7)"
   ], 
   "cell_type": "code", 
   "metadata": {
    "collapsed": false
   }
  }, 
  {
   "source": [
    "A"
   ], 
   "cell_type": "code", 
   "metadata": {
    "collapsed": false
   }
  }, 
  {
   "source": [
    "import numpy as np\n", 
    "l = np.random.randint(9, size=(3,3))\n", 
    "l"
   ], 
   "cell_type": "code", 
   "metadata": {
    "collapsed": false
   }
  }, 
  {
   "source": [
    "A = matrix(l)\n", 
    "A"
   ], 
   "cell_type": "code", 
   "metadata": {
    "collapsed": false
   }
  }, 
  {
   "source": [
    "A.characteristic_polynomial()"
   ], 
   "cell_type": "code", 
   "metadata": {
    "collapsed": false
   }
  }, 
  {
   "source": [
    ""
   ], 
   "cell_type": "code", 
   "metadata": {
    "collapsed": false
   }
  }
 ], 
 "metadata": {
  "kernelspec": {
   "display_name": "SageMath", 
   "name": "sagemath", 
   "language": "python"
  }, 
  "language_info": {
   "mimetype": "text/x-python", 
   "nbconvert_exporter": "python", 
   "name": "python", 
   "file_extension": ".py", 
   "version": "2.7.12+", 
   "pygments_lexer": "ipython2", 
   "codemirror_mode": {
    "version": 2, 
    "name": "ipython"
   }
  }
 }
}