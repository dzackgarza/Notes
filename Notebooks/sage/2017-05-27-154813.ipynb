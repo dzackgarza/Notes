{
 "nbformat": 4, 
 "nbformat_minor": 0, 
 "cells": [
  {
   "source": [
    "def f(x,y):\n", 
    "    return math.sin(y*y+x*x)/math.sqrt(x*x+y*y+.0001)\n", 
    "P = plot3d(f,(-3,3),(-3,3), adaptive=True, color=rainbow(60, 'rgbtuple'), max_bend=.1, max_depth=15)\n", 
    "P.show()"
   ], 
   "cell_type": "code", 
   "metadata": {
    "collapsed": false
   }
  }, 
  {
   "source": [
    "var('x, y');\n", 
    "w = 1;\n", 
    "r1 = y^2 - x^3 - x^2;\n", 
    "a = implicit_plot3d(r1, (x,-w,w), (y,-w,w), (z,-w,w), color='red', opacity=0.7);\n", 
    "#a += implicit_plot3d(x*y, (x,-w,w), (y,-w,w), (z,-w,w), color='black', opacity=0.06);\n", 
    "#a += implicit_plot3d(y*z, (x,-w,w), (y,-w,w), (z,-w,w), color='black', opacity=0.06);\n", 
    "#a += implicit_plot3d(z*x, (x,-w,w), (y,-w,w), (z,-w,w), color='black', opacity=0.06);\n", 
    "\n", 
    "var('t')\n", 
    "a += parametric_plot3d((t,0,0), (-w,w), color=\"black\", thickness=5)\n", 
    "a += parametric_plot3d((0,t,0), (-w,w), color=\"black\", thickness=5)\n", 
    "a += parametric_plot3d((0,0,t), (-w,w), color=\"black\", thickness=5)\n", 
    "\n", 
    "a"
   ], 
   "cell_type": "code", 
   "metadata": {
    "collapsed": false
   }
  }, 
  {
   "source": [
    "var('x, y');\n", 
    "w = 1;\n", 
    "r1 = y^2 - x^3;\n", 
    "a = plot([],figsize=(4,4),title='$y^2 = x^3$',frame=True);\n", 
    "a += implicit_plot(r1, (x,-w,w), (y,-w,w), color='blue');\n", 
    "a += implicit_plot(x, (x,-w,w), (y,-w,w), color='black');\n", 
    "a += implicit_plot(y, (x,-w,w), (y,-w,w), color='black');\n", 
    "\n", 
    "a"
   ], 
   "cell_type": "code", 
   "metadata": {
    "collapsed": false
   }
  }, 
  {
   "source": [
    "var('x, y');\n", 
    "w = 5;\n", 
    "r1 = y^2 - x^3 + x;\n", 
    "a = implicit_plot(r1, (x,-w,w), (y,-w,w), color='blue');\n", 
    "a += implicit_plot(x, (x,-w,w), (y,-w,w), color='black');\n", 
    "a += implicit_plot(y, (x,-w,w), (y,-w,w), color='black');\n", 
    "\n", 
    "a"
   ], 
   "cell_type": "code", 
   "metadata": {
    "collapsed": false
   }
  }, 
  {
   "source": [
    "var('x, y');\n", 
    "w = 5;\n", 
    "r1 = y^2 - x^3 -3*x^2;\n", 
    "a = implicit_plot(r1, (x,-w,w), (y,-w,w), color='blue');\n", 
    "a += implicit_plot(x, (x,-w,w), (y,-w,w), color='black');\n", 
    "a += implicit_plot(y, (x,-w,w), (y,-w,w), color='black');\n", 
    "\n", 
    "a"
   ], 
   "cell_type": "code", 
   "metadata": {
    "collapsed": false
   }
  }, 
  {
   "source": [
    ""
   ], 
   "cell_type": "code", 
   "metadata": {
    "collapsed": false
   }
  }, 
  {
   "source": [
    "planeColor = 'black'\n", 
    "from sage.plot.plot3d.shapes import Cone\n", 
    "@interact\n", 
    "def ConicSections(Section = selector(['Circle','Parabola','Ellipse', 'Hyperbola','Point', 'lines'],default = 'Circle', label = \"Section\")):\n", 
    "    html('<h2 align=center b>%s</b /h2>'%\"Conic Sections\") #The title\n", 
    "    x = var('x')  \n", 
    "    y = var('y')  \n", 
    "    if(Section == 'Circle'):\n", 
    "        S1 = Cone(5, 7.5, color=(.6,.3,.1),opacity=.4).translate(0,0,-10)\n", 
    "        S2 = Cone(5, 7.5, color=(.6,.3,.1),opacity=.4).translate(0,0,-5).rotateX(pi)\n", 
    "        P=plot3d(lambda x, y: .1, (-5,5), (-5,5), color=planeColor)\n", 
    "        show(S1+S2+P) \n", 
    "    elif (Section == 'Parabola'):\n", 
    "        S1 = Cone(5, 7.5, color=(.6,.3,.1),opacity=.4).translate(0,0,-10)\n", 
    "        S2 = Cone(5, 7.5, color=(.6,.3,.1),opacity=.4).translate(0,0,-5).rotateX(pi)\n", 
    "        P=plot3d(lambda x, y: x+y, (-5,5), (-5,5), color=planeColor)\n", 
    "        show(P+S1+S2)\n", 
    "    elif (Section == 'Ellipse'):\n", 
    "        S1 = Cone(5, 7.5, color=(.6,.3,.1),opacity=.4).translate(0,0,-10)\n", 
    "        S2 = Cone(5, 7.5, color=(.6,.3,.1),opacity=.4).translate(0,0,-5).rotateX(pi)\n", 
    "        P=plot3d(lambda x, y: .9*y, (-5,5), (-5,5), color=planeColor)\n", 
    "        show(P+S1+S2)\n", 
    "    elif (Section == 'Hyperbola'):\n", 
    "        S1 = Cone(5, 7.5, color=(.6,.3,.1),opacity=.4).translate(0,0,-10)\n", 
    "        S2 = Cone(5, 7.5, color=(.6,.3,.1),opacity=.4).translate(0,0,-5).rotateX(pi)\n", 
    "        P=plot3d(lambda x, y: -2.5, (-5,5), (-5,10), color=planeColor).rotateX(pi/2)\n", 
    "        show(P+S1+S2)\n", 
    "    elif (Section == 'Point'):\n", 
    "        S1 = Cone(5, 7.5, color=(.6,.3,.1),opacity=.4).translate(0,0,-10)\n", 
    "        S2 = Cone(5, 7.5, color=(.6,.3,.1),opacity=.4).translate(0,0,-5).rotateX(pi)\n", 
    "        P=plot3d(lambda x, y: -2.5, (-5,5), (-5,5), color=planeColor)\n", 
    "        show(P+S1+S2)\n", 
    "    elif (Section == 'lines'):\n", 
    "        S1 = Cone(5, 7.5, color=(.6,.3,.1),opacity=.4).translate(0,0,-10)\n", 
    "        S2 = Cone(5, 7.5, color=(.6,.3,.1),opacity=.4).translate(0,0,-5).rotateX(pi)\n", 
    "        P=plot3d(lambda x, y: 0, (-5,5), (-5,10), color=planeColor).rotateX(pi/2)\n", 
    "        show(P+S1+S2)"
   ], 
   "cell_type": "code", 
   "metadata": {
    "collapsed": false
   }
  }, 
  {
   "source": [
    ""
   ], 
   "cell_type": "code", 
   "metadata": {
    "collapsed": false
   }
  }, 
  {
   "source": [
    "planeColor = 'black'\n", 
    "\n", 
    "from sage.plot.plot3d.shapes import Cone\n", 
    "S1 = Cone(5, 7.5, color=(.6,.3,.1),opacity=.4).translate(0,0,-10)\n", 
    "S2 = Cone(5, 7.5, color=(.6,.3,.1),opacity=.4).translate(0,0,-5).rotateX(pi)\n", 
    "\n", 
    "P1 = plot3d(lambda x, y: .1, (-5,5), (-5,5), color=planeColor)\n", 
    "P2 = plot3d(lambda x, y: x+y, (-5,5), (-5,5), color=planeColor)\n", 
    "P3=plot3d(lambda x, y: .9*y, (-5,5), (-5,5), color=planeColor)\n", 
    "P4=plot3d(lambda x, y: -2.5, (-5,5), (-5,10), color=planeColor).rotateX(pi/2)\n", 
    "P5=plot3d(lambda x, y: -2.5, (-5,5), (-5,5), color=planeColor)\n", 
    "P6=plot3d(lambda x, y: 0, (-5,5), (-5,10), color=planeColor).rotateX(pi/2)\n", 
    "\n", 
    "for i, p_i in enumerate([P1, P2, P3, P4, P5, P6]):\n", 
    "    bigP = S1 + S2 + p_i\n", 
    "    show(bigP, viewer='tachyon')"
   ], 
   "cell_type": "code", 
   "metadata": {
    "collapsed": false
   }
  }, 
  {
   "source": [
    "bigP = S1 + S2 + P1"
   ], 
   "cell_type": "code", 
   "metadata": {
    "collapsed": false
   }
  }, 
  {
   "source": [
    "var('x, y');\n", 
    "w = 5;\n", 
    "r1 = 3*x + 4*y + 5;\n", 
    "a = plot([],figsize=(4,4),title='$3x + 4y = 5$',frame=True);\n", 
    "a += implicit_plot(r1, (x,-w,w), (y,-w,w), color='blue');\n", 
    "a += implicit_plot(x, (x,-w,w), (y,-w,w), color='black');\n", 
    "a += implicit_plot(y, (x,-w,w), (y,-w,w), color='black');\n", 
    "\n", 
    "a"
   ], 
   "cell_type": "code", 
   "metadata": {
    "collapsed": false
   }
  }, 
  {
   "source": [
    ""
   ], 
   "cell_type": "code", 
   "metadata": {
    "collapsed": false
   }
  }
 ], 
 "metadata": {
  "kernelspec": {
   "display_name": "SageMath", 
   "name": "sagemath", 
   "language": "python"
  }, 
  "language_info": {
   "mimetype": "text/x-python", 
   "nbconvert_exporter": "python", 
   "name": "python", 
   "file_extension": ".py", 
   "version": "2.7.12+", 
   "pygments_lexer": "ipython2", 
   "codemirror_mode": {
    "version": 2, 
    "name": "ipython"
   }
  }
 }
}