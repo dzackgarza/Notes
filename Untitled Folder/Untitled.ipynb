{
 "cells": [
  {
   "cell_type": "code",
   "execution_count": 2,
   "metadata": {},
   "outputs": [
    {
     "name": "stdout",
     "output_type": "stream",
     "text": [
      "\n",
      "ans =\n",
      "\n",
      "     4\n",
      "\n"
     ]
    }
   ],
   "source": [
    "2+2"
   ]
  },
  {
   "cell_type": "code",
   "execution_count": null,
   "metadata": {},
   "outputs": [],
   "source": [
    "I = imread('cameraman.tif');\n",
    "\n",
    "[LL1, LH1, HL1, HH1] = dwt2(I, 'haar');\n",
    "[LL2, LH2, HL2, HH2] = dwt2(LL1, 'haar');\n",
    "[LL3, LH3, HL3, HH3] = dwt2(LL2, 'haar');\n",
    "\n",
    "A1 = [LL3, LH3; HL3, HH3];\n",
    "A2 = [LL2, LH2; HL2, HH2];\n",
    "A3 = [A2, LH1; HL1, HH1];\n",
    "\n",
    "subplot(2,2,1);\n",
    "imshow(I, []);\n",
    "title('Original');\n",
    "\n",
    "subplot(2,2,2);\n",
    "imshow(A1, []);\n",
    "title('Level 1');\n",
    "\n",
    "subplot(2,2,3)\n",
    "imshow(A2, []);   \n",
    "title('Level 2')\n",
    "\n",
    "subplot(2,2,4);\n",
    "imshow(A3, []);\n",
    "title('Level 3');"
   ]
  },
  {
   "cell_type": "code",
   "execution_count": null,
   "metadata": {},
   "outputs": [],
   "source": [
    "threeFromTwo = idwt2(LL3, LH3, HL3, HH3, 'haar');\n",
    "imshow(threeFromTwo, [])"
   ]
  },
  {
   "cell_type": "code",
   "execution_count": null,
   "metadata": {},
   "outputs": [],
   "source": []
  }
 ],
 "metadata": {
  "kernelspec": {
   "display_name": "Matlab",
   "language": "matlab",
   "name": "matlab"
  },
  "language_info": {
   "codemirror_mode": "octave",
   "file_extension": ".m",
   "help_links": [
    {
     "text": "MetaKernel Magics",
     "url": "https://github.com/calysto/metakernel/blob/master/metakernel/magics/README.md"
    }
   ],
   "mimetype": "text/x-octave",
   "name": "matlab",
   "version": "0.15.0"
  }
 },
 "nbformat": 4,
 "nbformat_minor": 2
}
