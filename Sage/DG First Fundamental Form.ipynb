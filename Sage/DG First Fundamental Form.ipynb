{
 "cells": [
  {
   "cell_type": "code",
   "execution_count": 7,
   "metadata": {},
   "outputs": [
    {
     "data": {
      "text/html": [
       "<html><script type=\"math/tex; mode=display\">\\newcommand{\\Bold}[1]{\\mathbf{#1}}\\left(u, v, a, b, c\\right)</script></html>"
      ],
      "text/plain": [
       "(u, v, a, b, c)"
      ]
     },
     "execution_count": 7,
     "metadata": {},
     "output_type": "execute_result"
    }
   ],
   "source": [
    "%display latex\n",
    "var('u', 'v', 'a', 'b', 'c')"
   ]
  },
  {
   "cell_type": "code",
   "execution_count": 20,
   "metadata": {},
   "outputs": [],
   "source": [
    "def FF1(X):\n",
    "    du = X.derivative(u)\n",
    "    dv = X.derivative(v)\n",
    "    E = du.inner_product(du)\n",
    "    F = du.inner_product(dv)\n",
    "    G = dv.inner_product(dv)\n",
    "    M = Matrix(2, [E,F,F,G])\n",
    "    return(M)"
   ]
  },
  {
   "cell_type": "code",
   "execution_count": 23,
   "metadata": {},
   "outputs": [
    {
     "data": {
      "text/html": [
       "<html><script type=\"math/tex; mode=display\">\\newcommand{\\Bold}[1]{\\mathbf{#1}}\\left(a \\cos\\left(v\\right) \\sin\\left(u\\right),\\,b \\sin\\left(u\\right) \\sin\\left(v\\right),\\,c \\cos\\left(u\\right)\\right)</script></html>"
      ],
      "text/plain": [
       "(a*cos(v)*sin(u), b*sin(u)*sin(v), c*cos(u))"
      ]
     },
     "execution_count": 23,
     "metadata": {},
     "output_type": "execute_result"
    }
   ],
   "source": [
    "X1 = vector([a*sin(u)*cos(v), b*sin(u) * sin(v), c*cos(u)])\n",
    "X1"
   ]
  },
  {
   "cell_type": "code",
   "execution_count": 24,
   "metadata": {},
   "outputs": [
    {
     "data": {
      "text/html": [
       "<html><script type=\"math/tex; mode=display\">\\newcommand{\\Bold}[1]{\\mathbf{#1}}\\left(\\begin{array}{rr}\n",
       "a^{2} \\cos\\left(u\\right)^{2} \\cos\\left(v\\right)^{2} + b^{2} \\cos\\left(u\\right)^{2} \\sin\\left(v\\right)^{2} + c^{2} \\sin\\left(u\\right)^{2} & -a^{2} \\cos\\left(u\\right) \\cos\\left(v\\right) \\sin\\left(u\\right) \\sin\\left(v\\right) + b^{2} \\cos\\left(u\\right) \\cos\\left(v\\right) \\sin\\left(u\\right) \\sin\\left(v\\right) \\\\\n",
       "-a^{2} \\cos\\left(u\\right) \\cos\\left(v\\right) \\sin\\left(u\\right) \\sin\\left(v\\right) + b^{2} \\cos\\left(u\\right) \\cos\\left(v\\right) \\sin\\left(u\\right) \\sin\\left(v\\right) & b^{2} \\cos\\left(v\\right)^{2} \\sin\\left(u\\right)^{2} + a^{2} \\sin\\left(u\\right)^{2} \\sin\\left(v\\right)^{2}\n",
       "\\end{array}\\right)</script></html>"
      ],
      "text/plain": [
       "[      a^2*cos(u)^2*cos(v)^2 + b^2*cos(u)^2*sin(v)^2 + c^2*sin(u)^2 -a^2*cos(u)*cos(v)*sin(u)*sin(v) + b^2*cos(u)*cos(v)*sin(u)*sin(v)]\n",
       "[-a^2*cos(u)*cos(v)*sin(u)*sin(v) + b^2*cos(u)*cos(v)*sin(u)*sin(v)                      b^2*cos(v)^2*sin(u)^2 + a^2*sin(u)^2*sin(v)^2]"
      ]
     },
     "execution_count": 24,
     "metadata": {},
     "output_type": "execute_result"
    }
   ],
   "source": [
    "FF1(X)"
   ]
  },
  {
   "cell_type": "code",
   "execution_count": 12,
   "metadata": {},
   "outputs": [
    {
     "data": {
      "text/html": [
       "<html><script type=\"math/tex; mode=display\">\\newcommand{\\Bold}[1]{\\mathbf{#1}}a^{2} \\cos\\left(u\\right)^{2} \\cos\\left(v\\right)^{2} + b^{2} \\cos\\left(u\\right)^{2} \\sin\\left(v\\right)^{2} + c^{2} \\sin\\left(u\\right)^{2}</script></html>"
      ],
      "text/plain": [
       "a^2*cos(u)^2*cos(v)^2 + b^2*cos(u)^2*sin(v)^2 + c^2*sin(u)^2"
      ]
     },
     "execution_count": 12,
     "metadata": {},
     "output_type": "execute_result"
    }
   ],
   "source": [
    "X2 = = (au cos v, bu sin v, u2\n",
    ")."
   ]
  },
  {
   "cell_type": "code",
   "execution_count": 13,
   "metadata": {},
   "outputs": [
    {
     "data": {
      "text/html": [
       "<html><script type=\"math/tex; mode=display\">\\newcommand{\\Bold}[1]{\\mathbf{#1}}b^{2} \\cos\\left(v\\right)^{2} \\sin\\left(u\\right)^{2} + a^{2} \\sin\\left(u\\right)^{2} \\sin\\left(v\\right)^{2}</script></html>"
      ],
      "text/plain": [
       "b^2*cos(v)^2*sin(u)^2 + a^2*sin(u)^2*sin(v)^2"
      ]
     },
     "execution_count": 13,
     "metadata": {},
     "output_type": "execute_result"
    }
   ],
   "source": [
    "dv.inner_product(dv)"
   ]
  },
  {
   "cell_type": "code",
   "execution_count": 14,
   "metadata": {},
   "outputs": [
    {
     "data": {
      "text/html": [
       "<html><script type=\"math/tex; mode=display\">\\newcommand{\\Bold}[1]{\\mathbf{#1}}-a^{2} \\cos\\left(u\\right) \\cos\\left(v\\right) \\sin\\left(u\\right) \\sin\\left(v\\right) + b^{2} \\cos\\left(u\\right) \\cos\\left(v\\right) \\sin\\left(u\\right) \\sin\\left(v\\right)</script></html>"
      ],
      "text/plain": [
       "-a^2*cos(u)*cos(v)*sin(u)*sin(v) + b^2*cos(u)*cos(v)*sin(u)*sin(v)"
      ]
     },
     "execution_count": 14,
     "metadata": {},
     "output_type": "execute_result"
    }
   ],
   "source": [
    "du.inner_product(dv)"
   ]
  },
  {
   "cell_type": "code",
   "execution_count": null,
   "metadata": {},
   "outputs": [],
   "source": []
  }
 ],
 "metadata": {
  "kernelspec": {
   "display_name": "SageMath 9.1.beta9",
   "language": "sage",
   "name": "sagemath"
  },
  "language_info": {
   "codemirror_mode": {
    "name": "ipython",
    "version": 3
   },
   "file_extension": ".py",
   "mimetype": "text/x-python",
   "name": "python",
   "nbconvert_exporter": "python",
   "pygments_lexer": "ipython3",
   "version": "3.7.3"
  }
 },
 "nbformat": 4,
 "nbformat_minor": 2
}
