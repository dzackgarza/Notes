{
 "cells": [
  {
   "cell_type": "code",
   "execution_count": 1,
   "metadata": {},
   "outputs": [
    {
     "data": {
      "text/html": [
       "<html><script type=\"math/tex; mode=display\">\\newcommand{\\Bold}[1]{\\mathbf{#1}}\\left(\\frac{1}{3} \\, {\\left(s + 1\\right)}^{\\frac{3}{2}},\\,\\frac{1}{3} \\, {\\left(-s + 1\\right)}^{\\frac{3}{2}},\\,\\frac{1}{2} \\, \\sqrt{2} s\\right)</script></html>"
      ],
      "text/plain": [
       "(1/3*(s + 1)^(3/2), 1/3*(-s + 1)^(3/2), 1/2*sqrt(2)*s)"
      ]
     },
     "execution_count": 1,
     "metadata": {},
     "output_type": "execute_result"
    }
   ],
   "source": [
    "%display latex\n",
    "var('s')\n",
    "assume(s > 0)\n",
    "assume(s, 'real')\n",
    "a = vector([(1/3)*(1+s)^(3/2), (1/3)*(1-s)^(3/2), s/sqrt(2)])\n",
    "a"
   ]
  },
  {
   "cell_type": "code",
   "execution_count": 2,
   "metadata": {},
   "outputs": [],
   "source": [
    "#parametric_plot3d(a, [-1, 1])"
   ]
  },
  {
   "cell_type": "code",
   "execution_count": 3,
   "metadata": {},
   "outputs": [
    {
     "data": {
      "text/html": [
       "<html><script type=\"math/tex; mode=display\">\\newcommand{\\Bold}[1]{\\mathbf{#1}}\\left(\\frac{1}{2} \\, \\sqrt{s + 1},\\,-\\frac{1}{2} \\, \\sqrt{-s + 1},\\,\\frac{1}{2} \\, \\sqrt{2}\\right)</script></html>"
      ],
      "text/plain": [
       "(1/2*sqrt(s + 1), -1/2*sqrt(-s + 1), 1/2*sqrt(2))"
      ]
     },
     "execution_count": 3,
     "metadata": {},
     "output_type": "execute_result"
    }
   ],
   "source": [
    "ap = a.derivative(s)\n",
    "ap"
   ]
  },
  {
   "cell_type": "code",
   "execution_count": 4,
   "metadata": {},
   "outputs": [
    {
     "data": {
      "text/html": [
       "<html><script type=\"math/tex; mode=display\">\\newcommand{\\Bold}[1]{\\mathbf{#1}}\\frac{1}{2} \\, \\sqrt{s + {\\left| -s + 1 \\right|} + 3}</script></html>"
      ],
      "text/plain": [
       "1/2*sqrt(s + abs(-s + 1) + 3)"
      ]
     },
     "execution_count": 4,
     "metadata": {},
     "output_type": "execute_result"
    }
   ],
   "source": [
    "ap.norm(2)"
   ]
  },
  {
   "cell_type": "code",
   "execution_count": 5,
   "metadata": {},
   "outputs": [
    {
     "data": {
      "text/html": [
       "<html><script type=\"math/tex; mode=display\">\\newcommand{\\Bold}[1]{\\mathbf{#1}}\\left(\\frac{1}{4 \\, \\sqrt{s + 1}},\\,\\frac{1}{4 \\, \\sqrt{-s + 1}},\\,0\\right)</script></html>"
      ],
      "text/plain": [
       "(1/4/sqrt(s + 1), 1/4/sqrt(-s + 1), 0)"
      ]
     },
     "execution_count": 5,
     "metadata": {},
     "output_type": "execute_result"
    }
   ],
   "source": [
    "app = a.derivative(s, 2)\n",
    "app"
   ]
  },
  {
   "cell_type": "code",
   "execution_count": 6,
   "metadata": {},
   "outputs": [
    {
     "data": {
      "text/html": [
       "<html><script type=\"math/tex; mode=display\">\\newcommand{\\Bold}[1]{\\mathbf{#1}}\\frac{1}{2} \\, \\sqrt{s + {\\left| -s + 1 \\right|} + 3}</script></html>"
      ],
      "text/plain": [
       "1/2*sqrt(s + abs(-s + 1) + 3)"
      ]
     },
     "execution_count": 6,
     "metadata": {},
     "output_type": "execute_result"
    }
   ],
   "source": [
    "ap.norm()"
   ]
  },
  {
   "cell_type": "code",
   "execution_count": 7,
   "metadata": {},
   "outputs": [
    {
     "data": {
      "text/html": [
       "<html><script type=\"math/tex; mode=display\">\\newcommand{\\Bold}[1]{\\mathbf{#1}}1</script></html>"
      ],
      "text/plain": [
       "1"
      ]
     },
     "execution_count": 7,
     "metadata": {},
     "output_type": "execute_result"
    }
   ],
   "source": [
    "ap_norm = (1/2) * sqrt( s+1 -s+1 + 2 )\n",
    "ap_norm"
   ]
  },
  {
   "cell_type": "code",
   "execution_count": 8,
   "metadata": {},
   "outputs": [
    {
     "data": {
      "text/html": [
       "<html><script type=\"math/tex; mode=display\">\\newcommand{\\Bold}[1]{\\mathbf{#1}}\\frac{1}{4} \\, \\sqrt{2} \\sqrt{-\\frac{1}{s^{2} - 1}}</script></html>"
      ],
      "text/plain": [
       "1/4*sqrt(2)*sqrt(-1/(s^2 - 1))"
      ]
     },
     "execution_count": 8,
     "metadata": {},
     "output_type": "execute_result"
    }
   ],
   "source": [
    "T_norm = (1/4)* sqrt( 1/(s+1) + 1/(1-s))\n",
    "T_norm.simplify_full()"
   ]
  },
  {
   "cell_type": "code",
   "execution_count": 9,
   "metadata": {},
   "outputs": [],
   "source": [
    "T = (a.diff(s) / ap_norm).simplify_full().canonicalize_radical()\n",
    "N = (T.diff(s) / T_norm).simplify_full().canonicalize_radical()\n",
    "B = T.cross_product(N).simplify_full().canonicalize_radical()"
   ]
  },
  {
   "cell_type": "code",
   "execution_count": 10,
   "metadata": {},
   "outputs": [
    {
     "data": {
      "text/html": [
       "<html><script type=\"math/tex; mode=display\">\\newcommand{\\Bold}[1]{\\mathbf{#1}}\\left(\\frac{1}{2} \\, \\sqrt{s + 1},\\,-\\frac{1}{2} \\, \\sqrt{-s + 1},\\,\\frac{1}{2} \\, \\sqrt{2}\\right)</script></html>"
      ],
      "text/plain": [
       "(1/2*sqrt(s + 1), -1/2*sqrt(-s + 1), 1/2*sqrt(2))"
      ]
     },
     "execution_count": 10,
     "metadata": {},
     "output_type": "execute_result"
    }
   ],
   "source": [
    "T"
   ]
  },
  {
   "cell_type": "code",
   "execution_count": 12,
   "metadata": {},
   "outputs": [
    {
     "data": {
      "text/html": [
       "<html><script type=\"math/tex; mode=display\">\\newcommand{\\Bold}[1]{\\mathbf{#1}}\\frac{1}{4} \\, \\sqrt{\\frac{1}{s + 1} + \\frac{1}{{\\left| -s + 1 \\right|}}}</script></html>"
      ],
      "text/plain": [
       "1/4*sqrt(1/(s + 1) + 1/abs(-s + 1))"
      ]
     },
     "execution_count": 12,
     "metadata": {},
     "output_type": "execute_result"
    }
   ],
   "source": [
    "T.diff(s).norm()"
   ]
  },
  {
   "cell_type": "code",
   "execution_count": 18,
   "metadata": {},
   "outputs": [
    {
     "data": {
      "text/html": [
       "<html><script type=\"math/tex; mode=display\">\\newcommand{\\Bold}[1]{\\mathbf{#1}}\\left(\\frac{1}{2} \\, \\sqrt{2} \\sqrt{-s + 1},\\,\\frac{1}{2} \\, \\sqrt{2} \\sqrt{s + 1},\\,0\\right)</script></html>"
      ],
      "text/plain": [
       "(1/2*sqrt(2)*sqrt(-s + 1), 1/2*sqrt(2)*sqrt(s + 1), 0)"
      ]
     },
     "execution_count": 18,
     "metadata": {},
     "output_type": "execute_result"
    }
   ],
   "source": [
    "N"
   ]
  },
  {
   "cell_type": "code",
   "execution_count": 17,
   "metadata": {},
   "outputs": [
    {
     "data": {
      "text/html": [
       "<html><script type=\"math/tex; mode=display\">\\newcommand{\\Bold}[1]{\\mathbf{#1}}\\left(-\\frac{1}{2} \\, \\sqrt{s + 1},\\,\\frac{1}{2} \\, \\sqrt{-s + 1},\\,\\frac{1}{2} \\, \\sqrt{2}\\right)</script></html>"
      ],
      "text/plain": [
       "(-1/2*sqrt(s + 1), 1/2*sqrt(-s + 1), 1/2*sqrt(2))"
      ]
     },
     "execution_count": 17,
     "metadata": {},
     "output_type": "execute_result"
    }
   ],
   "source": [
    "B"
   ]
  },
  {
   "cell_type": "code",
   "execution_count": null,
   "metadata": {},
   "outputs": [],
   "source": [
    "show(T)\n",
    "show(T.diff(s))"
   ]
  },
  {
   "cell_type": "code",
   "execution_count": 20,
   "metadata": {},
   "outputs": [
    {
     "data": {
      "text/html": [
       "<html><script type=\"math/tex; mode=display\">\\newcommand{\\Bold}[1]{\\mathbf{#1}}\\frac{1}{4} \\, \\sqrt{2} \\sqrt{-\\frac{1}{s^{2} - 1}}</script></html>"
      ],
      "text/plain": [
       "1/4*sqrt(2)*sqrt(-1/(s^2 - 1))"
      ]
     },
     "execution_count": 20,
     "metadata": {},
     "output_type": "execute_result"
    }
   ],
   "source": [
    "k = ((1/4)*sqrt(1/(s+1) + 1/(1-s))).simplify_full()\n",
    "k"
   ]
  },
  {
   "cell_type": "code",
   "execution_count": null,
   "metadata": {},
   "outputs": [],
   "source": [
    "tau = (N.derivative(s)).inner_product(B)\n",
    "tau.canonicalize_radical().simplify_full()"
   ]
  },
  {
   "cell_type": "code",
   "execution_count": null,
   "metadata": {},
   "outputs": [],
   "source": [
    "plot(T(s=0)) + plot(N(s=0)) + plot(B(s=0))"
   ]
  },
  {
   "cell_type": "code",
   "execution_count": null,
   "metadata": {},
   "outputs": [],
   "source": [
    "T.derivative(s).norm()"
   ]
  },
  {
   "cell_type": "code",
   "execution_count": 42,
   "metadata": {},
   "outputs": [
    {
     "data": {
      "text/html": [
       "<html><script type=\"math/tex; mode=display\">\\newcommand{\\Bold}[1]{\\mathbf{#1}}-\\frac{\\sqrt{2} \\sqrt{s + 1}}{8 \\, \\sqrt{-s + 1}} - \\frac{\\sqrt{2} \\sqrt{-s + 1}}{8 \\, \\sqrt{s + 1}}</script></html>"
      ],
      "text/plain": [
       "-1/8*sqrt(2)*sqrt(s + 1)/sqrt(-s + 1) - 1/8*sqrt(2)*sqrt(-s + 1)/sqrt(s + 1)"
      ]
     },
     "execution_count": 42,
     "metadata": {},
     "output_type": "execute_result"
    }
   ],
   "source": [
    "tau = B.diff(s).inner_product(N)\n",
    "tau"
   ]
  },
  {
   "cell_type": "code",
   "execution_count": 27,
   "metadata": {},
   "outputs": [
    {
     "data": {
      "text/html": [
       "<html><script type=\"math/tex; mode=display\">\\newcommand{\\Bold}[1]{\\mathbf{#1}}-\\frac{\\sqrt{2}}{4 \\, \\sqrt{s + 1} \\sqrt{-s + 1}}</script></html>"
      ],
      "text/plain": [
       "-1/4*sqrt(2)/(sqrt(s + 1)*sqrt(-s + 1))"
      ]
     },
     "execution_count": 27,
     "metadata": {},
     "output_type": "execute_result"
    }
   ],
   "source": [
    "tau.simplify_full()"
   ]
  },
  {
   "cell_type": "code",
   "execution_count": 38,
   "metadata": {},
   "outputs": [
    {
     "data": {
      "text/html": [
       "<html><script type=\"math/tex; mode=display\">\\newcommand{\\Bold}[1]{\\mathbf{#1}}-\\frac{1}{4} \\, \\sqrt{2} \\sqrt{-\\frac{1}{s^{2} - 1}} - \\frac{\\sqrt{2} \\sqrt{s + 1}}{8 \\, \\sqrt{-s + 1}} - \\frac{\\sqrt{2} \\sqrt{-s + 1}}{8 \\, \\sqrt{s + 1}}</script></html>"
      ],
      "text/plain": [
       "-1/4*sqrt(2)*sqrt(-1/(s^2 - 1)) - 1/8*sqrt(2)*sqrt(s + 1)/sqrt(-s + 1) - 1/8*sqrt(2)*sqrt(-s + 1)/sqrt(s + 1)"
      ]
     },
     "execution_count": 38,
     "metadata": {},
     "output_type": "execute_result"
    }
   ],
   "source": [
    "tk = (tau - k)\n",
    "tk"
   ]
  },
  {
   "cell_type": "code",
   "execution_count": 48,
   "metadata": {},
   "outputs": [
    {
     "data": {
      "text/html": [
       "<html><script type=\"math/tex; mode=display\">\\newcommand{\\Bold}[1]{\\mathbf{#1}}\\frac{\\sqrt{2} s}{4 \\, \\sqrt{s + 1} \\sqrt{-s + 1}}</script></html>"
      ],
      "text/plain": [
       "1/4*sqrt(2)*s/(sqrt(s + 1)*sqrt(-s + 1))"
      ]
     },
     "execution_count": 48,
     "metadata": {},
     "output_type": "execute_result"
    }
   ],
   "source": [
    "sp = s / (2 *sqrt(2) * sqrt(1+s) * sqrt(1-s))\n",
    "sp"
   ]
  },
  {
   "cell_type": "code",
   "execution_count": 49,
   "metadata": {},
   "outputs": [
    {
     "data": {
      "text/html": [
       "<html><script type=\"math/tex; mode=display\">\\newcommand{\\Bold}[1]{\\mathbf{#1}}0</script></html>"
      ],
      "text/plain": [
       "0"
      ]
     },
     "execution_count": 49,
     "metadata": {},
     "output_type": "execute_result"
    }
   ],
   "source": [
    "sp(0)"
   ]
  },
  {
   "cell_type": "code",
   "execution_count": 50,
   "metadata": {},
   "outputs": [
    {
     "data": {
      "text/html": [
       "<html><script type=\"math/tex; mode=display\">\\newcommand{\\Bold}[1]{\\mathbf{#1}}-\\frac{1}{4} \\, \\sqrt{2}</script></html>"
      ],
      "text/plain": [
       "-1/4*sqrt(2)"
      ]
     },
     "execution_count": 50,
     "metadata": {},
     "output_type": "execute_result"
    }
   ],
   "source": [
    "tau(0)"
   ]
  },
  {
   "cell_type": "code",
   "execution_count": 51,
   "metadata": {},
   "outputs": [
    {
     "data": {
      "text/html": [
       "<html><script type=\"math/tex; mode=display\">\\newcommand{\\Bold}[1]{\\mathbf{#1}}\\left(-\\frac{1}{8 \\, {\\left(s + 1\\right)}^{\\frac{3}{2}}},\\,\\frac{1}{8 \\, {\\left(-s + 1\\right)}^{\\frac{3}{2}}},\\,0\\right)</script></html>"
      ],
      "text/plain": [
       "(-1/8/(s + 1)^(3/2), 1/8/(-s + 1)^(3/2), 0)"
      ]
     },
     "execution_count": 51,
     "metadata": {},
     "output_type": "execute_result"
    }
   ],
   "source": [
    "a.diff(s, 3)"
   ]
  },
  {
   "cell_type": "code",
   "execution_count": 55,
   "metadata": {},
   "outputs": [
    {
     "data": {
      "text/html": [
       "<html><script type=\"math/tex; mode=display\">\\newcommand{\\Bold}[1]{\\mathbf{#1}}\\frac{\\sqrt{2}}{64 \\, \\sqrt{s + 1} {\\left(-s + 1\\right)}^{\\frac{3}{2}}} + \\frac{\\sqrt{2}}{64 \\, {\\left(s + 1\\right)}^{\\frac{3}{2}} \\sqrt{-s + 1}}</script></html>"
      ],
      "text/plain": [
       "1/64*sqrt(2)/(sqrt(s + 1)*(-s + 1)^(3/2)) + 1/64*sqrt(2)/((s + 1)^(3/2)*sqrt(-s + 1))"
      ]
     },
     "execution_count": 55,
     "metadata": {},
     "output_type": "execute_result"
    }
   ],
   "source": [
    "ap.cross_product(app).inner_product(a.diff(s, 3))"
   ]
  },
  {
   "cell_type": "code",
   "execution_count": null,
   "metadata": {},
   "outputs": [],
   "source": []
  }
 ],
 "metadata": {
  "kernelspec": {
   "display_name": "SageMath 9.1.beta4",
   "language": "sage",
   "name": "sagemath"
  },
  "language_info": {
   "codemirror_mode": {
    "name": "ipython",
    "version": 3
   },
   "file_extension": ".py",
   "mimetype": "text/x-python",
   "name": "python",
   "nbconvert_exporter": "python",
   "pygments_lexer": "ipython3",
   "version": "3.7.3"
  }
 },
 "nbformat": 4,
 "nbformat_minor": 2
}
