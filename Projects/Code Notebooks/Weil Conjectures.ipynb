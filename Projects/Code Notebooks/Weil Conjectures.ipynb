{
 "cells": [
  {
   "cell_type": "code",
   "execution_count": 1,
   "metadata": {},
   "outputs": [],
   "source": [
    "%display latex\n",
    "# https://www.projecteuclid.org/download/pdf_1/euclid.bams/1183513798"
   ]
  },
  {
   "cell_type": "code",
   "execution_count": 2,
   "metadata": {},
   "outputs": [
    {
     "name": "stdout",
     "output_type": "stream",
     "text": [
      "[1, 1, 1]\n"
     ]
    }
   ],
   "source": [
    "K = GF(5)\n",
    "X = ProjectiveSpace(2, K, 'x')\n",
    "n = [3, 3, 3]\n",
    "a = [1, 1, 1]\n",
    "q = 3\n",
    "d = [ gcd(ni, q-1) for ni in n]\n",
    "print(d)"
   ]
  },
  {
   "cell_type": "code",
   "execution_count": 87,
   "metadata": {},
   "outputs": [
    {
     "name": "stdout",
     "output_type": "stream",
     "text": [
      "31\n"
     ]
    },
    {
     "data": {
      "text/html": [
       "<html><script type=\"math/tex; mode=display\">\\newcommand{\\Bold}[1]{\\mathbf{#1}}\\left[\\left(0 : 0 : 1\\right), \\left(1 : 0 : 1\\right), \\left(2 : 0 : 1\\right), \\left(3 : 0 : 1\\right), \\left(4 : 0 : 1\\right), \\left(0 : 1 : 1\\right), \\left(1 : 1 : 1\\right), \\left(2 : 1 : 1\\right), \\left(3 : 1 : 1\\right), \\left(4 : 1 : 1\\right)\\right]</script></html>"
      ],
      "text/plain": [
       "[(0 : 0 : 1),\n",
       " (1 : 0 : 1),\n",
       " (2 : 0 : 1),\n",
       " (3 : 0 : 1),\n",
       " (4 : 0 : 1),\n",
       " (0 : 1 : 1),\n",
       " (1 : 1 : 1),\n",
       " (2 : 1 : 1),\n",
       " (3 : 1 : 1),\n",
       " (4 : 1 : 1)]"
      ]
     },
     "execution_count": 87,
     "metadata": {},
     "output_type": "execute_result"
    }
   ],
   "source": [
    "pts = [p for p in X]\n",
    "print(len(pts))\n",
    "pts[0:10]"
   ]
  },
  {
   "cell_type": "code",
   "execution_count": 94,
   "metadata": {},
   "outputs": [],
   "source": [
    "# Defines the variety we want to count points on\n",
    "def f(x):\n",
    "    return (a[0] * x[0]^n[0]) + (a[1] * x[1]^n[1]) + (a[2] * x[2]^n[2])\n",
    "\n",
    "# \"Reduced\" version of f\n",
    "def L(u):\n",
    "    return (a[0] * u[0]) + (a[1] * u[1]) + (a[2] * u[2])\n",
    "\n",
    "def nth_roots(u):\n",
    "    return(u.nth_root(n[0], all=True))\n",
    "\n",
    "# Number of solutions to x^{n_i} in K\n",
    "def Ni(ui): \n",
    "    return(1 if ui == 0 else len(nth_roots(ui)))"
   ]
  },
  {
   "cell_type": "code",
   "execution_count": 95,
   "metadata": {},
   "outputs": [
    {
     "data": {
      "text/html": [
       "<html><script type=\"math/tex; mode=display\">\\newcommand{\\Bold}[1]{\\mathbf{#1}}\\left[\\left(4 : 0 : 1\\right), \\left(2 : 1 : 1\\right), \\left(1 : 2 : 1\\right), \\left(3 : 3 : 1\\right), \\left(0 : 4 : 1\\right), \\left(4 : 1 : 0\\right)\\right]</script></html>"
      ],
      "text/plain": [
       "[(4 : 0 : 1), (2 : 1 : 1), (1 : 2 : 1), (3 : 3 : 1), (0 : 4 : 1), (4 : 1 : 0)]"
      ]
     },
     "metadata": {},
     "output_type": "display_data"
    },
    {
     "data": {
      "text/html": [
       "<html><script type=\"math/tex; mode=display\">\\newcommand{\\Bold}[1]{\\mathbf{#1}}\\left[\\left(4 : 0 : 1\\right), \\left(3 : 1 : 1\\right), \\left(2 : 2 : 1\\right), \\left(1 : 3 : 1\\right), \\left(0 : 4 : 1\\right), \\left(4 : 1 : 0\\right)\\right]</script></html>"
      ],
      "text/plain": [
       "[(4 : 0 : 1), (3 : 1 : 1), (2 : 2 : 1), (1 : 3 : 1), (0 : 4 : 1), (4 : 1 : 0)]"
      ]
     },
     "metadata": {},
     "output_type": "display_data"
    }
   ],
   "source": [
    "X_solns = [x for x in pts if f(x) == 0]\n",
    "L_solns = [u for u in pts if L(u) == 0]\n",
    "show(X_solns)\n",
    "show(L_solns)"
   ]
  },
  {
   "cell_type": "code",
   "execution_count": 96,
   "metadata": {},
   "outputs": [
    {
     "data": {
      "text/html": [
       "<html><script type=\"math/tex; mode=display\">\\newcommand{\\Bold}[1]{\\mathbf{#1}}\\left[1, 2, 4, 3, 0, 2, 3, 0, 4, 1, 4, 0, 2, 1, 3, 3, 4, 1, 0, 2, 0, 1, 3, 2, 4, 1, 2, 4, 3, 0, 1\\right]</script></html>"
      ],
      "text/plain": [
       "[1,\n",
       " 2,\n",
       " 4,\n",
       " 3,\n",
       " 0,\n",
       " 2,\n",
       " 3,\n",
       " 0,\n",
       " 4,\n",
       " 1,\n",
       " 4,\n",
       " 0,\n",
       " 2,\n",
       " 1,\n",
       " 3,\n",
       " 3,\n",
       " 4,\n",
       " 1,\n",
       " 0,\n",
       " 2,\n",
       " 0,\n",
       " 1,\n",
       " 3,\n",
       " 2,\n",
       " 4,\n",
       " 1,\n",
       " 2,\n",
       " 4,\n",
       " 3,\n",
       " 0,\n",
       " 1]"
      ]
     },
     "execution_count": 96,
     "metadata": {},
     "output_type": "execute_result"
    }
   ],
   "source": [
    "[f(x) for x in pts]"
   ]
  },
  {
   "cell_type": "code",
   "execution_count": 97,
   "metadata": {},
   "outputs": [
    {
     "data": {
      "text/html": [
       "<html><script type=\"math/tex; mode=display\">\\newcommand{\\Bold}[1]{\\mathbf{#1}}6</script></html>"
      ],
      "text/plain": [
       "6"
      ]
     },
     "metadata": {},
     "output_type": "display_data"
    },
    {
     "data": {
      "text/html": [
       "<html><script type=\"math/tex; mode=display\">\\newcommand{\\Bold}[1]{\\mathbf{#1}}6</script></html>"
      ],
      "text/plain": [
       "6"
      ]
     },
     "metadata": {},
     "output_type": "display_data"
    }
   ],
   "source": [
    "show(len(X_solns))\n",
    "show(len(L_solns))"
   ]
  },
  {
   "cell_type": "code",
   "execution_count": 121,
   "metadata": {},
   "outputs": [
    {
     "data": {
      "text/html": [
       "<html><script type=\"math/tex; mode=display\">\\newcommand{\\Bold}[1]{\\mathbf{#1}}\\left[\\left(1, 1, 1\\right), \\left(1, 1, 1\\right), \\left(1, 1, 1\\right), \\left(1, 1, 1\\right), \\left(1, 1, 1\\right), \\left(1, 1, 1\\right)\\right]</script></html>"
      ],
      "text/plain": [
       "[(1, 1, 1), (1, 1, 1), (1, 1, 1), (1, 1, 1), (1, 1, 1), (1, 1, 1)]"
      ]
     },
     "metadata": {},
     "output_type": "display_data"
    },
    {
     "data": {
      "text/html": [
       "<html><script type=\"math/tex; mode=display\">\\newcommand{\\Bold}[1]{\\mathbf{#1}}6</script></html>"
      ],
      "text/plain": [
       "6"
      ]
     },
     "execution_count": 121,
     "metadata": {},
     "output_type": "execute_result"
    }
   ],
   "source": [
    "Nis = [( Ni(u[0]), Ni(u[1]), Ni(u[2])  ) for u in L_solns]\n",
    "show(Nis)\n",
    "sum([product(ni) for ni in Nis])"
   ]
  },
  {
   "cell_type": "code",
   "execution_count": 114,
   "metadata": {},
   "outputs": [
    {
     "name": "stdout",
     "output_type": "stream",
     "text": [
      "6\n",
      "36\n",
      "126\n"
     ]
    },
    {
     "data": {
      "text/html": [
       "<html><script type=\"math/tex; mode=display\">\\newcommand{\\Bold}[1]{\\mathbf{#1}}126 \\, y^{3} + 36 \\, y^{2} + 6 \\, y</script></html>"
      ],
      "text/plain": [
       "126*y^3 + 36*y^2 + 6*y"
      ]
     },
     "metadata": {},
     "output_type": "display_data"
    }
   ],
   "source": [
    "# Manually compute number of solutions for extensions.\n",
    "var('y')\n",
    "gx = 0*y\n",
    "for q in range(3):\n",
    "    X = ProjectiveSpace(2)/ K.extension(q+1)\n",
    "    solns = [x for x in X if  f(x) == 0]\n",
    "    num_solns = len(solns)\n",
    "    print(num_solns)\n",
    "    gx = gx +  num_solns * y^(q+1)\n",
    "show(gx)"
   ]
  },
  {
   "cell_type": "code",
   "execution_count": 120,
   "metadata": {},
   "outputs": [
    {
     "data": {
      "text/html": [
       "<html><script type=\"math/tex; mode=display\">\\newcommand{\\Bold}[1]{\\mathbf{#1}}6t + 36t^{2} + 126t^{3} + O(t^{4})</script></html>"
      ],
      "text/plain": [
       "6*t + 36*t^2 + 126*t^3 + O(t^4)"
      ]
     },
     "metadata": {},
     "output_type": "display_data"
    }
   ],
   "source": [
    "P.<x,y,z> = ProjectiveSpace(K, 2)\n",
    "X = P.subscheme( f((x,y,z)) )\n",
    "R.<t> = PowerSeriesRing(Integers())\n",
    "zx = X.zeta_series(3,t)\n",
    "#show(zx)\n",
    "show(t * log(zx).derivative(t))"
   ]
  },
  {
   "cell_type": "code",
   "execution_count": 20,
   "metadata": {},
   "outputs": [
    {
     "data": {
      "text/html": [
       "<html><script type=\"math/tex; mode=display\">\\newcommand{\\Bold}[1]{\\mathbf{#1}}\\left(\\begin{array}{rrrr}\n",
       "1 & 1 & 1 & 1 \\\\\n",
       "1 & -1 & 1 & -1 \\\\\n",
       "1 & \\zeta_{4} & -1 & -\\zeta_{4} \\\\\n",
       "1 & -\\zeta_{4} & -1 & \\zeta_{4}\n",
       "\\end{array}\\right)</script></html>"
      ],
      "text/plain": [
       "[     1      1      1      1]\n",
       "[     1     -1      1     -1]\n",
       "[     1  zeta4     -1 -zeta4]\n",
       "[     1 -zeta4     -1  zeta4]"
      ]
     },
     "execution_count": 20,
     "metadata": {},
     "output_type": "execute_result"
    }
   ],
   "source": [
    "Kstar = K.unit_group()\n",
    "\n",
    "Kstar.permutation_group().character_table()"
   ]
  },
  {
   "cell_type": "code",
   "execution_count": 21,
   "metadata": {},
   "outputs": [
    {
     "name": "stdout",
     "output_type": "stream",
     "text": [
      "CT1\n",
      "\n",
      "     2  2  2  2  2\n",
      "\n",
      "       1a 4a 2a 4b\n",
      "\n",
      "X.1     1  1  1  1\n",
      "X.2     1 -1  1 -1\n",
      "X.3     1  A -1 -A\n",
      "X.4     1 -A -1  A\n",
      "\n",
      "A = E(4)\n",
      "  = Sqrt(-1) = i\n"
     ]
    }
   ],
   "source": [
    "CT = gap(Kstar).CharacterTable()\n",
    "print(gap.eval(\"Display(%s)\"%CT.name()))"
   ]
  },
  {
   "cell_type": "code",
   "execution_count": 4,
   "metadata": {},
   "outputs": [],
   "source": [
    "#w = Kstar.gen()\n",
    "#w\n",
    "\n",
    "def chi_alpha(alpha):\n",
    "    return(exp(2*pi *i *alpha))"
   ]
  },
  {
   "cell_type": "code",
   "execution_count": 9,
   "metadata": {},
   "outputs": [
    {
     "data": {
      "text/plain": [
       "-cos(1/7*pi) + I*sin(1/7*pi)"
      ]
     },
     "execution_count": 9,
     "metadata": {},
     "output_type": "execute_result"
    }
   ],
   "source": [
    "z = chi_alpha(3/7)\n",
    "z.rectform()"
   ]
  },
  {
   "cell_type": "code",
   "execution_count": null,
   "metadata": {},
   "outputs": [],
   "source": [
    "def new_Ni(u):\n",
    "    sum( [chi_alpha() for i in range(di-1)] )"
   ]
  }
 ],
 "metadata": {
  "kernelspec": {
   "display_name": "SageMath 9.1.beta4",
   "language": "sage",
   "name": "sagemath"
  },
  "language_info": {
   "codemirror_mode": {
    "name": "ipython",
    "version": 3
   },
   "file_extension": ".py",
   "mimetype": "text/x-python",
   "name": "python",
   "nbconvert_exporter": "python",
   "pygments_lexer": "ipython3",
   "version": "3.7.3"
  }
 },
 "nbformat": 4,
 "nbformat_minor": 2
}
