{
 "cells": [
  {
   "cell_type": "code",
   "execution_count": 91,
   "metadata": {},
   "outputs": [],
   "source": [
    "%display latex\n",
    "import code as pc\n",
    "import numpy as np\n",
    "Partitions.options.latex='list'\n",
    "\n",
    "# Given a partition \n",
    "def to_fock(partition):\n",
    "    return vector([(x-(i+1)) for i, x in enumerate(partition)])\n",
    "\n",
    "def to_partition(fock_vector):\n",
    "    return Partition([(x+(i+1)) for i, x in enumerate(fock_vector)])\n",
    "\n",
    "\n",
    "# Take a list, sort it into weakly decreasing order using only\n",
    "# transpositions, and count the number of transpositions needed.\n",
    "def num_swaps(L):\n",
    "    Lp = copy(L)\n",
    "    swapcount = 0\n",
    "    for j in range(len(Lp)):\n",
    "        for i in range(1, len(Lp)-j):\n",
    "            if Lp[i-1] > Lp[i]:\n",
    "                swapcount += 1\n",
    "                Lp[i-1], Lp[i] = Lp[i], Lp[i-1]\n",
    "    sign = -1 if swapcount % 2 == 0 else 1\n",
    "    Lpp = list(Lp)\n",
    "    Lpp.reverse()\n",
    "    return vector(Lpp), sign\n",
    "\n",
    "def do_mult(l):\n",
    "    (v, s) = num_swaps(l)\n",
    "    return(s*v)"
   ]
  },
  {
   "cell_type": "code",
   "execution_count": 92,
   "metadata": {},
   "outputs": [],
   "source": [
    "def alpha(k, v_lambda):\n",
    "    \n",
    "    # Length of fock vector\n",
    "    n = len(v_lambda)\n",
    "    \n",
    "    # Stack n copies of v_lambda up as the rows of an nxn matrix\n",
    "    V = Matrix([ v_lambda for i in range(n) ])\n",
    "    \n",
    "    # A scalar matrix for k\n",
    "    kI = identity_matrix(n) * k\n",
    "    \n",
    "    # Subtract k off of the diagonal\n",
    "    M = V - kI\n",
    "    \n",
    "    # Sorted vectors, with the (signs of the) number of transpositions\n",
    "    # Throw away vectors with repeated entries, since these\n",
    "    # wedge to zero.\n",
    "    L = [do_mult(R) for R in M.rows() if len(R) == len(set(R))]\n",
    "    return(sum(L))\n",
    "\n",
    "def alphap(k, v_lambda):\n",
    "    \n",
    "    # Length of fock vector\n",
    "    n = len(v_lambda)\n",
    "    \n",
    "    # Stack n copies of v_lambda up as the rows of an nxn matrix\n",
    "    V = Matrix([ v_lambda for i in range(n) ])\n",
    "    \n",
    "    # A scalar matrix for k\n",
    "    kI = identity_matrix(n) * k\n",
    "    \n",
    "    # Subtract k off of the diagonal\n",
    "    M = V - kI\n",
    "    \n",
    "    # Sorted vectors, with the (signs of the) number of transpositions\n",
    "    # Throw away vectors with repeated entries, since these\n",
    "    # wedge to zero.\n",
    "    L = [num_swaps(R) for R in M.rows() if len(R) == len(set(R))]\n",
    "    \n",
    "    match_out1 = [ l[0] for l in L ]\n",
    "    match_out2 = [ l[1] for l in L ]\n",
    "    return([ match_out1, match_out2 ])"
   ]
  },
  {
   "cell_type": "code",
   "execution_count": 12,
   "metadata": {},
   "outputs": [
    {
     "data": {
      "text/html": [
       "<html><script type=\"math/tex; mode=display\">\\newcommand{\\Bold}[1]{\\mathbf{#1}}\\left[3, 1, 1\\right]</script></html>"
      ],
      "text/plain": [
       "[3, 1, 1]"
      ]
     },
     "metadata": {},
     "output_type": "display_data"
    }
   ],
   "source": [
    "l = [3,1,1]\n",
    "v_l = to_fock(l)\n",
    "show(l)"
   ]
  },
  {
   "cell_type": "code",
   "execution_count": 13,
   "metadata": {},
   "outputs": [
    {
     "data": {
      "text/html": [
       "<html><script type=\"math/tex; mode=display\">\\newcommand{\\Bold}[1]{\\mathbf{#1}}\\left(3,\\,-2,\\,-5\\right)</script></html>"
      ],
      "text/plain": [
       "(3, -2, -5)"
      ]
     },
     "execution_count": 13,
     "metadata": {},
     "output_type": "execute_result"
    }
   ],
   "source": [
    "A = alpha(1, v_l)\n",
    "A"
   ]
  },
  {
   "cell_type": "code",
   "execution_count": 121,
   "metadata": {},
   "outputs": [
    {
     "data": {
      "text/html": [
       "<html><script type=\"math/tex; mode=display\">\\newcommand{\\Bold}[1]{\\mathbf{#1}}[5] \\verb|_____| \\left(4,\\,0,\\,0,\\,0,\\,0,\\,0,\\,0\\right)</script></html>"
      ],
      "text/plain": [
       "[5] '_____' (4, 0, 0, 0, 0, 0, 0)"
      ]
     },
     "metadata": {},
     "output_type": "display_data"
    },
    {
     "data": {
      "text/html": [
       "<html><script type=\"math/tex; mode=display\">\\newcommand{\\Bold}[1]{\\mathbf{#1}}[4, 1] \\verb|_____| \\left(3,\\,-1,\\,0,\\,0,\\,0,\\,0,\\,0\\right)</script></html>"
      ],
      "text/plain": [
       "[4, 1] '_____' (3, -1, 0, 0, 0, 0, 0)"
      ]
     },
     "metadata": {},
     "output_type": "display_data"
    },
    {
     "data": {
      "text/html": [
       "<html><script type=\"math/tex; mode=display\">\\newcommand{\\Bold}[1]{\\mathbf{#1}}[3, 2] \\verb|_____| \\left(2,\\,0,\\,0,\\,0,\\,0,\\,0,\\,0\\right)</script></html>"
      ],
      "text/plain": [
       "[3, 2] '_____' (2, 0, 0, 0, 0, 0, 0)"
      ]
     },
     "metadata": {},
     "output_type": "display_data"
    },
    {
     "data": {
      "text/html": [
       "<html><script type=\"math/tex; mode=display\">\\newcommand{\\Bold}[1]{\\mathbf{#1}}[3, 1, 1] \\verb|_____| \\left(2,\\,-1,\\,-2,\\,0,\\,0,\\,0,\\,0\\right)</script></html>"
      ],
      "text/plain": [
       "[3, 1, 1] '_____' (2, -1, -2, 0, 0, 0, 0)"
      ]
     },
     "metadata": {},
     "output_type": "display_data"
    },
    {
     "data": {
      "text/html": [
       "<html><script type=\"math/tex; mode=display\">\\newcommand{\\Bold}[1]{\\mathbf{#1}}[2, 2, 1] \\verb|_____| \\left(1,\\,0,\\,-2,\\,0,\\,0,\\,0,\\,0\\right)</script></html>"
      ],
      "text/plain": [
       "[2, 2, 1] '_____' (1, 0, -2, 0, 0, 0, 0)"
      ]
     },
     "metadata": {},
     "output_type": "display_data"
    },
    {
     "data": {
      "text/html": [
       "<html><script type=\"math/tex; mode=display\">\\newcommand{\\Bold}[1]{\\mathbf{#1}}[2, 1, 1, 1] \\verb|_____| \\left(1,\\,-1,\\,-2,\\,-3,\\,0,\\,0,\\,0\\right)</script></html>"
      ],
      "text/plain": [
       "[2, 1, 1, 1] '_____' (1, -1, -2, -3, 0, 0, 0)"
      ]
     },
     "metadata": {},
     "output_type": "display_data"
    },
    {
     "data": {
      "text/html": [
       "<html><script type=\"math/tex; mode=display\">\\newcommand{\\Bold}[1]{\\mathbf{#1}}[1, 1, 1, 1, 1] \\verb|_____| \\left(0,\\,-1,\\,-2,\\,-3,\\,-4,\\,0,\\,0\\right)</script></html>"
      ],
      "text/plain": [
       "[1, 1, 1, 1, 1] '_____' (0, -1, -2, -3, -4, 0, 0)"
      ]
     },
     "metadata": {},
     "output_type": "display_data"
    },
    {
     "data": {
      "text/html": [
       "<html><script type=\"math/tex; mode=display\">\\newcommand{\\Bold}[1]{\\mathbf{#1}}\\left(\\begin{array}{rrrrrrr}\n",
       "4 & 3 & 2 & 2 & 1 & 1 & 0 \\\\\n",
       "0 & -1 & 0 & -1 & 0 & -1 & -1 \\\\\n",
       "0 & 0 & 0 & -2 & -2 & -2 & -2 \\\\\n",
       "0 & 0 & 0 & 0 & 0 & -3 & -3 \\\\\n",
       "0 & 0 & 0 & 0 & 0 & 0 & -4 \\\\\n",
       "0 & 0 & 0 & 0 & 0 & 0 & 0 \\\\\n",
       "0 & 0 & 0 & 0 & 0 & 0 & 0\n",
       "\\end{array}\\right)</script></html>"
      ],
      "text/plain": [
       "[ 4  3  2  2  1  1  0]\n",
       "[ 0 -1  0 -1  0 -1 -1]\n",
       "[ 0  0  0 -2 -2 -2 -2]\n",
       "[ 0  0  0  0  0 -3 -3]\n",
       "[ 0  0  0  0  0  0 -4]\n",
       "[ 0  0  0  0  0  0  0]\n",
       "[ 0  0  0  0  0  0  0]"
      ]
     },
     "execution_count": 121,
     "metadata": {},
     "output_type": "execute_result"
    }
   ],
   "source": [
    "parts = Partitions(5).list()\n",
    "n = 5\n",
    "m = len(parts)\n",
    "\n",
    "M = identity_matrix(ZZ, m)\n",
    "\n",
    "def pad_to_n(v):\n",
    "    vp = (list(v) + m * [0])[:m]\n",
    "    return(vector(vp))\n",
    "\n",
    "for i,p in enumerate(parts):\n",
    "    a = pad_to_n(to_fock(p))\n",
    "    M.set_column(i, a)\n",
    "    show(p, \"_____\", a)\n",
    "M"
   ]
  },
  {
   "cell_type": "code",
   "execution_count": 75,
   "metadata": {},
   "outputs": [
    {
     "data": {
      "text/html": [
       "<html><script type=\"math/tex; mode=display\">\\newcommand{\\Bold}[1]{\\mathbf{#1}}7</script></html>"
      ],
      "text/plain": [
       "7"
      ]
     },
     "execution_count": 75,
     "metadata": {},
     "output_type": "execute_result"
    }
   ],
   "source": [
    "len(parts)"
   ]
  },
  {
   "cell_type": "code",
   "execution_count": 81,
   "metadata": {},
   "outputs": [
    {
     "data": {
      "text/html": [
       "<html><script type=\"math/tex; mode=display\">\\newcommand{\\Bold}[1]{\\mathbf{#1}}\\left(-5,\\,0,\\,3\\right)</script></html>"
      ],
      "text/plain": [
       "(-5, 0, 3)"
      ]
     },
     "metadata": {},
     "output_type": "display_data"
    },
    {
     "data": {
      "text/html": [
       "<html><script type=\"math/tex; mode=display\">\\newcommand{\\Bold}[1]{\\mathbf{#1}}\\left(-5,\\,0,\\,3,\\,0,\\,0,\\,0,\\,0\\right)</script></html>"
      ],
      "text/plain": [
       "(-5, 0, 3, 0, 0, 0, 0)"
      ]
     },
     "metadata": {},
     "output_type": "display_data"
    }
   ],
   "source": [
    "out = alpha(-2, alpha(-3, v_l))\n",
    "show(out)\n",
    "show(pad_to_n(out))"
   ]
  },
  {
   "cell_type": "code",
   "execution_count": 84,
   "metadata": {},
   "outputs": [
    {
     "data": {
      "text/html": [
       "<html><script type=\"math/tex; mode=display\">\\newcommand{\\Bold}[1]{\\mathbf{#1}}\\left(-20,\\,-15,\\,-10,\\,-16,\\,-11,\\,-11,\\,-6\\right)</script></html>"
      ],
      "text/plain": [
       "(-20, -15, -10, -16, -11, -11, -6)"
      ]
     },
     "execution_count": 84,
     "metadata": {},
     "output_type": "execute_result"
    }
   ],
   "source": [
    "v = pad_to_n(out)\n",
    "w = M.T*v\n",
    "w"
   ]
  },
  {
   "cell_type": "code",
   "execution_count": 86,
   "metadata": {},
   "outputs": [
    {
     "data": {
      "text/html": [
       "<html><script type=\"math/tex; mode=display\">\\newcommand{\\Bold}[1]{\\mathbf{#1}}\\left(-20,\\,-15,\\,-10,\\,-16,\\,-11,\\,-11,\\,-6\\right)</script></html>"
      ],
      "text/plain": [
       "(-20, -15, -10, -16, -11, -11, -6)"
      ]
     },
     "execution_count": 86,
     "metadata": {},
     "output_type": "execute_result"
    }
   ],
   "source": [
    "w"
   ]
  },
  {
   "cell_type": "code",
   "execution_count": 47,
   "metadata": {},
   "outputs": [
    {
     "data": {
      "text/html": [
       "<html><script type=\"math/tex; mode=display\">\\newcommand{\\Bold}[1]{\\mathbf{#1}}5</script></html>"
      ],
      "text/plain": [
       "5"
      ]
     },
     "execution_count": 47,
     "metadata": {},
     "output_type": "execute_result"
    }
   ],
   "source": [
    "p.size()"
   ]
  },
  {
   "cell_type": "code",
   "execution_count": 48,
   "metadata": {},
   "outputs": [
    {
     "data": {
      "text/html": [
       "<html><script type=\"math/tex; mode=display\">\\newcommand{\\Bold}[1]{\\mathbf{#1}}\\Bold{Z}^{5}</script></html>"
      ],
      "text/plain": [
       "Ambient free module of rank 5 over the principal ideal domain Integer Ring"
      ]
     },
     "execution_count": 48,
     "metadata": {},
     "output_type": "execute_result"
    }
   ],
   "source": [
    "n = p.size()\n",
    "ZZ^n"
   ]
  },
  {
   "cell_type": "code",
   "execution_count": 88,
   "metadata": {},
   "outputs": [
    {
     "data": {
      "text/html": [
       "<html><script type=\"math/tex; mode=display\">\\newcommand{\\Bold}[1]{\\mathbf{#1}}\\left(2,\\,-1,\\,-2\\right)</script></html>"
      ],
      "text/plain": [
       "(2, -1, -2)"
      ]
     },
     "execution_count": 88,
     "metadata": {},
     "output_type": "execute_result"
    }
   ],
   "source": [
    "lll = Partition([3,1,1])\n",
    "to_fock(lll)"
   ]
  },
  {
   "cell_type": "code",
   "execution_count": 94,
   "metadata": {},
   "outputs": [
    {
     "data": {
      "text/html": [
       "<html><script type=\"math/tex; mode=display\">\\newcommand{\\Bold}[1]{\\mathbf{#1}}\\left[\\left[\\left(5,\\,-1,\\,-2\\right), \\left(2,\\,1,\\,-1\\right)\\right], \\left[1, -1\\right]\\right]</script></html>"
      ],
      "text/plain": [
       "[[(5, -1, -2), (2, 1, -1)], [1, -1]]"
      ]
     },
     "execution_count": 94,
     "metadata": {},
     "output_type": "execute_result"
    }
   ],
   "source": [
    "alphap(-3, to_fock(lll))"
   ]
  },
  {
   "cell_type": "code",
   "execution_count": 144,
   "metadata": {},
   "outputs": [
    {
     "data": {
      "text/html": [
       "<html><script type=\"math/tex; mode=display\">\\newcommand{\\Bold}[1]{\\mathbf{#1}}\\left(-5,\\,0,\\,3\\right)</script></html>"
      ],
      "text/plain": [
       "(-5, 0, 3)"
      ]
     },
     "execution_count": 144,
     "metadata": {},
     "output_type": "execute_result"
    }
   ],
   "source": [
    "w1 = alpha(-3, to_fock(lll))\n",
    "w = alpha(-2, w1)\n",
    "w"
   ]
  },
  {
   "cell_type": "code",
   "execution_count": 145,
   "metadata": {},
   "outputs": [
    {
     "data": {
      "text/html": [
       "<html><script type=\"math/tex; mode=display\">\\newcommand{\\Bold}[1]{\\mathbf{#1}}\\left(-5,\\,0,\\,3,\\,-4,\\,-5,\\,-6,\\,-7\\right)</script></html>"
      ],
      "text/plain": [
       "(-5, 0, 3, -4, -5, -6, -7)"
      ]
     },
     "execution_count": 145,
     "metadata": {},
     "output_type": "execute_result"
    }
   ],
   "source": [
    "wp = padout(w)\n",
    "wp"
   ]
  },
  {
   "cell_type": "code",
   "execution_count": 148,
   "metadata": {},
   "outputs": [
    {
     "data": {
      "text/html": [
       "<html><script type=\"math/tex; mode=display\">\\newcommand{\\Bold}[1]{\\mathbf{#1}}\\left(-33,\\,27,\\,50,\\,83,\\,113,\\,144,\\,168\\right)</script></html>"
      ],
      "text/plain": [
       "(-33, 27, 50, 83, 113, 144, 168)"
      ]
     },
     "execution_count": 148,
     "metadata": {},
     "output_type": "execute_result"
    }
   ],
   "source": [
    "M*wp"
   ]
  },
  {
   "cell_type": "code",
   "execution_count": 108,
   "metadata": {},
   "outputs": [
    {
     "data": {
      "text/html": [
       "<html><script type=\"math/tex; mode=display\">\\newcommand{\\Bold}[1]{\\mathbf{#1}}\\left(2,\\,-4,\\,-4,\\,-4,\\,-5,\\,-6,\\,-7\\right)</script></html>"
      ],
      "text/plain": [
       "(2, -4, -4, -4, -5, -6, -7)"
      ]
     },
     "execution_count": 108,
     "metadata": {},
     "output_type": "execute_result"
    }
   ],
   "source": [
    "to_fock(pad_to_n(wp))"
   ]
  },
  {
   "cell_type": "code",
   "execution_count": 135,
   "metadata": {},
   "outputs": [],
   "source": [
    "def padout(partition):\n",
    "    v0 = zero_vector(7)\n",
    "    for i in range(7):\n",
    "        if i < len(partition):\n",
    "            v0[i] = partition[i]\n",
    "        else:\n",
    "            v0[i] = -i-1\n",
    "    return(v0)"
   ]
  },
  {
   "cell_type": "code",
   "execution_count": 136,
   "metadata": {},
   "outputs": [
    {
     "data": {
      "text/html": [
       "<html><script type=\"math/tex; mode=display\">\\newcommand{\\Bold}[1]{\\mathbf{#1}}\\left(2,\\,-1,\\,-2,\\,-4,\\,-5,\\,-6,\\,-7\\right)</script></html>"
      ],
      "text/plain": [
       "(2, -1, -2, -4, -5, -6, -7)"
      ]
     },
     "execution_count": 136,
     "metadata": {},
     "output_type": "execute_result"
    }
   ],
   "source": [
    "padout([2,-1,-2])"
   ]
  },
  {
   "cell_type": "code",
   "execution_count": 138,
   "metadata": {},
   "outputs": [
    {
     "data": {
      "text/html": [
       "<html><script type=\"math/tex; mode=display\">\\newcommand{\\Bold}[1]{\\mathbf{#1}}\\left(4,\\,-2,\\,-3,\\,-4,\\,-5,\\,-6,\\,-7\\right)</script></html>"
      ],
      "text/plain": [
       "(4, -2, -3, -4, -5, -6, -7)"
      ]
     },
     "metadata": {},
     "output_type": "display_data"
    },
    {
     "data": {
      "text/html": [
       "<html><script type=\"math/tex; mode=display\">\\newcommand{\\Bold}[1]{\\mathbf{#1}}\\left(3,\\,-1,\\,-3,\\,-4,\\,-5,\\,-6,\\,-7\\right)</script></html>"
      ],
      "text/plain": [
       "(3, -1, -3, -4, -5, -6, -7)"
      ]
     },
     "metadata": {},
     "output_type": "display_data"
    },
    {
     "data": {
      "text/html": [
       "<html><script type=\"math/tex; mode=display\">\\newcommand{\\Bold}[1]{\\mathbf{#1}}\\left(2,\\,0,\\,-3,\\,-4,\\,-5,\\,-6,\\,-7\\right)</script></html>"
      ],
      "text/plain": [
       "(2, 0, -3, -4, -5, -6, -7)"
      ]
     },
     "metadata": {},
     "output_type": "display_data"
    },
    {
     "data": {
      "text/html": [
       "<html><script type=\"math/tex; mode=display\">\\newcommand{\\Bold}[1]{\\mathbf{#1}}\\left(2,\\,-1,\\,-2,\\,-4,\\,-5,\\,-6,\\,-7\\right)</script></html>"
      ],
      "text/plain": [
       "(2, -1, -2, -4, -5, -6, -7)"
      ]
     },
     "metadata": {},
     "output_type": "display_data"
    },
    {
     "data": {
      "text/html": [
       "<html><script type=\"math/tex; mode=display\">\\newcommand{\\Bold}[1]{\\mathbf{#1}}\\left(1,\\,0,\\,-2,\\,-4,\\,-5,\\,-6,\\,-7\\right)</script></html>"
      ],
      "text/plain": [
       "(1, 0, -2, -4, -5, -6, -7)"
      ]
     },
     "metadata": {},
     "output_type": "display_data"
    },
    {
     "data": {
      "text/html": [
       "<html><script type=\"math/tex; mode=display\">\\newcommand{\\Bold}[1]{\\mathbf{#1}}\\left(1,\\,-1,\\,-2,\\,-3,\\,-5,\\,-6,\\,-7\\right)</script></html>"
      ],
      "text/plain": [
       "(1, -1, -2, -3, -5, -6, -7)"
      ]
     },
     "metadata": {},
     "output_type": "display_data"
    },
    {
     "data": {
      "text/html": [
       "<html><script type=\"math/tex; mode=display\">\\newcommand{\\Bold}[1]{\\mathbf{#1}}\\left(0,\\,-1,\\,-2,\\,-3,\\,-4,\\,-6,\\,-7\\right)</script></html>"
      ],
      "text/plain": [
       "(0, -1, -2, -3, -4, -6, -7)"
      ]
     },
     "metadata": {},
     "output_type": "display_data"
    },
    {
     "data": {
      "text/html": [
       "<html><script type=\"math/tex; mode=display\">\\newcommand{\\Bold}[1]{\\mathbf{#1}}\\left(\\begin{array}{rrrrrrr}\n",
       "4 & 3 & 2 & 2 & 1 & 1 & 0 \\\\\n",
       "-2 & -1 & 0 & -1 & 0 & -1 & -1 \\\\\n",
       "-3 & -3 & -3 & -2 & -2 & -2 & -2 \\\\\n",
       "-4 & -4 & -4 & -4 & -4 & -3 & -3 \\\\\n",
       "-5 & -5 & -5 & -5 & -5 & -5 & -4 \\\\\n",
       "-6 & -6 & -6 & -6 & -6 & -6 & -6 \\\\\n",
       "-7 & -7 & -7 & -7 & -7 & -7 & -7\n",
       "\\end{array}\\right)</script></html>"
      ],
      "text/plain": [
       "[ 4  3  2  2  1  1  0]\n",
       "[-2 -1  0 -1  0 -1 -1]\n",
       "[-3 -3 -3 -2 -2 -2 -2]\n",
       "[-4 -4 -4 -4 -4 -3 -3]\n",
       "[-5 -5 -5 -5 -5 -5 -4]\n",
       "[-6 -6 -6 -6 -6 -6 -6]\n",
       "[-7 -7 -7 -7 -7 -7 -7]"
      ]
     },
     "execution_count": 138,
     "metadata": {},
     "output_type": "execute_result"
    }
   ],
   "source": [
    "M = identity_matrix(ZZ, 7)\n",
    "parts = Partitions(5)\n",
    "for i,p in enumerate(parts):\n",
    "    a = padout(to_fock(p))\n",
    "    show(a)\n",
    "    M.set_column(i, a)\n",
    "M"
   ]
  },
  {
   "cell_type": "code",
   "execution_count": 139,
   "metadata": {},
   "outputs": [
    {
     "ename": "ZeroDivisionError",
     "evalue": "matrix must be nonsingular",
     "output_type": "error",
     "traceback": [
      "\u001b[1;31m---------------------------------------------------------------------------\u001b[0m",
      "\u001b[1;31mZeroDivisionError\u001b[0m                         Traceback (most recent call last)",
      "\u001b[1;32m<ipython-input-139-2bab655759d9>\u001b[0m in \u001b[0;36m<module>\u001b[1;34m()\u001b[0m\n\u001b[1;32m----> 1\u001b[1;33m \u001b[0mM\u001b[0m\u001b[1;33m.\u001b[0m\u001b[0minverse\u001b[0m\u001b[1;33m(\u001b[0m\u001b[1;33m)\u001b[0m\u001b[1;33m\u001b[0m\u001b[1;33m\u001b[0m\u001b[0m\n\u001b[0m",
      "\u001b[1;32m/home/zack/sage/local/lib/python3.7/site-packages/sage/matrix/matrix2.pyx\u001b[0m in \u001b[0;36msage.matrix.matrix2.Matrix.inverse (build/cythonized/sage/matrix/matrix2.c:67168)\u001b[1;34m()\u001b[0m\n\u001b[0;32m   8928\u001b[0m \u001b[1;33m\u001b[0m\u001b[0m\n\u001b[0;32m   8929\u001b[0m         \"\"\"\n\u001b[1;32m-> 8930\u001b[1;33m         \u001b[1;32mreturn\u001b[0m \u001b[1;33m~\u001b[0m\u001b[0mself\u001b[0m\u001b[1;33m\u001b[0m\u001b[1;33m\u001b[0m\u001b[0m\n\u001b[0m\u001b[0;32m   8931\u001b[0m \u001b[1;33m\u001b[0m\u001b[0m\n\u001b[0;32m   8932\u001b[0m     \u001b[1;32mdef\u001b[0m \u001b[0madjugate\u001b[0m\u001b[1;33m(\u001b[0m\u001b[0mself\u001b[0m\u001b[1;33m)\u001b[0m\u001b[1;33m:\u001b[0m\u001b[1;33m\u001b[0m\u001b[1;33m\u001b[0m\u001b[0m\n",
      "\u001b[1;32m/home/zack/sage/local/lib/python3.7/site-packages/sage/matrix/matrix_integer_dense.pyx\u001b[0m in \u001b[0;36msage.matrix.matrix_integer_dense.Matrix_integer_dense.__invert__ (build/cythonized/sage/matrix/matrix_integer_dense.c:33270)\u001b[1;34m()\u001b[0m\n\u001b[0;32m   4105\u001b[0m             \u001b[0mZeroDivisionError\u001b[0m\u001b[1;33m:\u001b[0m \u001b[0mmatrix\u001b[0m \u001b[0mmust\u001b[0m \u001b[0mbe\u001b[0m \u001b[0mnonsingular\u001b[0m\u001b[1;33m\u001b[0m\u001b[1;33m\u001b[0m\u001b[0m\n\u001b[0;32m   4106\u001b[0m         \"\"\"\n\u001b[1;32m-> 4107\u001b[1;33m         \u001b[0mA\u001b[0m\u001b[1;33m,\u001b[0m \u001b[0md\u001b[0m \u001b[1;33m=\u001b[0m \u001b[0mself\u001b[0m\u001b[1;33m.\u001b[0m\u001b[0m_invert_flint\u001b[0m\u001b[1;33m(\u001b[0m\u001b[1;33m)\u001b[0m\u001b[1;33m\u001b[0m\u001b[1;33m\u001b[0m\u001b[0m\n\u001b[0m\u001b[0;32m   4108\u001b[0m         \u001b[1;32mreturn\u001b[0m \u001b[0mA\u001b[0m \u001b[1;33m/\u001b[0m \u001b[0md\u001b[0m\u001b[1;33m\u001b[0m\u001b[1;33m\u001b[0m\u001b[0m\n\u001b[0;32m   4109\u001b[0m \u001b[1;33m\u001b[0m\u001b[0m\n",
      "\u001b[1;32m/home/zack/sage/local/lib/python3.7/site-packages/sage/matrix/matrix_integer_dense.pyx\u001b[0m in \u001b[0;36msage.matrix.matrix_integer_dense.Matrix_integer_dense._invert_flint (build/cythonized/sage/matrix/matrix_integer_dense.c:33109)\u001b[1;34m()\u001b[0m\n\u001b[0;32m   4066\u001b[0m         \u001b[0mfmpz_clear\u001b[0m\u001b[1;33m(\u001b[0m\u001b[0mfden\u001b[0m\u001b[1;33m)\u001b[0m\u001b[1;33m\u001b[0m\u001b[1;33m\u001b[0m\u001b[0m\n\u001b[0;32m   4067\u001b[0m         \u001b[1;32mif\u001b[0m \u001b[0mres\u001b[0m \u001b[1;33m==\u001b[0m \u001b[1;36m0\u001b[0m\u001b[1;33m:\u001b[0m\u001b[1;33m\u001b[0m\u001b[1;33m\u001b[0m\u001b[0m\n\u001b[1;32m-> 4068\u001b[1;33m             \u001b[1;32mraise\u001b[0m \u001b[0mZeroDivisionError\u001b[0m\u001b[1;33m(\u001b[0m\u001b[1;34m'matrix must be nonsingular'\u001b[0m\u001b[1;33m)\u001b[0m\u001b[1;33m\u001b[0m\u001b[1;33m\u001b[0m\u001b[0m\n\u001b[0m\u001b[0;32m   4069\u001b[0m         \u001b[1;32mif\u001b[0m \u001b[0mden\u001b[0m \u001b[1;33m<\u001b[0m \u001b[1;36m0\u001b[0m\u001b[1;33m:\u001b[0m\u001b[1;33m\u001b[0m\u001b[1;33m\u001b[0m\u001b[0m\n\u001b[0;32m   4070\u001b[0m             \u001b[1;32mreturn\u001b[0m \u001b[1;33m-\u001b[0m\u001b[0mM\u001b[0m\u001b[1;33m,\u001b[0m \u001b[1;33m-\u001b[0m\u001b[0mden\u001b[0m\u001b[1;33m\u001b[0m\u001b[1;33m\u001b[0m\u001b[0m\n",
      "\u001b[1;31mZeroDivisionError\u001b[0m: matrix must be nonsingular"
     ]
    }
   ],
   "source": [
    "M.inverse()"
   ]
  },
  {
   "cell_type": "code",
   "execution_count": null,
   "metadata": {},
   "outputs": [],
   "source": []
  }
 ],
 "metadata": {
  "kernelspec": {
   "display_name": "SageMath 9.1.beta4",
   "language": "sage",
   "name": "sagemath"
  },
  "language_info": {
   "codemirror_mode": {
    "name": "ipython",
    "version": 3
   },
   "file_extension": ".py",
   "mimetype": "text/x-python",
   "name": "python",
   "nbconvert_exporter": "python",
   "pygments_lexer": "ipython3",
   "version": "3.7.3"
  }
 },
 "nbformat": 4,
 "nbformat_minor": 2
}
