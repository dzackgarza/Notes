{
 "cells": [
  {
   "cell_type": "code",
   "execution_count": 2,
   "metadata": {},
   "outputs": [
    {
     "data": {
      "text/html": [
       "<html><script type=\"math/tex; mode=display\">\\newcommand{\\Bold}[1]{\\mathbf{#1}}\\left(u, v, a, b, c\\right)</script></html>"
      ],
      "text/plain": [
       "(u, v, a, b, c)"
      ]
     },
     "execution_count": 2,
     "metadata": {},
     "output_type": "execute_result"
    }
   ],
   "source": [
    "%display latex\n",
    "var('u', 'v', 'a', 'b', 'c')"
   ]
  },
  {
   "cell_type": "code",
   "execution_count": 3,
   "metadata": {},
   "outputs": [],
   "source": [
    "def FF1(X):\n",
    "    du = X.derivative(u)\n",
    "    dv = X.derivative(v)\n",
    "    E = du.inner_product(du)\n",
    "    F = du.inner_product(dv)\n",
    "    G = dv.inner_product(dv)\n",
    "    M = Matrix(2, [E,F,F,G])\n",
    "    return(M)"
   ]
  },
  {
   "cell_type": "code",
   "execution_count": 33,
   "metadata": {},
   "outputs": [
    {
     "data": {
      "text/html": [
       "<html><script type=\"math/tex; mode=display\">\\newcommand{\\Bold}[1]{\\mathbf{#1}}\\left(a \\cos\\left(v\\right) \\sin\\left(u\\right),\\,b \\sin\\left(u\\right) \\sin\\left(v\\right),\\,c \\cos\\left(u\\right)\\right)</script></html>"
      ],
      "text/plain": [
       "(a*cos(v)*sin(u), b*sin(u)*sin(v), c*cos(u))"
      ]
     },
     "metadata": {},
     "output_type": "display_data"
    },
    {
     "data": {
      "text/html": [
       "<html><script type=\"math/tex; mode=display\">\\newcommand{\\Bold}[1]{\\mathbf{#1}}\\left(\\begin{array}{rr}\n",
       "a^{2} \\cos\\left(u\\right)^{2} \\cos\\left(v\\right)^{2} + b^{2} \\cos\\left(u\\right)^{2} \\sin\\left(v\\right)^{2} + c^{2} \\sin\\left(u\\right)^{2} & -a^{2} \\cos\\left(u\\right) \\cos\\left(v\\right) \\sin\\left(u\\right) \\sin\\left(v\\right) + b^{2} \\cos\\left(u\\right) \\cos\\left(v\\right) \\sin\\left(u\\right) \\sin\\left(v\\right) \\\\\n",
       "-a^{2} \\cos\\left(u\\right) \\cos\\left(v\\right) \\sin\\left(u\\right) \\sin\\left(v\\right) + b^{2} \\cos\\left(u\\right) \\cos\\left(v\\right) \\sin\\left(u\\right) \\sin\\left(v\\right) & b^{2} \\cos\\left(v\\right)^{2} \\sin\\left(u\\right)^{2} + a^{2} \\sin\\left(u\\right)^{2} \\sin\\left(v\\right)^{2}\n",
       "\\end{array}\\right)</script></html>"
      ],
      "text/plain": [
       "[      a^2*cos(u)^2*cos(v)^2 + b^2*cos(u)^2*sin(v)^2 + c^2*sin(u)^2 -a^2*cos(u)*cos(v)*sin(u)*sin(v) + b^2*cos(u)*cos(v)*sin(u)*sin(v)]\n",
       "[-a^2*cos(u)*cos(v)*sin(u)*sin(v) + b^2*cos(u)*cos(v)*sin(u)*sin(v)                      b^2*cos(v)^2*sin(u)^2 + a^2*sin(u)^2*sin(v)^2]"
      ]
     },
     "metadata": {},
     "output_type": "display_data"
    }
   ],
   "source": [
    "X1 = vector([a*sin(u)*cos(v), b*sin(u) * sin(v), c*cos(u)])\n",
    "show(X1)\n",
    "show(FF1(X1))"
   ]
  },
  {
   "cell_type": "code",
   "execution_count": 34,
   "metadata": {},
   "outputs": [
    {
     "data": {
      "text/html": [
       "<html><script type=\"math/tex; mode=display\">\\newcommand{\\Bold}[1]{\\mathbf{#1}}\\left(a u \\cos\\left(v\\right),\\,b u \\sin\\left(v\\right),\\,u^{2}\\right)</script></html>"
      ],
      "text/plain": [
       "(a*u*cos(v), b*u*sin(v), u^2)"
      ]
     },
     "metadata": {},
     "output_type": "display_data"
    },
    {
     "data": {
      "text/html": [
       "<html><script type=\"math/tex; mode=display\">\\newcommand{\\Bold}[1]{\\mathbf{#1}}\\left(\\begin{array}{rr}\n",
       "a^{2} \\cos\\left(v\\right)^{2} + b^{2} \\sin\\left(v\\right)^{2} + 4 \\, u^{2} & -a^{2} u \\cos\\left(v\\right) \\sin\\left(v\\right) + b^{2} u \\cos\\left(v\\right) \\sin\\left(v\\right) \\\\\n",
       "-a^{2} u \\cos\\left(v\\right) \\sin\\left(v\\right) + b^{2} u \\cos\\left(v\\right) \\sin\\left(v\\right) & b^{2} u^{2} \\cos\\left(v\\right)^{2} + a^{2} u^{2} \\sin\\left(v\\right)^{2}\n",
       "\\end{array}\\right)</script></html>"
      ],
      "text/plain": [
       "[       a^2*cos(v)^2 + b^2*sin(v)^2 + 4*u^2 -a^2*u*cos(v)*sin(v) + b^2*u*cos(v)*sin(v)]\n",
       "[-a^2*u*cos(v)*sin(v) + b^2*u*cos(v)*sin(v)        b^2*u^2*cos(v)^2 + a^2*u^2*sin(v)^2]"
      ]
     },
     "metadata": {},
     "output_type": "display_data"
    }
   ],
   "source": [
    "X2 = vector([a*u*cos(v), b*u*sin(v), u^2])\n",
    "show(X2)\n",
    "show(FF1(X2))"
   ]
  },
  {
   "cell_type": "code",
   "execution_count": 35,
   "metadata": {},
   "outputs": [
    {
     "data": {
      "text/html": [
       "<html><script type=\"math/tex; mode=display\">\\newcommand{\\Bold}[1]{\\mathbf{#1}}\\left(a u \\cosh\\left(v\\right),\\,b u \\sinh\\left(v\\right),\\,u^{2}\\right)</script></html>"
      ],
      "text/plain": [
       "(a*u*cosh(v), b*u*sinh(v), u^2)"
      ]
     },
     "metadata": {},
     "output_type": "display_data"
    },
    {
     "data": {
      "text/html": [
       "<html><script type=\"math/tex; mode=display\">\\newcommand{\\Bold}[1]{\\mathbf{#1}}\\left(\\begin{array}{rr}\n",
       "a^{2} \\cosh\\left(v\\right)^{2} + b^{2} \\sinh\\left(v\\right)^{2} + 4 \\, u^{2} & a^{2} u \\cosh\\left(v\\right) \\sinh\\left(v\\right) + b^{2} u \\cosh\\left(v\\right) \\sinh\\left(v\\right) \\\\\n",
       "a^{2} u \\cosh\\left(v\\right) \\sinh\\left(v\\right) + b^{2} u \\cosh\\left(v\\right) \\sinh\\left(v\\right) & b^{2} u^{2} \\cosh\\left(v\\right)^{2} + a^{2} u^{2} \\sinh\\left(v\\right)^{2}\n",
       "\\end{array}\\right)</script></html>"
      ],
      "text/plain": [
       "[        a^2*cosh(v)^2 + b^2*sinh(v)^2 + 4*u^2 a^2*u*cosh(v)*sinh(v) + b^2*u*cosh(v)*sinh(v)]\n",
       "[a^2*u*cosh(v)*sinh(v) + b^2*u*cosh(v)*sinh(v)         b^2*u^2*cosh(v)^2 + a^2*u^2*sinh(v)^2]"
      ]
     },
     "metadata": {},
     "output_type": "display_data"
    }
   ],
   "source": [
    "X3 = vector([a*u*cosh(v), b*u*sinh(v), u^2])\n",
    "show(X3)\n",
    "show(FF1(X3))"
   ]
  },
  {
   "cell_type": "code",
   "execution_count": 36,
   "metadata": {},
   "outputs": [
    {
     "data": {
      "text/html": [
       "<html><script type=\"math/tex; mode=display\">\\newcommand{\\Bold}[1]{\\mathbf{#1}}\\left(a \\cosh\\left(v\\right) \\sinh\\left(u\\right),\\,b \\sin\\left(v\\right) \\sinh\\left(u\\right),\\,c \\cosh\\left(u\\right)\\right)</script></html>"
      ],
      "text/plain": [
       "(a*cosh(v)*sinh(u), b*sin(v)*sinh(u), c*cosh(u))"
      ]
     },
     "metadata": {},
     "output_type": "display_data"
    },
    {
     "data": {
      "text/html": [
       "<html><script type=\"math/tex; mode=display\">\\newcommand{\\Bold}[1]{\\mathbf{#1}}\\left(\\begin{array}{rr}\n",
       "a^{2} \\cosh\\left(u\\right)^{2} \\cosh\\left(v\\right)^{2} + b^{2} \\cosh\\left(u\\right)^{2} \\sin\\left(v\\right)^{2} + c^{2} \\sinh\\left(u\\right)^{2} & b^{2} \\cos\\left(v\\right) \\cosh\\left(u\\right) \\sin\\left(v\\right) \\sinh\\left(u\\right) + a^{2} \\cosh\\left(u\\right) \\cosh\\left(v\\right) \\sinh\\left(u\\right) \\sinh\\left(v\\right) \\\\\n",
       "b^{2} \\cos\\left(v\\right) \\cosh\\left(u\\right) \\sin\\left(v\\right) \\sinh\\left(u\\right) + a^{2} \\cosh\\left(u\\right) \\cosh\\left(v\\right) \\sinh\\left(u\\right) \\sinh\\left(v\\right) & b^{2} \\cos\\left(v\\right)^{2} \\sinh\\left(u\\right)^{2} + a^{2} \\sinh\\left(u\\right)^{2} \\sinh\\left(v\\right)^{2}\n",
       "\\end{array}\\right)</script></html>"
      ],
      "text/plain": [
       "[       a^2*cosh(u)^2*cosh(v)^2 + b^2*cosh(u)^2*sin(v)^2 + c^2*sinh(u)^2 b^2*cos(v)*cosh(u)*sin(v)*sinh(u) + a^2*cosh(u)*cosh(v)*sinh(u)*sinh(v)]\n",
       "[b^2*cos(v)*cosh(u)*sin(v)*sinh(u) + a^2*cosh(u)*cosh(v)*sinh(u)*sinh(v)                        b^2*cos(v)^2*sinh(u)^2 + a^2*sinh(u)^2*sinh(v)^2]"
      ]
     },
     "metadata": {},
     "output_type": "display_data"
    }
   ],
   "source": [
    "X4 = vector([a*sinh(u)*cosh(v), b*sinh(u)*sin(v), c*cosh(u)])\n",
    "show(X4)\n",
    "show(FF1(X4))"
   ]
  },
  {
   "cell_type": "code",
   "execution_count": 4,
   "metadata": {},
   "outputs": [
    {
     "data": {
      "text/html": [
       "<html><script type=\"math/tex; mode=display\">\\newcommand{\\Bold}[1]{\\mathbf{#1}}\\left(\\frac{4 \\, u}{u^{2} + v^{2} + 4},\\,\\frac{4 \\, v}{u^{2} + v^{2} + 4},\\,\\frac{2 \\, {\\left(u^{2} + v^{2}\\right)}}{u^{2} + v^{2} + 4}\\right)</script></html>"
      ],
      "text/plain": [
       "(4*u/(u^2 + v^2 + 4), 4*v/(u^2 + v^2 + 4), 2*(u^2 + v^2)/(u^2 + v^2 + 4))"
      ]
     },
     "execution_count": 4,
     "metadata": {},
     "output_type": "execute_result"
    }
   ],
   "source": [
    "uvnorm = u^2 + v^2 + 4\n",
    "pinv = vector([ 4*u/uvnorm, 4*v/uvnorm, 2*(u^2 + v^2)/uvnorm ])\n",
    "pinv"
   ]
  },
  {
   "cell_type": "code",
   "execution_count": 6,
   "metadata": {},
   "outputs": [
    {
     "data": {
      "text/html": [
       "<html><script type=\"math/tex; mode=display\">\\newcommand{\\Bold}[1]{\\mathbf{#1}}\\left(\\begin{array}{rr}\n",
       "\\frac{16}{u^{4} + v^{4} + 2 \\, {\\left(u^{2} + 4\\right)} v^{2} + 8 \\, u^{2} + 16} & 0 \\\\\n",
       "0 & \\frac{16}{u^{4} + v^{4} + 2 \\, {\\left(u^{2} + 4\\right)} v^{2} + 8 \\, u^{2} + 16}\n",
       "\\end{array}\\right)</script></html>"
      ],
      "text/plain": [
       "[16/(u^4 + v^4 + 2*(u^2 + 4)*v^2 + 8*u^2 + 16)                                             0]\n",
       "[                                            0 16/(u^4 + v^4 + 2*(u^2 + 4)*v^2 + 8*u^2 + 16)]"
      ]
     },
     "execution_count": 6,
     "metadata": {},
     "output_type": "execute_result"
    }
   ],
   "source": [
    "FF1(pinv).simplify_full()"
   ]
  },
  {
   "cell_type": "code",
   "execution_count": null,
   "metadata": {},
   "outputs": [],
   "source": []
  }
 ],
 "metadata": {
  "kernelspec": {
   "display_name": "SageMath 9.1.beta9",
   "language": "sage",
   "name": "sagemath"
  },
  "language_info": {
   "codemirror_mode": {
    "name": "ipython",
    "version": 3
   },
   "file_extension": ".py",
   "mimetype": "text/x-python",
   "name": "python",
   "nbconvert_exporter": "python",
   "pygments_lexer": "ipython3",
   "version": "3.7.3"
  }
 },
 "nbformat": 4,
 "nbformat_minor": 2
}
